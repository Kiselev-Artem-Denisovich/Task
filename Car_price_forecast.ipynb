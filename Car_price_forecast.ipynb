{
 "cells": [
  {
   "cell_type": "markdown",
   "metadata": {},
   "source": [
    "# Определение стоимости автомобилей"
   ]
  },
  {
   "cell_type": "markdown",
   "metadata": {},
   "source": [
    "Заказчику важны:\n",
    "\n",
    "- качество предсказания;\n",
    "- скорость предсказания;\n",
    "- время обучения."
   ]
  },
  {
   "cell_type": "markdown",
   "metadata": {},
   "source": [
    "Процесс работы:\n",
    "1) Выгрузить и подготовить данные для МО\n",
    "\n",
    "2) Провести быстрый анализ (если понадобиться в дальнейшем углубиться)\n",
    "\n",
    "3) Обучить несколько моделей и получить данные время обучения и точность\n",
    "\n",
    "4) Анализ МО\n",
    "\n",
    "5) Вывод"
   ]
  },
  {
   "cell_type": "markdown",
   "metadata": {},
   "source": [
    "## Подготовка данных"
   ]
  },
  {
   "cell_type": "code",
   "execution_count": null,
   "metadata": {},
   "outputs": [],
   "source": [
    "!pip install phik -q\n",
    "!pip install scikit-learn==1.1.3 -q\n",
    "!pip install category_encoders -q"
   ]
  },
  {
   "cell_type": "code",
   "execution_count": null,
   "metadata": {},
   "outputs": [],
   "source": [
    "import pandas as pd\n",
    "import numpy as np\n",
    "import seaborn as sns\n",
    "import matplotlib.pyplot as plt\n",
    "\n",
    "import phik\n",
    "\n",
    "from sklearn.preprocessing import OneHotEncoder\n",
    "from sklearn.model_selection import train_test_split\n",
    "from sklearn.impute import SimpleImputer\n",
    "from sklearn.preprocessing import StandardScaler,  MinMaxScaler, PolynomialFeatures, FunctionTransformer\n",
    "from sklearn.pipeline import Pipeline\n",
    "from sklearn.compose import ColumnTransformer\n",
    "from category_encoders import TargetEncoder\n",
    "from sklearn.ensemble import RandomForestRegressor\n",
    "\n",
    "from sklearn.linear_model import LinearRegression, SGDRegressor, Ridge, Lasso\n",
    "from sklearn.model_selection import GridSearchCV, KFold\n",
    "\n",
    "from sklearn.metrics import r2_score, mean_squared_error, mean_absolute_error, make_scorer\n",
    "from sklearn.feature_extraction import FeatureHasher\n",
    "import lightgbm as lgb"
   ]
  },
  {
   "cell_type": "code",
   "execution_count": null,
   "metadata": {},
   "outputs": [],
   "source": [
    "RANDOM_STATE = 42\n",
    "TEST_SIZE = 0.25"
   ]
  },
  {
   "cell_type": "code",
   "execution_count": null,
   "metadata": {},
   "outputs": [],
   "source": [
    "data_car = pd.read_csv('/datasets/autos.csv')\n",
    "data_car.head(5)                   "
   ]
  },
  {
   "cell_type": "code",
   "execution_count": null,
   "metadata": {},
   "outputs": [],
   "source": [
    "data_car.columns = data_car.columns.str.lower()\n",
    "data_car = data_car.drop_duplicates()\n",
    "\n",
    "data_car = data_car.loc[(data_car.price >= 1000)  & (data_car.registrationyear >= 1990) & (data_car.registrationyear <= 2024) & (data_car.power<= 2200)]"
   ]
  },
  {
   "cell_type": "markdown",
   "metadata": {},
   "source": [
    "Я решил убрать из данныз выбросы, это было сделано после анализа данных.\n",
    "- Я прочитал, что дешевле машин чем 1000 нет\n",
    "- Мощности меньше 0 лс, предположим они без двигателя\n",
    "- Про дату,Я выбрал, потому что остальные или очень старые или являлись как выброс\n",
    "- Мощность больше 2200 лс я убрал поскольку мощнее нет\n",
    "- Остальные данные были выбраны как выброс\n",
    "- Название колонок я привел к общему виду\n",
    "\n",
    "- Тем самым я  сократил df с 300_000 до 260_000 строк"
   ]
  },
  {
   "cell_type": "code",
   "execution_count": null,
   "metadata": {},
   "outputs": [],
   "source": [
    "data_car.describe().T"
   ]
  },
  {
   "cell_type": "code",
   "execution_count": null,
   "metadata": {},
   "outputs": [],
   "source": [
    "box_cat = ['vehicletype', 'gearbox', 'fueltype', 'repaired'] \n",
    "\n",
    "\n",
    "plt.figure(figsize=(12, 10))\n",
    "\n",
    "for num, title in enumerate(box_cat, 1):\n",
    "    plt.subplot(3, 2, num)\n",
    "    sns.countplot(\n",
    "        data=data_car, \n",
    "        x=title, \n",
    "        order=data_car[title].value_counts().index\n",
    "    )\n",
    "    plt.title(f'Распределение {title}', fontsize=12)\n",
    "    plt.xticks(rotation=45, fontsize=9)\n",
    "    plt.xlabel('')\n",
    "    plt.ylabel(\"Частота\", fontsize=10)\n",
    "    plt.grid(True)\n",
    "\n",
    "plt.suptitle('Анализ категориальных признаков', fontsize=16, y=1.02)\n",
    "plt.tight_layout()\n",
    "plt.show();"
   ]
  },
  {
   "cell_type": "code",
   "execution_count": null,
   "metadata": {},
   "outputs": [],
   "source": [
    "data_car['repaired'] = data_car['repaired'].fillna('no')\n",
    "data_car['brand'] = data_car['brand'].fillna('un')\n",
    "data_car['model'] = data_car['model'].fillna('un')\n",
    "data_car['yearscar'] = 2020 - data_car['registrationyear']"
   ]
  },
  {
   "cell_type": "markdown",
   "metadata": {},
   "source": [
    "У меня нет достоверных данных, поэтому я заменил на un и добавил сколько лет автомобилю"
   ]
  },
  {
   "cell_type": "code",
   "execution_count": null,
   "metadata": {},
   "outputs": [],
   "source": [
    "#  Заполнение на основе модели и мощности\n",
    "data_car['vehicletype'] = data_car.groupby('model')['vehicletype'].apply(\n",
    "    lambda x: x.fillna(x.mode()[0]) if not x.mode().empty else x)\n",
    "data_car['vehicletype'] = data_car['vehicletype'].fillna('other')\n",
    "\n",
    "data_car['gearbox'] = data_car.groupby('power')['gearbox'].apply(\n",
    "    lambda x: x.fillna(x.mode()[0]) if not x.mode().empty else x)\n",
    "data_car['gearbox'] = data_car['gearbox'].fillna('manual')\n",
    "\n",
    "data_car['fueltype'] = data_car.groupby('model')['fueltype'].apply(\n",
    "    lambda x: x.fillna(x.mode()[0]) if not x.mode().empty else x)\n",
    "data_car['fueltype'] = data_car['fueltype'].fillna('other')\n",
    "\n",
    "box_cat = ['lpg', 'other', 'hybrid', 'cng', 'electric']\n",
    "for nam in box_cat:\n",
    "    data_car.loc[data_car['fueltype'] == nam, 'fueltype'] = 'other'"
   ]
  },
  {
   "cell_type": "markdown",
   "metadata": {},
   "source": [
    "Здесь я заполняю nun по группам модой, параметры для группы выбранны не случайно, они имеют сильную корреляцию\n",
    "И чтобы уменьшить обьем для вычеслений у 'fueltype' не значительные данные я заменил other"
   ]
  },
  {
   "cell_type": "code",
   "execution_count": null,
   "metadata": {},
   "outputs": [],
   "source": [
    "data_car['brand_model'] = data_car['brand'] + '_' + data_car['model']"
   ]
  },
  {
   "cell_type": "code",
   "execution_count": null,
   "metadata": {},
   "outputs": [],
   "source": [
    "data_car['brand_model_freq'] = data_car['brand_model'].map(data_car['brand_model'].value_counts(normalize=True))"
   ]
  },
  {
   "cell_type": "code",
   "execution_count": null,
   "metadata": {},
   "outputs": [],
   "source": [
    "threshold = 0.005\n",
    "rare_mask = data_car['brand_model_freq'] < threshold\n",
    "data_car['brand_model_grouped'] = np.where(\n",
    "    rare_mask,\n",
    "    'other',\n",
    "    data_car['brand_model']\n",
    ")\n",
    "\n",
    "data_car['brand_model_freq'] = data_car['brand_model_grouped'].map(\n",
    "    data_car['brand_model_grouped'].value_counts(normalize=True))"
   ]
  },
  {
   "cell_type": "code",
   "execution_count": null,
   "metadata": {},
   "outputs": [],
   "source": [
    "data_car = data_car.drop(columns=['numberofpictures', 'postalcode', 'datecrawled', \n",
    "                                  'datecreated', 'lastseen', 'registrationyear', \n",
    "                                  'registrationyear', 'registrationmonth', 'brand_model','brand', 'model', 'brand_model_grouped'], axis=1)"
   ]
  },
  {
   "cell_type": "code",
   "execution_count": null,
   "metadata": {
    "scrolled": true
   },
   "outputs": [],
   "source": [
    "print('Общая информация:')\n",
    "print(data_car.info())\n",
    "\n",
    "print('\\n')\n",
    "\n",
    "print('Пропуски:')\n",
    "print(data_car.isnull().sum())\n",
    "\n",
    "print('\\n')\n",
    "\n",
    "print('Явные дублликаты:')\n",
    "print(data_car.duplicated().sum())\n",
    "\n",
    "print('\\n')\n",
    "\n",
    "print('Кол-во строк и столбцов:')\n",
    "print(data_car.shape)\n",
    "\n",
    "print('\\n')\n",
    "\n",
    "print('Кол-во уникальных значений')\n",
    "print(data_car.nunique())\n",
    "\n",
    "print('\\n')\n",
    "\n",
    "print('Сводная статистика')\n",
    "print(data_car.describe().T)"
   ]
  },
  {
   "cell_type": "code",
   "execution_count": null,
   "metadata": {
    "scrolled": true
   },
   "outputs": [],
   "source": [
    "# Проверка проверка на уникальные значения\n",
    "box_title = ['vehicletype', 'gearbox', 'fueltype', 'repaired']\n",
    "for title in box_title:\n",
    "    print(f'Уникальные значение {title}', data_car[title].unique())\n",
    "\n",
    "print(end='#'*20)\n",
    "print('\\n')"
   ]
  },
  {
   "cell_type": "code",
   "execution_count": null,
   "metadata": {},
   "outputs": [],
   "source": [
    "numeric_cols = ['price', 'power', 'kilometer', 'yearscar', 'brand_model_freq']\n",
    "\n",
    "sns.set(rc={'figure.figsize': (15, 10)})\n",
    "ax = sns.heatmap(data_car[numeric_cols].corr(method='spearman'), annot=True, fmt='.1%', cmap='coolwarm')\n",
    "\n",
    "ax.tick_params(axis='x', labelsize=12)\n",
    "ax.tick_params(axis='y', labelrotation=0, labelsize=12)\n",
    "\n",
    "plt.title('Корреляция Спирмана', fontsize=15)\n",
    "plt.show();"
   ]
  },
  {
   "cell_type": "code",
   "execution_count": null,
   "metadata": {},
   "outputs": [],
   "source": [
    "sns.set(rc={'figure.figsize':(15, 10)})\n",
    "ax = sns.heatmap(data_car.phik_matrix(interval_cols=['price', 'power', 'kilometer', 'yearscar']), annot=True, fmt='.1%', cmap='Blues')\n",
    "\n",
    "ax.tick_params(axis='x', labelrotation=70, labelsize=12)\n",
    "ax.tick_params(axis='y', labelsize=12)\n",
    "\n",
    "plt.title('Фи матрица', fontsize=16)\n",
    "plt.show();"
   ]
  },
  {
   "cell_type": "markdown",
   "metadata": {},
   "source": [
    "Мультиколиниарности с ценой, я не нашел.\n",
    "\n",
    "Цена имеет сильную корреляцию с мощностью 43%, с пробегом -37% и сколько лет авто -62%.\n",
    "\n",
    "По матрице фи: \n",
    "\n",
    "Цена имеет сильную зависимость от модели автомобиля 48% и слабее от бренда 20%"
   ]
  },
  {
   "cell_type": "markdown",
   "metadata": {},
   "source": [
    "- Где я не мог найти данные, я nun заменил на un\n",
    "- Уменьшил данные у fueltype и сделать кластеризацию для brand и model\n",
    "- Нашел от чего зависит цена, это модель, сколько ей лет, пробег и мощность. Эти параметры показали самое сильное влияние на цену."
   ]
  },
  {
   "cell_type": "markdown",
   "metadata": {},
   "source": [
    "# Анализ"
   ]
  },
  {
   "cell_type": "code",
   "execution_count": null,
   "metadata": {},
   "outputs": [],
   "source": [
    "data_car.describe().T"
   ]
  },
  {
   "cell_type": "code",
   "execution_count": null,
   "metadata": {},
   "outputs": [],
   "source": [
    "def func_hist(df, name):\n",
    "    sns.set_style('whitegrid')\n",
    "    \n",
    "    fig, axes = plt.subplots(1, 2, figsize=(15, 5))\n",
    "\n",
    "    sns.histplot(data=df, x=name, bins=50, ax=axes[0], \n",
    "                 kde=True, color='blue', \n",
    "                 edgecolor='black')\n",
    "    \n",
    "    axes[0].set_title(f'Распределение {name}', fontsize=14)\n",
    "    axes[0].set_xlabel(f'Значения {name}', fontsize=12)\n",
    "    axes[0].set_ylabel('Частота', fontsize=12)\n",
    "    axes[0].grid(axis='y', linestyle='--', alpha=0.7)\n",
    "\n",
    "    sns.boxplot(x=df[name], ax=axes[1], color='red')\n",
    "    axes[1].set_title(f'Разброс значений {name}', fontsize=14)\n",
    "    axes[1].set_xlabel('Значения', fontsize=12)\n",
    "    axes[1].grid(True, linestyle='--', alpha=0.7)\n",
    "    \n",
    "    plt.tight_layout()\n",
    "    plt.show();"
   ]
  },
  {
   "cell_type": "code",
   "execution_count": null,
   "metadata": {
    "scrolled": false
   },
   "outputs": [],
   "source": [
    "box = ['price', 'power', 'kilometer', 'yearscar', 'brand_model_freq']\n",
    "for i, name in enumerate(box):\n",
    "    func_hist(df=data_car, name=name)"
   ]
  },
  {
   "cell_type": "code",
   "execution_count": null,
   "metadata": {},
   "outputs": [],
   "source": [
    "box_cat = ['vehicletype', 'gearbox', 'fueltype', 'repaired'] \n",
    "\n",
    "\n",
    "plt.figure(figsize=(12, 10))\n",
    "\n",
    "for num, title in enumerate(box_cat, 1):\n",
    "    plt.subplot(3, 2, num)\n",
    "    sns.countplot(\n",
    "        data=data_car, \n",
    "        x=title, \n",
    "        order=data_car[title].value_counts().index\n",
    "    )\n",
    "    plt.title(f'Распределение {title}', fontsize=12)\n",
    "    plt.xticks(rotation=45, fontsize=9)\n",
    "    plt.xlabel('')\n",
    "    plt.ylabel(\"Частота\", fontsize=10)\n",
    "    plt.grid(True)\n",
    "\n",
    "plt.suptitle('Анализ категориальных признаков', fontsize=16, y=1.02)\n",
    "plt.tight_layout()\n",
    "plt.show();"
   ]
  },
  {
   "cell_type": "markdown",
   "metadata": {},
   "source": [
    "- Сколько лет машине имеет нормальное распределение, это может помочь для расчет алгоритмов\n",
    "- Пробег в основном у всех одинаковый больше 120_000\n",
    "- Машины которые были в ремонте, имеют больше значений no, может стоит убрать его убрать"
   ]
  },
  {
   "cell_type": "markdown",
   "metadata": {},
   "source": [
    "## Обучение моделей"
   ]
  },
  {
   "cell_type": "markdown",
   "metadata": {},
   "source": [
    "По условии задачи я должен обучить LGBMRegressor, LinearRegression, SGDRegressor, LGBMRegressor.\n",
    "В начале я хотел обучить модели используя пайплан, но они начинали зависать на расчетах, поэтому в дальнейшем модели я обучал в ручную."
   ]
  },
  {
   "cell_type": "markdown",
   "metadata": {},
   "source": [
    "# LinearRegression"
   ]
  },
  {
   "cell_type": "code",
   "execution_count": null,
   "metadata": {},
   "outputs": [],
   "source": [
    "# Для визуализации результатов\n",
    "def plot_model_results(y_true, y_pred):\n",
    "    plt.figure(figsize=(10, 5))\n",
    "\n",
    "    plt.subplot(1, 2, 1)\n",
    "    residuals = y_true - y_pred\n",
    "    plt.hist(residuals, bins=30)\n",
    "    plt.xlabel('Ошибки')\n",
    "    plt.ylabel('Частота')\n",
    "    plt.title('Распределение ошибок')\n",
    "    plt.grid(True)\n",
    "\n",
    "    plt.subplot(1, 2, 2)\n",
    "    plt.scatter(y_pred, residuals, alpha=0.5)\n",
    "    plt.xlabel('Предсказанные значения')\n",
    "    plt.ylabel('Ошибки')\n",
    "    plt.title('Ошибки vs Предсказания')\n",
    "    plt.grid(True)\n",
    "    \n",
    "    plt.tight_layout()\n",
    "    plt.show()"
   ]
  },
  {
   "cell_type": "code",
   "execution_count": null,
   "metadata": {},
   "outputs": [],
   "source": [
    "# Для оценки модели\n",
    "def evaluate_model(y_true, y_pred):\n",
    "    print(\"\\nОценка модели на тестовых данных:\")\n",
    "    print(\"-\" * 40)\n",
    "    print(f\"R2: {r2_score(y_true, y_pred):.4f}\")\n",
    "    print(f\"MSE: {mean_squared_error(y_true, y_pred):.4f}\")\n",
    "    print(f\"RMSE: {np.sqrt(mean_squared_error(y_true, y_pred)):.4f}\")\n",
    "    print(f\"MAE: {mean_absolute_error(y_true, y_pred):.4f}\")\n",
    "    \n",
    "    residuals = y_true - y_pred\n",
    "    print(\"\\nСтатистика ошибок:\")\n",
    "    print(\"-\" * 40)\n",
    "    print(residuals.describe())"
   ]
  },
  {
   "cell_type": "code",
   "execution_count": null,
   "metadata": {},
   "outputs": [],
   "source": [
    "ohe_columns = ['vehicletype', 'gearbox', 'fueltype', 'repaired', 'brand_model_freq']\n",
    "num_columns = ['power', 'kilometer', 'yearscar'] "
   ]
  },
  {
   "cell_type": "code",
   "execution_count": null,
   "metadata": {},
   "outputs": [],
   "source": [
    "X = data_car.drop('price', axis=1)\n",
    "y = data_car['price']\n",
    "\n",
    "X_train_val, X_test, y_train_val, y_test = train_test_split(\n",
    "    X, y, \n",
    "    test_size=0.4, \n",
    "    random_state=RANDOM_STATE\n",
    ")\n",
    "\n",
    "X_train, X_val, y_train, y_val = train_test_split(\n",
    "    X_train_val, y_train_val, \n",
    "    test_size=0.3, \n",
    "    random_state=RANDOM_STATE\n",
    ")"
   ]
  },
  {
   "cell_type": "code",
   "execution_count": null,
   "metadata": {},
   "outputs": [],
   "source": [
    "numeric_transformer = Pipeline([\n",
    "    ('imputer', SimpleImputer(strategy='median')),\n",
    "    ('scaler', StandardScaler())\n",
    "])"
   ]
  },
  {
   "cell_type": "code",
   "execution_count": null,
   "metadata": {},
   "outputs": [],
   "source": [
    "categorical_transformer = Pipeline([\n",
    "    ('imputer', SimpleImputer(strategy='most_frequent', fill_value='un')),\n",
    "    ('encoder', OneHotEncoder(sparse = 'True', handle_unknown='ignore', drop='first', dtype=np.int8 ))\n",
    "])"
   ]
  },
  {
   "cell_type": "code",
   "execution_count": null,
   "metadata": {},
   "outputs": [],
   "source": [
    "preprocessor = ColumnTransformer(\n",
    "    transformers=[\n",
    "        ('num', numeric_transformer, num_columns),\n",
    "        ('cat', categorical_transformer, ohe_columns)\n",
    "    ]\n",
    ")"
   ]
  },
  {
   "cell_type": "code",
   "execution_count": null,
   "metadata": {},
   "outputs": [],
   "source": [
    "pipe_final = Pipeline([\n",
    "    ('preprocessor', preprocessor),\n",
    "    ('model', LinearRegression())\n",
    "])"
   ]
  },
  {
   "cell_type": "code",
   "execution_count": null,
   "metadata": {},
   "outputs": [],
   "source": [
    "param_grid = [\n",
    "    {\n",
    "        'model': [LinearRegression()],\n",
    "        'preprocessor__num': [StandardScaler()]\n",
    "    }\n",
    "]\n"
   ]
  },
  {
   "cell_type": "code",
   "execution_count": null,
   "metadata": {},
   "outputs": [],
   "source": [
    "def rmse(y_true, y_pred):\n",
    "    return - np.sqrt(mean_squared_error(y_true, y_pred))\n",
    "\n",
    "rmse_scorer = make_scorer(rmse, greater_is_better=False)\n",
    "\n",
    "cv = KFold(n_splits=2, shuffle=True, random_state=RANDOM_STATE)"
   ]
  },
  {
   "cell_type": "code",
   "execution_count": null,
   "metadata": {
    "scrolled": true
   },
   "outputs": [],
   "source": [
    "%%time\n",
    "\n",
    "grid_lin = GridSearchCV(\n",
    "    pipe_final, \n",
    "    param_grid=param_grid, \n",
    "    cv=cv, \n",
    "    scoring=rmse_scorer,   \n",
    "    n_jobs=-1,\n",
    "    verbose=2 \n",
    ")\n",
    "\n",
    "grid_lin.fit(X_train, y_train);"
   ]
  },
  {
   "cell_type": "code",
   "execution_count": null,
   "metadata": {},
   "outputs": [],
   "source": [
    "print('Лучшая модель и её параметры:\\n', grid_lin.best_params_)\n",
    "print('Метрика RMSE для лучшей модели:', round(grid_lin.best_score_, 3))"
   ]
  },
  {
   "cell_type": "code",
   "execution_count": null,
   "metadata": {},
   "outputs": [],
   "source": [
    "y_pred = grid_lin.predict(X_val)\n",
    "plot_model_results(y_true=y_val, y_pred=y_pred)\n",
    "evaluate_model(y_true=y_val, y_pred=y_pred)"
   ]
  },
  {
   "cell_type": "code",
   "execution_count": null,
   "metadata": {},
   "outputs": [],
   "source": [
    "best_model = grid_lin.best_estimator_\n",
    "\n",
    "coefficients = best_model.named_steps['model'].coef_\n",
    "\n",
    "feature_names = best_model.named_steps['preprocessor'].get_feature_names_out()\n",
    "\n",
    "coef_df = pd.DataFrame({\n",
    "    'feature': feature_names,\n",
    "    'coefficient': coefficients\n",
    "}).sort_values('coefficient', key=abs, ascending=False)\n",
    "\n",
    "plt.figure(figsize=(10, 6))\n",
    "coef_df.head(20).plot.barh(x='feature', y='coefficient', legend=False)\n",
    "plt.title('Топ-20 факторов влияния на цену автомобиля')\n",
    "plt.xlabel('Коэффициент')\n",
    "plt.ylabel('Признак')\n",
    "plt.tight_layout()\n",
    "plt.show();"
   ]
  },
  {
   "cell_type": "code",
   "execution_count": null,
   "metadata": {},
   "outputs": [],
   "source": [
    "time_metrics = pd.DataFrame(grid_lin.cv_results_)[\n",
    "    [\n",
    "        'mean_fit_time',    # Среднее время обучения (fit)\n",
    "        'mean_score_time',  # Среднее время предсказания (predict)\n",
    "    ]\n",
    "]\n",
    "\n",
    "fastest_to_slowest = time_metrics.sort_values('mean_fit_time')\n",
    "\n",
    "print(time_metrics.sort_values('mean_score_time').head(10)[['mean_fit_time', 'mean_score_time']])"
   ]
  },
  {
   "cell_type": "markdown",
   "metadata": {},
   "source": [
    "# Градиентный спуск"
   ]
  },
  {
   "cell_type": "code",
   "execution_count": null,
   "metadata": {},
   "outputs": [],
   "source": [
    "pipe_sgd = Pipeline([\n",
    "    ('preprocessor', preprocessor),\n",
    "    ('model', Lasso())\n",
    "])"
   ]
  },
  {
   "cell_type": "code",
   "execution_count": null,
   "metadata": {},
   "outputs": [],
   "source": [
    "param_sgd = [\n",
    "    {\n",
    "        'model' : [SGDRegressor()],\n",
    "        'preprocessor__num': [StandardScaler()],\n",
    "        'model__loss': ['huber'],\n",
    "        'model__penalty': ['l1'],\n",
    "        'model__alpha': [0.01],\n",
    "        'model__epsilon': [1.1]\n",
    "    }\n",
    "]"
   ]
  },
  {
   "cell_type": "code",
   "execution_count": null,
   "metadata": {
    "scrolled": true
   },
   "outputs": [],
   "source": [
    "%%time\n",
    "\n",
    "grid_sgd = GridSearchCV(\n",
    "    pipe_sgd, \n",
    "    param_grid=param_sgd, \n",
    "    cv=cv, \n",
    "    scoring=rmse_scorer,   \n",
    "    n_jobs=-1,\n",
    "    verbose=2 \n",
    ")\n",
    "\n",
    "grid_sgd.fit(X_train, y_train);"
   ]
  },
  {
   "cell_type": "code",
   "execution_count": null,
   "metadata": {},
   "outputs": [],
   "source": [
    "print('Лучшая модель и её параметры:\\n', grid_sgd.best_params_)\n",
    "print('Метрика RMSE для лучшей модели:', round(grid_sgd.best_score_, 3))"
   ]
  },
  {
   "cell_type": "code",
   "execution_count": null,
   "metadata": {},
   "outputs": [],
   "source": [
    "y_pred_sgr = grid_sgd.predict(X_val)\n",
    "plot_model_results(y_true=y_val, y_pred=y_pred_sgr)\n",
    "evaluate_model(y_true=y_val, y_pred=y_pred_sgr)"
   ]
  },
  {
   "cell_type": "code",
   "execution_count": null,
   "metadata": {},
   "outputs": [],
   "source": [
    "best_model = grid_sgd.best_estimator_\n",
    "\n",
    "coefficients = best_model.named_steps['model'].coef_\n",
    "\n",
    "feature_names = best_model.named_steps['preprocessor'].get_feature_names_out()\n",
    "\n",
    "coef_df = pd.DataFrame({\n",
    "    'feature': feature_names,\n",
    "    'coefficient': coefficients\n",
    "}).sort_values('coefficient', key=abs, ascending=False)\n",
    "\n",
    "plt.figure(figsize=(10, 6))\n",
    "coef_df.head(20).plot.barh(x='feature', y='coefficient', legend=False)\n",
    "plt.title('Топ-20 факторов влияния на цену автомобиля')\n",
    "plt.xlabel('Коэффициент')\n",
    "plt.ylabel('Признак')\n",
    "plt.tight_layout()\n",
    "plt.show();"
   ]
  },
  {
   "cell_type": "code",
   "execution_count": null,
   "metadata": {},
   "outputs": [],
   "source": [
    "time_metrics = pd.DataFrame(grid_sgd.cv_results_)[\n",
    "    [\n",
    "        'mean_fit_time',    # Среднее время обучения (fit)\n",
    "        'mean_score_time',  # Среднее время предсказания (predict)\n",
    "    ]\n",
    "]\n",
    "\n",
    "fastest_to_slowest = time_metrics.sort_values('mean_fit_time')\n",
    "\n",
    "print(time_metrics.sort_values('mean_score_time').head(10)[['mean_fit_time', 'mean_score_time']])"
   ]
  },
  {
   "cell_type": "markdown",
   "metadata": {},
   "source": [
    "# RandomForestRegressor"
   ]
  },
  {
   "cell_type": "code",
   "execution_count": null,
   "metadata": {},
   "outputs": [],
   "source": [
    "pipe_forest = Pipeline([\n",
    "    ('preprocessor', preprocessor),\n",
    "    ('model', RandomForestRegressor())\n",
    "])"
   ]
  },
  {
   "cell_type": "code",
   "execution_count": null,
   "metadata": {},
   "outputs": [],
   "source": [
    "param_forest = [{\n",
    "    'model': [RandomForestRegressor()],\n",
    "    'preprocessor__num': [StandardScaler()],\n",
    "    'model__n_estimators': [100],\n",
    "    'model__max_depth': [12],\n",
    "    'model__random_state': [42],\n",
    "    'model__min_samples_split': [7],\n",
    "    'model__min_samples_leaf': [5]\n",
    "}]"
   ]
  },
  {
   "cell_type": "code",
   "execution_count": null,
   "metadata": {},
   "outputs": [],
   "source": [
    "%%time\n",
    "\n",
    "grid_forest = GridSearchCV(\n",
    "    pipe_forest, \n",
    "    param_grid=param_forest, \n",
    "    cv=cv, \n",
    "    scoring=rmse_scorer,   \n",
    "    n_jobs=-1,\n",
    "    verbose=2 \n",
    ")\n",
    "\n",
    "grid_forest.fit(X_train, y_train);"
   ]
  },
  {
   "cell_type": "code",
   "execution_count": null,
   "metadata": {},
   "outputs": [],
   "source": [
    "print('Лучшая модель и её параметры:\\n', grid_forest.best_params_)\n",
    "print('Метрика RMSE для лучшей модели:', round(grid_forest.best_score_, 3))"
   ]
  },
  {
   "cell_type": "code",
   "execution_count": null,
   "metadata": {},
   "outputs": [],
   "source": [
    "y_pred_forest = grid_forest.predict(X_val)\n",
    "plot_model_results(y_true=y_val, y_pred=y_pred_forest)\n",
    "evaluate_model(y_true=y_val, y_pred=y_pred_forest)"
   ]
  },
  {
   "cell_type": "code",
   "execution_count": null,
   "metadata": {},
   "outputs": [],
   "source": [
    "best_model = grid_forest.best_estimator_\n",
    "\n",
    "importances = best_model.named_steps['model'].feature_importances_\n",
    "\n",
    "feature_names = best_model.named_steps['preprocessor'].get_feature_names_out()\n",
    "\n",
    "importance_df = pd.DataFrame({\n",
    "    'feature': feature_names,\n",
    "    'importance': importances\n",
    "}).sort_values('importance', ascending=False)\n",
    "\n",
    "plt.figure(figsize=(10, 6))\n",
    "importance_df.head(20).plot.barh(x='feature', y='importance', legend=False)\n",
    "plt.title('Топ-20 важных признаков (RandomForest)')\n",
    "plt.xlabel('Важность (Gini importance)')\n",
    "plt.ylabel('Признак')\n",
    "plt.tight_layout()\n",
    "plt.show();"
   ]
  },
  {
   "cell_type": "code",
   "execution_count": null,
   "metadata": {},
   "outputs": [],
   "source": [
    "time_metrics = pd.DataFrame(grid_forest.cv_results_)[\n",
    "    [\n",
    "        'mean_fit_time',    # Среднее время обучения (fit)\n",
    "        'mean_score_time',  # Среднее время предсказания (predict)\n",
    "    ]\n",
    "]\n",
    "\n",
    "fastest_to_slowest = time_metrics.sort_values('mean_fit_time')\n",
    "\n",
    "print(time_metrics.sort_values('mean_score_time').head(10)[['mean_fit_time', 'mean_score_time']])"
   ]
  },
  {
   "cell_type": "markdown",
   "metadata": {},
   "source": [
    "# LightGBM"
   ]
  },
  {
   "cell_type": "code",
   "execution_count": null,
   "metadata": {},
   "outputs": [],
   "source": [
    "X_train[ohe_columns] = X_train[ohe_columns].astype('category')\n",
    "X_val[ohe_columns] = X_val[ohe_columns].astype('category')\n",
    "X_test[ohe_columns] = X_test[ohe_columns].astype('category')"
   ]
  },
  {
   "cell_type": "code",
   "execution_count": null,
   "metadata": {},
   "outputs": [],
   "source": [
    "params = {\n",
    "    'objective': 'regression',\n",
    "    'metric': 'rmse',\n",
    "    'boosting_type': 'gbdt',\n",
    "    'num_leaves': 60,          \n",
    "    'max_depth': 50,           \n",
    "    'learning_rate': 0.01,\n",
    "    'n_estimators': 500,\n",
    "    'min_data_in_leaf': 20,\n",
    "}"
   ]
  },
  {
   "cell_type": "code",
   "execution_count": null,
   "metadata": {},
   "outputs": [],
   "source": [
    "model_LGB = lgb.LGBMRegressor(**params)"
   ]
  },
  {
   "cell_type": "code",
   "execution_count": null,
   "metadata": {},
   "outputs": [],
   "source": [
    "%%time\n",
    "model_LGB.fit(\n",
    "    X_train, y_train,\n",
    "    eval_metric='rmse'\n",
    ")"
   ]
  },
  {
   "cell_type": "code",
   "execution_count": null,
   "metadata": {},
   "outputs": [],
   "source": [
    "%%time\n",
    "predict_LGB= model_LGB.predict(X_val)\n",
    "plot_model_results(y_true=y_val, y_pred=predict_LGB)\n",
    "evaluate_model(y_true=y_val, y_pred=predict_LGB)"
   ]
  },
  {
   "cell_type": "code",
   "execution_count": null,
   "metadata": {},
   "outputs": [],
   "source": [
    "features=X_val.columns\n",
    "importances = model_LGB.feature_importances_\n",
    "indices = np.argsort(importances)\n",
    "\n",
    "plt.figure(figsize=(11, 5))\n",
    "plt.title('Важность функции')\n",
    "plt.barh(range(len(indices)), importances[indices], color='#6495ED', align='center')\n",
    "plt.yticks(range(len(indices)), features[indices])\n",
    "plt.xlabel('Относительная важность')\n",
    "plt.show()\n",
    "\n",
    "feat_importances = pd.Series(importances, index=features).sort_values(ascending=False)\n",
    "feat_importances = feat_importances.to_frame()\n",
    "feat_importances.columns=['Относительная важность']\n",
    "display(feat_importances)"
   ]
  },
  {
   "cell_type": "markdown",
   "metadata": {},
   "source": [
    "Всю информацию я написал в выводе."
   ]
  },
  {
   "cell_type": "markdown",
   "metadata": {},
   "source": [
    "## Анализ моделей"
   ]
  },
  {
   "cell_type": "markdown",
   "metadata": {},
   "source": [
    "# Обьяснение"
   ]
  },
  {
   "cell_type": "markdown",
   "metadata": {},
   "source": [
    "|Метрика  |Значение\t|Что означает|\n",
    "|---------|---------|---------------------------------|\n",
    "|user\t  |17.7 s\t|Время, потраченное вашим кодом на выполнение (полезная работа CPU)|\n",
    "|         |         |                                                                |\n",
    "|sys\t  |5.76 s\t|Время, потраченное системой (например, чтение файлов, вызовы ОС)|\n",
    "|         |         |                                         |\n",
    "|total\t  |23.5 s\t|Сумма user + sys (общее время работы CPU)|\n",
    "|         |         |                                         |\n",
    "|Wall time|23.8 s\t|Реальное время выполнения (как если бы вы засекли его на часах)|\n",
    "\n"
   ]
  },
  {
   "cell_type": "code",
   "execution_count": null,
   "metadata": {},
   "outputs": [],
   "source": [
    "%%time\n",
    "predict= model_LGB.predict(X_test)\n",
    "plot_model_results(y_true=y_test, y_pred=predict)\n",
    "evaluate_model(y_true=y_test, y_pred=predict)"
   ]
  },
  {
   "cell_type": "markdown",
   "metadata": {},
   "source": [
    "# Вывод"
   ]
  },
  {
   "attachments": {
    "image-10.png": {
     "image/png": "[encoded data removed]"
    },
    "image-11.png": {
     "image/png": "[encoded data removed]"
    },
    "image-7.png": {
     "image/png": "[encoded data removed]"
    },
    "image-8.png": {
     "image/png": "[encoded data removed]"
    },
    "image-9.png": {
     "image/png": "[encoded data removed]"
    }
   },
   "cell_type": "markdown",
   "metadata": {},
   "source": [
    "Добрый день, коллеги. Я провел анализ данных, которые предоставил нам клиент.\n",
    "\n",
    "1) Обработка данных:\n",
    "\n",
    "- Я прочитал, что дешевле машин чем 1000 нет\n",
    "- Выбрал даты больше 1990\n",
    "- Привел данные к общему виду\n",
    "- Название колонок я привел к общему виду\n",
    "- Тем самым я  сократил df с 300_000 до 260_000 строк\n",
    "\n",
    "2) Анализ:\n",
    "Корреляция\n",
    "\n",
    "![image-8.png](attachment:image-8.png)\n",
    "\n",
    "\n",
    "Матрица фи\n",
    "\n",
    "![image-9.png](attachment:image-9.png)\n",
    "\n",
    "- Мультиколиниарности с ценой, я не нашел.\n",
    "- Цена имеет сильную корреляцию с мощностью 46%, с пробегом -36% и сколько лет авто -59%.\n",
    "- Цена имеет сильную зависимость от модели автомобиля 32%\n",
    "\n",
    "Общие данные:\n",
    "\n",
    "![image-10.png](attachment:image-10.png)\n",
    "\n",
    "![image-11.png](attachment:image-11.png)\n",
    "\n",
    "![image-7.png](attachment:image-7.png)\n",
    "\n",
    "\n",
    "- Сколько лет машине имеет нормальное распределение, это может помочь для расчет алгоритмов\n",
    "- Пробег в основном у всех одинаковый больше 120_000\n",
    "- Машины которые были в ремонте, имеют больше значений no, может стоит убрать его убрать\n",
    "\n",
    "В своей работе по обучении модели я использовал LinearRegression(), SGDRegressor(), RandomForestRegressor, LGBMRegressor().\n",
    "Забегая вперед лучше всеего себя показала модель LGBMRegressor(), хуже всего SGDRegressor(), после обработки полиномилной регресси линейная регрессия лучше предсказала цену. Предлагаю их и рассмотреть. Только RandomForestRegressor, LGBMRegressor() выполнили пожелание клиента RMSE < 2500 и быстро обучаются.\n",
    "\n",
    "RandomForestRegressor\n",
    "\n",
    "Оценка модели на валидационых данных:\n",
    "- R2: 0.8169\n",
    "- MSE: 3740586.1430\n",
    "- RMSE: 1934.0595\n",
    "- MAE: 1305.4151\n",
    "\n",
    "- Время обучении модели 60.747543 сек\n",
    "- Время предсказания 0.644231 сек\n",
    "\n",
    "\n",
    "Плюсы Градиентного метода\n",
    "\n",
    "Оценка модели на тестовых данных:\n",
    "- R2: 0.8347\n",
    "- MSE: 3350945.8883\n",
    "- RMSE: 1830.5589\n",
    "- MAE: 1222.9871\n",
    "\n",
    "- Время обучения: 3min 7s\n",
    "- Время предсказания: 11.5 s\n",
    "\n",
    "Градиент работает дольше, но не намного, в пределах разумного времени.\n",
    "\n",
    "Для дальнейшей работы над проектом предлагаю остановиться на градиенте и уже подобрать точные гипер параметры или использовать новые данные для обучения ради повышения точности."
   ]
  }
 ],
 "metadata": {
  "ExecuteTimeLog": [
   {
    "duration": 502,
    "start_time": "2025-05-02T13:21:38.154Z"
   },
   {
    "duration": 8,
    "start_time": "2025-05-02T13:21:43.204Z"
   },
   {
    "duration": 1046,
    "start_time": "2025-05-02T13:21:52.148Z"
   },
   {
    "duration": 1564,
    "start_time": "2025-05-02T13:23:52.722Z"
   },
   {
    "duration": 1086,
    "start_time": "2025-05-02T13:24:19.114Z"
   },
   {
    "duration": 421,
    "start_time": "2025-05-02T13:26:22.957Z"
   },
   {
    "duration": 342,
    "start_time": "2025-05-02T13:26:59.387Z"
   },
   {
    "duration": 923,
    "start_time": "2025-05-02T13:27:05.084Z"
   },
   {
    "duration": 976,
    "start_time": "2025-05-02T13:29:45.844Z"
   },
   {
    "duration": 94,
    "start_time": "2025-05-02T13:30:19.661Z"
   },
   {
    "duration": 909,
    "start_time": "2025-05-02T13:30:21.309Z"
   },
   {
    "duration": 1496,
    "start_time": "2025-05-02T13:51:04.875Z"
   },
   {
    "duration": 1466,
    "start_time": "2025-05-02T13:52:33.377Z"
   },
   {
    "duration": 77,
    "start_time": "2025-05-02T13:52:38.324Z"
   },
   {
    "duration": 1457,
    "start_time": "2025-05-02T13:52:39.941Z"
   },
   {
    "duration": 1507,
    "start_time": "2025-05-02T13:53:08.391Z"
   },
   {
    "duration": 1494,
    "start_time": "2025-05-02T13:53:32.402Z"
   },
   {
    "duration": 10,
    "start_time": "2025-05-02T13:55:23.903Z"
   },
   {
    "duration": 3,
    "start_time": "2025-05-02T13:55:28.876Z"
   },
   {
    "duration": 1209,
    "start_time": "2025-05-02T14:00:39.291Z"
   },
   {
    "duration": 1302,
    "start_time": "2025-05-02T14:00:40.503Z"
   },
   {
    "duration": 426,
    "start_time": "2025-05-02T14:00:41.807Z"
   },
   {
    "duration": 0,
    "start_time": "2025-05-02T14:00:42.234Z"
   },
   {
    "duration": 1457,
    "start_time": "2025-05-02T14:01:02.259Z"
   },
   {
    "duration": 367,
    "start_time": "2025-05-02T14:01:06.407Z"
   },
   {
    "duration": 143,
    "start_time": "2025-05-02T14:01:38.638Z"
   },
   {
    "duration": 5,
    "start_time": "2025-05-02T14:07:34.715Z"
   },
   {
    "duration": 1357,
    "start_time": "2025-05-02T14:07:38.164Z"
   },
   {
    "duration": 617,
    "start_time": "2025-05-02T14:09:02.618Z"
   },
   {
    "duration": 1448,
    "start_time": "2025-05-02T14:09:05.230Z"
   },
   {
    "duration": 604,
    "start_time": "2025-05-02T14:11:29.515Z"
   },
   {
    "duration": 598,
    "start_time": "2025-05-02T14:11:52.559Z"
   },
   {
    "duration": 15,
    "start_time": "2025-05-02T14:12:02.669Z"
   },
   {
    "duration": 642,
    "start_time": "2025-05-02T14:13:57.406Z"
   },
   {
    "duration": 3,
    "start_time": "2025-05-02T14:14:02.746Z"
   },
   {
    "duration": 3740,
    "start_time": "2025-05-02T14:14:02.922Z"
   },
   {
    "duration": 1351,
    "start_time": "2025-05-02T14:14:06.664Z"
   },
   {
    "duration": 149,
    "start_time": "2025-05-02T14:14:08.017Z"
   },
   {
    "duration": 1358,
    "start_time": "2025-05-02T14:14:08.168Z"
   },
   {
    "duration": 564,
    "start_time": "2025-05-02T14:14:09.528Z"
   },
   {
    "duration": 2268,
    "start_time": "2025-05-02T14:15:26.325Z"
   },
   {
    "duration": 0,
    "start_time": "2025-05-02T14:15:28.595Z"
   },
   {
    "duration": 2121,
    "start_time": "2025-05-02T14:15:37.515Z"
   },
   {
    "duration": 735,
    "start_time": "2025-05-02T14:15:45.440Z"
   },
   {
    "duration": 20,
    "start_time": "2025-05-02T14:15:46.947Z"
   },
   {
    "duration": 1221,
    "start_time": "2025-05-02T14:16:02.616Z"
   },
   {
    "duration": 573,
    "start_time": "2025-05-02T14:16:45.940Z"
   },
   {
    "duration": 15,
    "start_time": "2025-05-02T14:16:47.217Z"
   },
   {
    "duration": 761,
    "start_time": "2025-05-02T14:16:50.938Z"
   },
   {
    "duration": 17,
    "start_time": "2025-05-02T14:16:51.701Z"
   },
   {
    "duration": 2668,
    "start_time": "2025-05-02T14:18:37.107Z"
   },
   {
    "duration": 1110,
    "start_time": "2025-05-02T14:18:39.778Z"
   },
   {
    "duration": 1393,
    "start_time": "2025-05-02T14:18:40.889Z"
   },
   {
    "duration": 139,
    "start_time": "2025-05-02T14:18:42.284Z"
   },
   {
    "duration": 1599,
    "start_time": "2025-05-02T14:18:42.425Z"
   },
   {
    "duration": 15,
    "start_time": "2025-05-02T14:18:44.026Z"
   },
   {
    "duration": 116,
    "start_time": "2025-05-02T14:21:53.011Z"
   },
   {
    "duration": 83,
    "start_time": "2025-05-02T14:40:09.423Z"
   },
   {
    "duration": 55,
    "start_time": "2025-05-02T14:40:18.576Z"
   },
   {
    "duration": 104,
    "start_time": "2025-05-02T14:40:25.979Z"
   },
   {
    "duration": 117,
    "start_time": "2025-05-02T14:42:34.586Z"
   },
   {
    "duration": 11,
    "start_time": "2025-05-02T14:42:44.130Z"
   },
   {
    "duration": 42,
    "start_time": "2025-05-02T14:43:16.154Z"
   },
   {
    "duration": 76,
    "start_time": "2025-05-02T14:43:19.183Z"
   },
   {
    "duration": 88,
    "start_time": "2025-05-02T14:43:34.817Z"
   },
   {
    "duration": 1047,
    "start_time": "2025-05-02T14:43:47.174Z"
   },
   {
    "duration": 108,
    "start_time": "2025-05-02T14:43:48.223Z"
   },
   {
    "duration": 10,
    "start_time": "2025-05-02T14:43:48.333Z"
   },
   {
    "duration": 1342,
    "start_time": "2025-05-02T14:43:48.473Z"
   },
   {
    "duration": 3,
    "start_time": "2025-05-02T14:44:07.547Z"
   },
   {
    "duration": 945,
    "start_time": "2025-05-02T14:44:07.706Z"
   },
   {
    "duration": 1072,
    "start_time": "2025-05-02T14:44:08.654Z"
   },
   {
    "duration": 145,
    "start_time": "2025-05-02T14:44:09.728Z"
   },
   {
    "duration": 43,
    "start_time": "2025-05-02T14:44:11.574Z"
   },
   {
    "duration": 815,
    "start_time": "2025-05-02T14:45:09.180Z"
   },
   {
    "duration": 1453,
    "start_time": "2025-05-02T14:45:09.998Z"
   },
   {
    "duration": 1426,
    "start_time": "2025-05-02T14:45:50.686Z"
   },
   {
    "duration": 103,
    "start_time": "2025-05-02T14:45:57.069Z"
   },
   {
    "duration": 18,
    "start_time": "2025-05-02T14:46:41.823Z"
   },
   {
    "duration": 800,
    "start_time": "2025-05-02T14:46:42.914Z"
   },
   {
    "duration": 100,
    "start_time": "2025-05-02T14:46:48.173Z"
   },
   {
    "duration": 101,
    "start_time": "2025-05-02T14:48:19.173Z"
   },
   {
    "duration": 81,
    "start_time": "2025-05-02T14:49:51.356Z"
   },
   {
    "duration": 78,
    "start_time": "2025-05-02T14:50:17.757Z"
   },
   {
    "duration": 70,
    "start_time": "2025-05-02T14:50:20.108Z"
   },
   {
    "duration": 19,
    "start_time": "2025-05-02T14:50:23.775Z"
   },
   {
    "duration": 13,
    "start_time": "2025-05-02T14:50:34.223Z"
   },
   {
    "duration": 439,
    "start_time": "2025-05-02T14:54:27.234Z"
   },
   {
    "duration": 845,
    "start_time": "2025-05-02T14:54:38.949Z"
   },
   {
    "duration": 793,
    "start_time": "2025-05-02T14:54:53.638Z"
   },
   {
    "duration": 259,
    "start_time": "2025-05-02T14:56:56.740Z"
   },
   {
    "duration": 900,
    "start_time": "2025-05-02T14:57:23.845Z"
   },
   {
    "duration": 10821,
    "start_time": "2025-05-02T14:58:30.558Z"
   },
   {
    "duration": 4,
    "start_time": "2025-05-02T14:58:41.381Z"
   },
   {
    "duration": 29,
    "start_time": "2025-05-02T14:59:55.891Z"
   },
   {
    "duration": 43,
    "start_time": "2025-05-02T15:00:01.065Z"
   },
   {
    "duration": 3,
    "start_time": "2025-05-02T15:00:06.120Z"
   },
   {
    "duration": 978,
    "start_time": "2025-05-02T15:00:06.276Z"
   },
   {
    "duration": 1089,
    "start_time": "2025-05-02T15:00:07.261Z"
   },
   {
    "duration": 113,
    "start_time": "2025-05-02T15:00:08.352Z"
   },
   {
    "duration": 51,
    "start_time": "2025-05-02T15:00:08.468Z"
   },
   {
    "duration": 20,
    "start_time": "2025-05-02T15:00:08.520Z"
   },
   {
    "duration": 815,
    "start_time": "2025-05-02T15:00:08.562Z"
   },
   {
    "duration": 99,
    "start_time": "2025-05-02T15:00:09.379Z"
   },
   {
    "duration": 31,
    "start_time": "2025-05-02T15:00:09.479Z"
   },
   {
    "duration": 82,
    "start_time": "2025-05-02T15:00:09.511Z"
   },
   {
    "duration": 0,
    "start_time": "2025-05-02T15:00:09.596Z"
   },
   {
    "duration": 704,
    "start_time": "2025-05-02T15:00:14.566Z"
   },
   {
    "duration": 7,
    "start_time": "2025-05-02T15:03:53.143Z"
   },
   {
    "duration": 36,
    "start_time": "2025-05-02T15:04:11.765Z"
   },
   {
    "duration": 811,
    "start_time": "2025-05-02T15:04:14.524Z"
   },
   {
    "duration": 37,
    "start_time": "2025-05-02T15:04:27.919Z"
   },
   {
    "duration": 62,
    "start_time": "2025-05-02T15:04:30.200Z"
   },
   {
    "duration": 5357,
    "start_time": "2025-05-02T15:06:21.794Z"
   },
   {
    "duration": 4,
    "start_time": "2025-05-02T15:06:27.155Z"
   },
   {
    "duration": 1051,
    "start_time": "2025-05-02T15:06:27.161Z"
   },
   {
    "duration": 1022,
    "start_time": "2025-05-02T15:06:28.214Z"
   },
   {
    "duration": 7,
    "start_time": "2025-05-02T15:06:29.238Z"
   },
   {
    "duration": 115,
    "start_time": "2025-05-02T15:06:29.246Z"
   },
   {
    "duration": 53,
    "start_time": "2025-05-02T15:06:29.364Z"
   },
   {
    "duration": 98,
    "start_time": "2025-05-02T15:06:29.419Z"
   },
   {
    "duration": 1094,
    "start_time": "2025-05-02T15:06:29.519Z"
   },
   {
    "duration": 131,
    "start_time": "2025-05-02T15:06:30.615Z"
   },
   {
    "duration": 45,
    "start_time": "2025-05-02T15:06:30.748Z"
   },
   {
    "duration": 181,
    "start_time": "2025-05-02T15:06:30.795Z"
   },
   {
    "duration": 0,
    "start_time": "2025-05-02T15:06:30.978Z"
   },
   {
    "duration": 0,
    "start_time": "2025-05-02T15:06:30.979Z"
   },
   {
    "duration": 107,
    "start_time": "2025-05-02T15:06:47.427Z"
   },
   {
    "duration": 43,
    "start_time": "2025-05-02T15:06:58.386Z"
   },
   {
    "duration": 64,
    "start_time": "2025-05-02T15:07:00.458Z"
   },
   {
    "duration": 32,
    "start_time": "2025-05-02T15:07:25.783Z"
   },
   {
    "duration": 63,
    "start_time": "2025-05-02T15:07:27.936Z"
   },
   {
    "duration": 18,
    "start_time": "2025-05-02T15:07:34.411Z"
   },
   {
    "duration": 747,
    "start_time": "2025-05-02T15:07:34.991Z"
   },
   {
    "duration": 1756,
    "start_time": "2025-05-02T15:07:35.935Z"
   },
   {
    "duration": 0,
    "start_time": "2025-05-02T15:07:37.692Z"
   },
   {
    "duration": 0,
    "start_time": "2025-05-02T15:07:37.694Z"
   },
   {
    "duration": 0,
    "start_time": "2025-05-02T15:07:37.695Z"
   },
   {
    "duration": 18,
    "start_time": "2025-05-02T15:07:44.379Z"
   },
   {
    "duration": 19,
    "start_time": "2025-05-02T15:09:49.755Z"
   },
   {
    "duration": 80,
    "start_time": "2025-05-02T15:09:52.970Z"
   },
   {
    "duration": 5289,
    "start_time": "2025-05-02T15:10:20.029Z"
   },
   {
    "duration": 4,
    "start_time": "2025-05-02T15:10:25.321Z"
   },
   {
    "duration": 1047,
    "start_time": "2025-05-02T15:10:25.327Z"
   },
   {
    "duration": 1066,
    "start_time": "2025-05-02T15:10:30.997Z"
   },
   {
    "duration": 7,
    "start_time": "2025-05-02T15:10:32.065Z"
   },
   {
    "duration": 104,
    "start_time": "2025-05-02T15:10:35.671Z"
   },
   {
    "duration": 52,
    "start_time": "2025-05-02T15:10:36.202Z"
   },
   {
    "duration": 31,
    "start_time": "2025-05-02T15:10:37.472Z"
   },
   {
    "duration": 823,
    "start_time": "2025-05-02T15:10:38.372Z"
   },
   {
    "duration": 89,
    "start_time": "2025-05-02T15:11:21.045Z"
   },
   {
    "duration": 29,
    "start_time": "2025-05-02T15:11:31.372Z"
   },
   {
    "duration": 682,
    "start_time": "2025-05-02T15:11:32.776Z"
   },
   {
    "duration": 12,
    "start_time": "2025-05-02T15:12:00.057Z"
   },
   {
    "duration": 21,
    "start_time": "2025-05-02T15:12:17.576Z"
   },
   {
    "duration": 5231,
    "start_time": "2025-05-02T15:12:23.303Z"
   },
   {
    "duration": 1342,
    "start_time": "2025-05-02T15:12:28.537Z"
   },
   {
    "duration": 1011,
    "start_time": "2025-05-02T15:12:29.881Z"
   },
   {
    "duration": 1168,
    "start_time": "2025-05-02T15:12:30.894Z"
   },
   {
    "duration": 113,
    "start_time": "2025-05-02T15:12:32.064Z"
   },
   {
    "duration": 57,
    "start_time": "2025-05-02T15:12:32.178Z"
   },
   {
    "duration": 32,
    "start_time": "2025-05-02T15:12:32.237Z"
   },
   {
    "duration": 855,
    "start_time": "2025-05-02T15:12:32.270Z"
   },
   {
    "duration": 90,
    "start_time": "2025-05-02T15:12:33.127Z"
   },
   {
    "duration": 26,
    "start_time": "2025-05-02T15:12:33.219Z"
   },
   {
    "duration": 514,
    "start_time": "2025-05-02T15:12:33.262Z"
   },
   {
    "duration": 12,
    "start_time": "2025-05-02T15:12:33.778Z"
   },
   {
    "duration": 178,
    "start_time": "2025-05-02T15:12:33.791Z"
   },
   {
    "duration": 34,
    "start_time": "2025-05-02T15:13:07.015Z"
   },
   {
    "duration": 78,
    "start_time": "2025-05-02T15:16:28.237Z"
   },
   {
    "duration": 5373,
    "start_time": "2025-05-02T15:17:04.393Z"
   },
   {
    "duration": 1740,
    "start_time": "2025-05-02T15:19:14.292Z"
   },
   {
    "duration": 5169,
    "start_time": "2025-05-02T15:19:17.111Z"
   },
   {
    "duration": 4,
    "start_time": "2025-05-02T15:19:22.283Z"
   },
   {
    "duration": 987,
    "start_time": "2025-05-02T15:19:22.289Z"
   },
   {
    "duration": 493,
    "start_time": "2025-05-02T15:19:23.278Z"
   },
   {
    "duration": 118,
    "start_time": "2025-05-02T15:19:23.773Z"
   },
   {
    "duration": 48,
    "start_time": "2025-05-02T15:19:23.893Z"
   },
   {
    "duration": 46,
    "start_time": "2025-05-02T15:19:23.943Z"
   },
   {
    "duration": 1116,
    "start_time": "2025-05-02T15:19:23.990Z"
   },
   {
    "duration": 97,
    "start_time": "2025-05-02T15:19:25.108Z"
   },
   {
    "duration": 25,
    "start_time": "2025-05-02T15:19:25.208Z"
   },
   {
    "duration": 568,
    "start_time": "2025-05-02T15:19:25.235Z"
   },
   {
    "duration": 5346,
    "start_time": "2025-05-02T15:19:25.805Z"
   },
   {
    "duration": 15602,
    "start_time": "2025-05-02T15:20:47.055Z"
   },
   {
    "duration": 8,
    "start_time": "2025-05-02T15:22:16.370Z"
   },
   {
    "duration": 488,
    "start_time": "2025-05-02T15:24:20.650Z"
   },
   {
    "duration": 11,
    "start_time": "2025-05-02T15:31:37.350Z"
   },
   {
    "duration": 113,
    "start_time": "2025-05-02T15:31:41.579Z"
   },
   {
    "duration": 202,
    "start_time": "2025-05-02T15:31:50.461Z"
   },
   {
    "duration": 212,
    "start_time": "2025-05-02T15:35:59.453Z"
   },
   {
    "duration": 222,
    "start_time": "2025-05-02T15:36:59.088Z"
   },
   {
    "duration": 9,
    "start_time": "2025-05-02T15:37:20.289Z"
   },
   {
    "duration": 10,
    "start_time": "2025-05-02T15:37:25.777Z"
   },
   {
    "duration": 7,
    "start_time": "2025-05-02T15:37:28.922Z"
   },
   {
    "duration": 1490,
    "start_time": "2025-05-02T15:38:41.822Z"
   },
   {
    "duration": 165,
    "start_time": "2025-05-02T15:38:49.617Z"
   },
   {
    "duration": 1483,
    "start_time": "2025-05-02T15:39:12.126Z"
   },
   {
    "duration": 22,
    "start_time": "2025-05-02T15:39:17.962Z"
   },
   {
    "duration": 222,
    "start_time": "2025-05-02T15:39:27.395Z"
   },
   {
    "duration": 62,
    "start_time": "2025-05-02T15:39:44.116Z"
   },
   {
    "duration": 12,
    "start_time": "2025-05-02T15:41:01.451Z"
   },
   {
    "duration": 1238,
    "start_time": "2025-05-02T15:44:20.641Z"
   },
   {
    "duration": 1228,
    "start_time": "2025-05-02T15:45:10.714Z"
   },
   {
    "duration": 1315,
    "start_time": "2025-05-02T15:45:38.174Z"
   },
   {
    "duration": 4,
    "start_time": "2025-05-02T15:46:21.590Z"
   },
   {
    "duration": 1258,
    "start_time": "2025-05-02T15:46:31.842Z"
   },
   {
    "duration": 1265,
    "start_time": "2025-05-02T15:46:41.437Z"
   },
   {
    "duration": 1268,
    "start_time": "2025-05-02T15:46:50.103Z"
   },
   {
    "duration": 5073,
    "start_time": "2025-05-02T15:48:19.956Z"
   },
   {
    "duration": 1431,
    "start_time": "2025-05-02T15:48:25.032Z"
   },
   {
    "duration": 1035,
    "start_time": "2025-05-02T15:48:26.465Z"
   },
   {
    "duration": 624,
    "start_time": "2025-05-02T15:48:27.502Z"
   },
   {
    "duration": 116,
    "start_time": "2025-05-02T15:48:28.128Z"
   },
   {
    "duration": 67,
    "start_time": "2025-05-02T15:48:28.246Z"
   },
   {
    "duration": 34,
    "start_time": "2025-05-02T15:48:28.315Z"
   },
   {
    "duration": 1191,
    "start_time": "2025-05-02T15:48:28.350Z"
   },
   {
    "duration": 93,
    "start_time": "2025-05-02T15:48:29.543Z"
   },
   {
    "duration": 107,
    "start_time": "2025-05-02T15:48:29.637Z"
   },
   {
    "duration": 6115,
    "start_time": "2025-05-02T15:48:29.746Z"
   },
   {
    "duration": 120,
    "start_time": "2025-05-02T15:48:35.863Z"
   },
   {
    "duration": 0,
    "start_time": "2025-05-02T15:48:35.985Z"
   },
   {
    "duration": 0,
    "start_time": "2025-05-02T15:48:35.987Z"
   },
   {
    "duration": 0,
    "start_time": "2025-05-02T15:48:35.988Z"
   },
   {
    "duration": 6,
    "start_time": "2025-05-02T15:48:49.913Z"
   },
   {
    "duration": 53,
    "start_time": "2025-05-02T15:49:08.030Z"
   },
   {
    "duration": 5135,
    "start_time": "2025-05-02T15:49:20.918Z"
   },
   {
    "duration": 1720,
    "start_time": "2025-05-02T15:49:26.056Z"
   },
   {
    "duration": 2311,
    "start_time": "2025-05-02T15:49:27.778Z"
   },
   {
    "duration": 612,
    "start_time": "2025-05-02T15:49:30.092Z"
   },
   {
    "duration": 117,
    "start_time": "2025-05-02T15:49:30.707Z"
   },
   {
    "duration": 68,
    "start_time": "2025-05-02T15:49:30.827Z"
   },
   {
    "duration": 32,
    "start_time": "2025-05-02T15:49:30.897Z"
   },
   {
    "duration": 1191,
    "start_time": "2025-05-02T15:49:30.931Z"
   },
   {
    "duration": 94,
    "start_time": "2025-05-02T15:49:32.124Z"
   },
   {
    "duration": 21,
    "start_time": "2025-05-02T15:49:32.220Z"
   },
   {
    "duration": 530,
    "start_time": "2025-05-02T15:49:32.242Z"
   },
   {
    "duration": 17895,
    "start_time": "2025-05-02T15:49:32.774Z"
   },
   {
    "duration": 494,
    "start_time": "2025-05-02T15:51:36.533Z"
   },
   {
    "duration": 122,
    "start_time": "2025-05-02T15:53:01.859Z"
   },
   {
    "duration": 7,
    "start_time": "2025-05-02T15:53:07.535Z"
   },
   {
    "duration": 296,
    "start_time": "2025-05-02T15:54:15.833Z"
   },
   {
    "duration": 19,
    "start_time": "2025-05-02T15:54:43.830Z"
   },
   {
    "duration": 1046,
    "start_time": "2025-05-02T15:55:00.786Z"
   },
   {
    "duration": 18,
    "start_time": "2025-05-02T15:56:28.592Z"
   },
   {
    "duration": 87,
    "start_time": "2025-05-02T15:59:45.310Z"
   },
   {
    "duration": 12,
    "start_time": "2025-05-02T15:59:54.503Z"
   },
   {
    "duration": 61,
    "start_time": "2025-05-02T16:00:16.356Z"
   },
   {
    "duration": 10,
    "start_time": "2025-05-02T16:00:23.590Z"
   },
   {
    "duration": 4,
    "start_time": "2025-05-02T16:00:26.380Z"
   },
   {
    "duration": 47,
    "start_time": "2025-05-02T16:00:42.750Z"
   },
   {
    "duration": 120001,
    "start_time": "2025-05-02T16:01:01.241Z"
   },
   {
    "duration": 0,
    "start_time": "2025-05-02T16:03:01.243Z"
   },
   {
    "duration": 18,
    "start_time": "2025-05-02T16:03:56.527Z"
   },
   {
    "duration": 9,
    "start_time": "2025-05-02T16:03:56.822Z"
   },
   {
    "duration": 16,
    "start_time": "2025-05-02T16:04:38.848Z"
   },
   {
    "duration": 11,
    "start_time": "2025-05-02T16:06:09.982Z"
   },
   {
    "duration": 11,
    "start_time": "2025-05-02T16:06:20.703Z"
   },
   {
    "duration": 5,
    "start_time": "2025-05-02T16:06:24.747Z"
   },
   {
    "duration": 49,
    "start_time": "2025-05-02T16:06:31.846Z"
   },
   {
    "duration": 16,
    "start_time": "2025-05-02T16:06:55.428Z"
   },
   {
    "duration": 6,
    "start_time": "2025-05-02T16:07:03.327Z"
   },
   {
    "duration": 74,
    "start_time": "2025-05-02T16:09:05.527Z"
   },
   {
    "duration": 48,
    "start_time": "2025-05-02T16:09:26.234Z"
   },
   {
    "duration": 4,
    "start_time": "2025-05-02T16:09:40.353Z"
   },
   {
    "duration": 5,
    "start_time": "2025-05-02T16:09:45.608Z"
   },
   {
    "duration": 113248,
    "start_time": "2025-05-02T16:10:03.329Z"
   },
   {
    "duration": 109133,
    "start_time": "2025-05-02T16:14:52.336Z"
   },
   {
    "duration": 109306,
    "start_time": "2025-05-02T16:16:50.129Z"
   },
   {
    "duration": 10,
    "start_time": "2025-05-02T16:21:10.277Z"
   },
   {
    "duration": 37,
    "start_time": "2025-05-02T16:21:55.094Z"
   },
   {
    "duration": 51,
    "start_time": "2025-05-02T16:21:58.118Z"
   },
   {
    "duration": 18,
    "start_time": "2025-05-02T16:22:02.183Z"
   },
   {
    "duration": 4,
    "start_time": "2025-05-02T16:22:11.581Z"
   },
   {
    "duration": 897,
    "start_time": "2025-05-02T16:22:11.977Z"
   },
   {
    "duration": 18,
    "start_time": "2025-05-02T16:22:12.876Z"
   },
   {
    "duration": 484,
    "start_time": "2025-05-02T16:22:13.405Z"
   },
   {
    "duration": 112,
    "start_time": "2025-05-02T16:22:13.892Z"
   },
   {
    "duration": 46,
    "start_time": "2025-05-02T16:22:14.459Z"
   },
   {
    "duration": 79,
    "start_time": "2025-05-02T16:22:15.084Z"
   },
   {
    "duration": 1093,
    "start_time": "2025-05-02T16:22:15.720Z"
   },
   {
    "duration": 92,
    "start_time": "2025-05-02T16:22:16.815Z"
   },
   {
    "duration": 910,
    "start_time": "2025-05-02T16:22:16.909Z"
   },
   {
    "duration": 5173,
    "start_time": "2025-05-02T16:22:43.699Z"
   },
   {
    "duration": 1471,
    "start_time": "2025-05-02T16:22:48.875Z"
   },
   {
    "duration": 965,
    "start_time": "2025-05-02T16:22:50.348Z"
   },
   {
    "duration": 134,
    "start_time": "2025-05-02T16:22:51.315Z"
   },
   {
    "duration": 0,
    "start_time": "2025-05-02T16:22:51.451Z"
   },
   {
    "duration": 0,
    "start_time": "2025-05-02T16:22:51.453Z"
   },
   {
    "duration": 0,
    "start_time": "2025-05-02T16:22:51.454Z"
   },
   {
    "duration": 0,
    "start_time": "2025-05-02T16:22:51.461Z"
   },
   {
    "duration": 0,
    "start_time": "2025-05-02T16:22:51.462Z"
   },
   {
    "duration": 0,
    "start_time": "2025-05-02T16:22:51.463Z"
   },
   {
    "duration": 0,
    "start_time": "2025-05-02T16:22:51.464Z"
   },
   {
    "duration": 0,
    "start_time": "2025-05-02T16:22:51.465Z"
   },
   {
    "duration": 0,
    "start_time": "2025-05-02T16:22:51.466Z"
   },
   {
    "duration": 0,
    "start_time": "2025-05-02T16:22:51.468Z"
   },
   {
    "duration": 622,
    "start_time": "2025-05-02T16:23:08.704Z"
   },
   {
    "duration": 62,
    "start_time": "2025-05-02T16:23:09.742Z"
   },
   {
    "duration": 16,
    "start_time": "2025-05-02T16:23:10.315Z"
   },
   {
    "duration": 1000,
    "start_time": "2025-05-02T16:23:34.232Z"
   },
   {
    "duration": 607,
    "start_time": "2025-05-02T16:23:35.234Z"
   },
   {
    "duration": 44,
    "start_time": "2025-05-02T16:23:36.261Z"
   },
   {
    "duration": 78,
    "start_time": "2025-05-02T16:23:40.826Z"
   },
   {
    "duration": 1388,
    "start_time": "2025-05-02T16:23:45.826Z"
   },
   {
    "duration": 482,
    "start_time": "2025-05-02T16:24:05.332Z"
   },
   {
    "duration": 1537,
    "start_time": "2025-05-02T16:24:14.147Z"
   },
   {
    "duration": 0,
    "start_time": "2025-05-02T16:24:15.687Z"
   },
   {
    "duration": 7,
    "start_time": "2025-05-02T16:24:24.532Z"
   },
   {
    "duration": 917,
    "start_time": "2025-05-02T16:24:24.926Z"
   },
   {
    "duration": 579,
    "start_time": "2025-05-02T16:24:25.846Z"
   },
   {
    "duration": 50,
    "start_time": "2025-05-02T16:24:26.426Z"
   },
   {
    "duration": 1625,
    "start_time": "2025-05-02T16:24:26.478Z"
   },
   {
    "duration": 910,
    "start_time": "2025-05-02T16:24:39.982Z"
   },
   {
    "duration": 576,
    "start_time": "2025-05-02T16:24:41.031Z"
   },
   {
    "duration": 85,
    "start_time": "2025-05-02T16:24:43.048Z"
   },
   {
    "duration": 49,
    "start_time": "2025-05-02T16:24:43.721Z"
   },
   {
    "duration": 29,
    "start_time": "2025-05-02T16:24:44.260Z"
   },
   {
    "duration": 497,
    "start_time": "2025-05-02T16:24:45.231Z"
   },
   {
    "duration": 92,
    "start_time": "2025-05-02T16:24:59.644Z"
   },
   {
    "duration": 541,
    "start_time": "2025-05-02T16:25:00.272Z"
   },
   {
    "duration": 18957,
    "start_time": "2025-05-02T16:25:00.816Z"
   },
   {
    "duration": 50,
    "start_time": "2025-05-02T16:25:19.775Z"
   },
   {
    "duration": 76,
    "start_time": "2025-05-02T16:25:19.827Z"
   },
   {
    "duration": 617,
    "start_time": "2025-05-02T16:25:30.366Z"
   },
   {
    "duration": 30085,
    "start_time": "2025-05-02T16:25:38.508Z"
   },
   {
    "duration": 19519,
    "start_time": "2025-05-02T16:26:21.750Z"
   },
   {
    "duration": 222,
    "start_time": "2025-05-02T16:31:40.259Z"
   },
   {
    "duration": 17,
    "start_time": "2025-05-02T16:35:28.628Z"
   },
   {
    "duration": 42,
    "start_time": "2025-05-02T16:35:36.690Z"
   },
   {
    "duration": 227,
    "start_time": "2025-05-02T16:35:53.446Z"
   },
   {
    "duration": 13,
    "start_time": "2025-05-02T16:40:59.729Z"
   },
   {
    "duration": 15,
    "start_time": "2025-05-02T16:41:03.583Z"
   },
   {
    "duration": 4,
    "start_time": "2025-05-02T16:41:07.445Z"
   },
   {
    "duration": 7397,
    "start_time": "2025-05-02T16:41:18.648Z"
   },
   {
    "duration": 0,
    "start_time": "2025-05-02T16:41:26.087Z"
   },
   {
    "duration": 7390,
    "start_time": "2025-05-02T16:41:29.422Z"
   },
   {
    "duration": 11,
    "start_time": "2025-05-02T16:41:58.876Z"
   },
   {
    "duration": 29,
    "start_time": "2025-05-02T16:42:05.879Z"
   },
   {
    "duration": 106,
    "start_time": "2025-05-02T16:42:08.773Z"
   },
   {
    "duration": 27,
    "start_time": "2025-05-02T16:42:15.244Z"
   },
   {
    "duration": 4,
    "start_time": "2025-05-02T16:43:26.119Z"
   },
   {
    "duration": 10,
    "start_time": "2025-05-02T16:43:43.742Z"
   },
   {
    "duration": 11,
    "start_time": "2025-05-02T16:43:49.310Z"
   },
   {
    "duration": 14,
    "start_time": "2025-05-02T16:47:02.662Z"
   },
   {
    "duration": 13,
    "start_time": "2025-05-02T16:48:20.877Z"
   },
   {
    "duration": 11,
    "start_time": "2025-05-02T16:48:28.413Z"
   },
   {
    "duration": 23589,
    "start_time": "2025-05-02T16:48:55.674Z"
   },
   {
    "duration": 20,
    "start_time": "2025-05-02T16:49:33.548Z"
   },
   {
    "duration": 84,
    "start_time": "2025-05-02T16:49:37.126Z"
   },
   {
    "duration": 90,
    "start_time": "2025-05-02T16:49:43.437Z"
   },
   {
    "duration": 111,
    "start_time": "2025-05-02T16:52:27.528Z"
   },
   {
    "duration": 11,
    "start_time": "2025-05-02T17:00:38.116Z"
   },
   {
    "duration": 11,
    "start_time": "2025-05-02T17:00:42.580Z"
   },
   {
    "duration": 14,
    "start_time": "2025-05-02T17:00:45.178Z"
   },
   {
    "duration": 4,
    "start_time": "2025-05-02T17:00:52.724Z"
   },
   {
    "duration": 12,
    "start_time": "2025-05-02T17:01:56.974Z"
   },
   {
    "duration": 3,
    "start_time": "2025-05-02T17:01:59.941Z"
   },
   {
    "duration": 62,
    "start_time": "2025-05-02T17:02:00.306Z"
   },
   {
    "duration": 5,
    "start_time": "2025-05-02T17:02:06.506Z"
   },
   {
    "duration": 60,
    "start_time": "2025-05-02T17:02:43.117Z"
   },
   {
    "duration": 4,
    "start_time": "2025-05-02T17:02:52.915Z"
   },
   {
    "duration": 63,
    "start_time": "2025-05-02T17:02:58.917Z"
   },
   {
    "duration": 59,
    "start_time": "2025-05-02T17:02:59.555Z"
   },
   {
    "duration": 58,
    "start_time": "2025-05-02T17:03:17.375Z"
   },
   {
    "duration": 60,
    "start_time": "2025-05-02T17:03:42.138Z"
   },
   {
    "duration": 51,
    "start_time": "2025-05-02T17:04:22.774Z"
   },
   {
    "duration": 72,
    "start_time": "2025-05-02T17:05:05.584Z"
   },
   {
    "duration": 18,
    "start_time": "2025-05-02T17:05:11.478Z"
   },
   {
    "duration": 5,
    "start_time": "2025-05-02T17:05:30.618Z"
   },
   {
    "duration": 49,
    "start_time": "2025-05-02T17:05:51.622Z"
   },
   {
    "duration": 50,
    "start_time": "2025-05-02T17:06:20.286Z"
   },
   {
    "duration": 74,
    "start_time": "2025-05-02T17:06:27.123Z"
   },
   {
    "duration": 4,
    "start_time": "2025-05-02T17:06:31.839Z"
   },
   {
    "duration": 2,
    "start_time": "2025-05-02T17:07:24.841Z"
   },
   {
    "duration": 11,
    "start_time": "2025-05-02T17:07:30.345Z"
   },
   {
    "duration": 3,
    "start_time": "2025-05-02T17:07:58.062Z"
   },
   {
    "duration": 3,
    "start_time": "2025-05-02T17:07:58.462Z"
   },
   {
    "duration": 11,
    "start_time": "2025-05-02T17:07:59.902Z"
   },
   {
    "duration": 5482,
    "start_time": "2025-05-02T17:10:53.707Z"
   },
   {
    "duration": 1594,
    "start_time": "2025-05-02T17:10:59.192Z"
   },
   {
    "duration": 1074,
    "start_time": "2025-05-02T17:11:00.788Z"
   },
   {
    "duration": 561,
    "start_time": "2025-05-02T17:11:01.863Z"
   },
   {
    "duration": 81,
    "start_time": "2025-05-02T17:11:02.426Z"
   },
   {
    "duration": 55,
    "start_time": "2025-05-02T17:11:02.509Z"
   },
   {
    "duration": 31,
    "start_time": "2025-05-02T17:11:02.565Z"
   },
   {
    "duration": 386,
    "start_time": "2025-05-02T17:11:02.597Z"
   },
   {
    "duration": 84,
    "start_time": "2025-05-02T17:11:02.984Z"
   },
   {
    "duration": 37,
    "start_time": "2025-05-02T17:11:03.070Z"
   },
   {
    "duration": 150,
    "start_time": "2025-05-02T17:11:03.108Z"
   },
   {
    "duration": 0,
    "start_time": "2025-05-02T17:11:03.260Z"
   },
   {
    "duration": 5444,
    "start_time": "2025-05-02T17:11:22.877Z"
   },
   {
    "duration": 1517,
    "start_time": "2025-05-02T17:11:28.323Z"
   },
   {
    "duration": 1081,
    "start_time": "2025-05-02T17:11:29.842Z"
   },
   {
    "duration": 579,
    "start_time": "2025-05-02T17:11:30.924Z"
   },
   {
    "duration": 90,
    "start_time": "2025-05-02T17:11:31.505Z"
   },
   {
    "duration": 65,
    "start_time": "2025-05-02T17:11:31.597Z"
   },
   {
    "duration": 29,
    "start_time": "2025-05-02T17:11:31.664Z"
   },
   {
    "duration": 425,
    "start_time": "2025-05-02T17:11:31.695Z"
   },
   {
    "duration": 80,
    "start_time": "2025-05-02T17:11:32.122Z"
   },
   {
    "duration": 37,
    "start_time": "2025-05-02T17:11:32.204Z"
   },
   {
    "duration": 147,
    "start_time": "2025-05-02T17:11:32.260Z"
   },
   {
    "duration": 0,
    "start_time": "2025-05-02T17:11:32.409Z"
   },
   {
    "duration": 17,
    "start_time": "2025-05-02T17:13:08.987Z"
   },
   {
    "duration": 13,
    "start_time": "2025-05-02T17:13:21.148Z"
   },
   {
    "duration": 6,
    "start_time": "2025-05-02T17:13:28.603Z"
   },
   {
    "duration": 44,
    "start_time": "2025-05-02T17:13:36.323Z"
   },
   {
    "duration": 598,
    "start_time": "2025-05-02T17:13:44.837Z"
   },
   {
    "duration": 29469,
    "start_time": "2025-05-02T17:13:52.104Z"
   },
   {
    "duration": 5656,
    "start_time": "2025-05-02T19:21:16.936Z"
   },
   {
    "duration": 1629,
    "start_time": "2025-05-02T19:21:22.595Z"
   },
   {
    "duration": 1122,
    "start_time": "2025-05-02T19:21:24.226Z"
   },
   {
    "duration": 583,
    "start_time": "2025-05-02T19:21:25.349Z"
   },
   {
    "duration": 92,
    "start_time": "2025-05-02T19:21:25.935Z"
   },
   {
    "duration": 68,
    "start_time": "2025-05-02T19:21:26.029Z"
   },
   {
    "duration": 147,
    "start_time": "2025-05-02T19:21:26.098Z"
   },
   {
    "duration": 425,
    "start_time": "2025-05-02T19:21:26.247Z"
   },
   {
    "duration": 101,
    "start_time": "2025-05-02T19:21:26.677Z"
   },
   {
    "duration": 47,
    "start_time": "2025-05-02T19:21:26.781Z"
   },
   {
    "duration": 605,
    "start_time": "2025-05-02T19:21:26.830Z"
   },
   {
    "duration": 20440,
    "start_time": "2025-05-02T19:21:27.438Z"
   },
   {
    "duration": 10237,
    "start_time": "2025-05-04T06:31:50.549Z"
   },
   {
    "duration": 1498,
    "start_time": "2025-05-04T06:32:00.788Z"
   },
   {
    "duration": 899,
    "start_time": "2025-05-04T06:32:02.288Z"
   },
   {
    "duration": 542,
    "start_time": "2025-05-04T06:32:03.189Z"
   },
   {
    "duration": 78,
    "start_time": "2025-05-04T06:32:03.733Z"
   },
   {
    "duration": 41,
    "start_time": "2025-05-04T06:32:03.812Z"
   },
   {
    "duration": 43,
    "start_time": "2025-05-04T06:32:03.855Z"
   },
   {
    "duration": 480,
    "start_time": "2025-05-04T06:32:03.900Z"
   },
   {
    "duration": 95,
    "start_time": "2025-05-04T06:32:04.382Z"
   },
   {
    "duration": 48,
    "start_time": "2025-05-04T06:32:04.478Z"
   },
   {
    "duration": 615,
    "start_time": "2025-05-04T06:32:04.528Z"
   },
   {
    "duration": 17798,
    "start_time": "2025-05-04T06:32:05.145Z"
   },
   {
    "duration": 122,
    "start_time": "2025-05-04T06:32:25.674Z"
   },
   {
    "duration": 7956,
    "start_time": "2025-05-04T06:33:14.897Z"
   },
   {
    "duration": 94,
    "start_time": "2025-05-04T06:33:26.726Z"
   },
   {
    "duration": 216,
    "start_time": "2025-05-04T06:34:37.041Z"
   },
   {
    "duration": 20,
    "start_time": "2025-05-04T06:34:44.953Z"
   },
   {
    "duration": 648,
    "start_time": "2025-05-04T06:34:52.874Z"
   },
   {
    "duration": 31538,
    "start_time": "2025-05-04T06:34:58.937Z"
   },
   {
    "duration": 5,
    "start_time": "2025-05-04T06:35:51.550Z"
   },
   {
    "duration": 218,
    "start_time": "2025-05-04T06:36:10.071Z"
   },
   {
    "duration": 10,
    "start_time": "2025-05-04T06:39:18.218Z"
   },
   {
    "duration": 30,
    "start_time": "2025-05-04T06:39:23.951Z"
   },
   {
    "duration": 17,
    "start_time": "2025-05-04T06:40:41.117Z"
   },
   {
    "duration": 12380,
    "start_time": "2025-05-04T06:40:53.256Z"
   },
   {
    "duration": 18,
    "start_time": "2025-05-04T06:41:21.821Z"
   },
   {
    "duration": 16,
    "start_time": "2025-05-04T06:42:56.979Z"
   },
   {
    "duration": 26,
    "start_time": "2025-05-04T06:44:00.286Z"
   },
   {
    "duration": 29844,
    "start_time": "2025-05-04T06:44:02.664Z"
   },
   {
    "duration": 17,
    "start_time": "2025-05-04T06:44:44.149Z"
   },
   {
    "duration": 33,
    "start_time": "2025-05-04T06:44:44.711Z"
   },
   {
    "duration": 28633,
    "start_time": "2025-05-04T06:44:45.116Z"
   },
   {
    "duration": 17,
    "start_time": "2025-05-04T06:49:14.972Z"
   },
   {
    "duration": 234,
    "start_time": "2025-05-04T06:49:40.186Z"
   },
   {
    "duration": 19,
    "start_time": "2025-05-04T06:49:47.333Z"
   },
   {
    "duration": 5,
    "start_time": "2025-05-04T06:51:29.100Z"
   },
   {
    "duration": 606,
    "start_time": "2025-05-04T06:52:35.942Z"
   },
   {
    "duration": 68,
    "start_time": "2025-05-04T06:53:30.257Z"
   },
   {
    "duration": 842,
    "start_time": "2025-05-04T06:53:41.962Z"
   },
   {
    "duration": 69,
    "start_time": "2025-05-04T06:53:42.807Z"
   },
   {
    "duration": 827,
    "start_time": "2025-05-04T06:54:11.314Z"
   },
   {
    "duration": 75,
    "start_time": "2025-05-04T06:54:12.143Z"
   },
   {
    "duration": 7024,
    "start_time": "2025-05-04T06:55:00.569Z"
   },
   {
    "duration": 5,
    "start_time": "2025-05-04T06:55:07.596Z"
   },
   {
    "duration": 852,
    "start_time": "2025-05-04T06:55:07.603Z"
   },
   {
    "duration": 474,
    "start_time": "2025-05-04T06:55:08.461Z"
   },
   {
    "duration": 75,
    "start_time": "2025-05-04T06:55:08.937Z"
   },
   {
    "duration": 237,
    "start_time": "2025-05-04T06:55:09.013Z"
   },
   {
    "duration": 31,
    "start_time": "2025-05-04T06:55:09.251Z"
   },
   {
    "duration": 472,
    "start_time": "2025-05-04T06:55:09.284Z"
   },
   {
    "duration": 82,
    "start_time": "2025-05-04T06:55:09.761Z"
   },
   {
    "duration": 34,
    "start_time": "2025-05-04T06:55:09.846Z"
   },
   {
    "duration": 1,
    "start_time": "2025-05-04T06:55:09.881Z"
   },
   {
    "duration": 0,
    "start_time": "2025-05-04T06:55:09.883Z"
   },
   {
    "duration": 0,
    "start_time": "2025-05-04T06:55:09.884Z"
   },
   {
    "duration": 6911,
    "start_time": "2025-05-04T06:55:42.868Z"
   },
   {
    "duration": 1362,
    "start_time": "2025-05-04T06:55:49.782Z"
   },
   {
    "duration": 835,
    "start_time": "2025-05-04T06:55:51.145Z"
   },
   {
    "duration": 560,
    "start_time": "2025-05-04T06:55:51.982Z"
   },
   {
    "duration": 83,
    "start_time": "2025-05-04T06:55:52.544Z"
   },
   {
    "duration": 249,
    "start_time": "2025-05-04T06:55:52.628Z"
   },
   {
    "duration": 37,
    "start_time": "2025-05-04T06:55:52.879Z"
   },
   {
    "duration": 475,
    "start_time": "2025-05-04T06:55:52.918Z"
   },
   {
    "duration": 85,
    "start_time": "2025-05-04T06:55:53.395Z"
   },
   {
    "duration": 124,
    "start_time": "2025-05-04T06:55:53.481Z"
   },
   {
    "duration": 0,
    "start_time": "2025-05-04T06:55:53.606Z"
   },
   {
    "duration": 0,
    "start_time": "2025-05-04T06:55:53.608Z"
   },
   {
    "duration": 0,
    "start_time": "2025-05-04T06:55:53.609Z"
   },
   {
    "duration": 9,
    "start_time": "2025-05-04T06:56:41.110Z"
   },
   {
    "duration": 4,
    "start_time": "2025-05-04T06:56:44.951Z"
   },
   {
    "duration": 555,
    "start_time": "2025-05-04T06:57:14.315Z"
   },
   {
    "duration": 16981,
    "start_time": "2025-05-04T06:57:23.846Z"
   },
   {
    "duration": 823,
    "start_time": "2025-05-04T06:58:18.110Z"
   },
   {
    "duration": 64,
    "start_time": "2025-05-04T06:58:19.311Z"
   },
   {
    "duration": 17338,
    "start_time": "2025-05-04T06:58:23.175Z"
   },
   {
    "duration": 567,
    "start_time": "2025-05-04T06:58:48.301Z"
   },
   {
    "duration": 1564,
    "start_time": "2025-05-04T07:05:47.523Z"
   },
   {
    "duration": 755,
    "start_time": "2025-05-04T07:06:15.754Z"
   },
   {
    "duration": 439,
    "start_time": "2025-05-04T07:06:16.771Z"
   },
   {
    "duration": 72,
    "start_time": "2025-05-04T07:06:17.622Z"
   },
   {
    "duration": 397,
    "start_time": "2025-05-04T07:06:18.580Z"
   },
   {
    "duration": 28,
    "start_time": "2025-05-04T07:06:19.695Z"
   },
   {
    "duration": 487,
    "start_time": "2025-05-04T07:06:20.231Z"
   },
   {
    "duration": 77,
    "start_time": "2025-05-04T07:06:20.938Z"
   },
   {
    "duration": 546,
    "start_time": "2025-05-04T07:06:21.587Z"
   },
   {
    "duration": 718,
    "start_time": "2025-05-04T07:06:33.796Z"
   },
   {
    "duration": 2,
    "start_time": "2025-05-04T07:07:08.833Z"
   },
   {
    "duration": 87,
    "start_time": "2025-05-04T07:11:31.557Z"
   },
   {
    "duration": 18,
    "start_time": "2025-05-04T07:11:36.877Z"
   },
   {
    "duration": 17,
    "start_time": "2025-05-04T07:11:42.626Z"
   },
   {
    "duration": 16,
    "start_time": "2025-05-04T07:11:54.323Z"
   },
   {
    "duration": 4,
    "start_time": "2025-05-04T07:12:13.209Z"
   },
   {
    "duration": 4,
    "start_time": "2025-05-04T07:12:23.297Z"
   },
   {
    "duration": 4,
    "start_time": "2025-05-04T07:12:27.788Z"
   },
   {
    "duration": 7257,
    "start_time": "2025-05-04T07:13:57.392Z"
   },
   {
    "duration": 1415,
    "start_time": "2025-05-04T07:14:24.839Z"
   },
   {
    "duration": 8379,
    "start_time": "2025-05-04T07:14:41.933Z"
   },
   {
    "duration": 9,
    "start_time": "2025-05-04T07:15:00.411Z"
   },
   {
    "duration": 9,
    "start_time": "2025-05-04T07:15:03.032Z"
   },
   {
    "duration": 8114,
    "start_time": "2025-05-04T07:15:21.178Z"
   },
   {
    "duration": 7990,
    "start_time": "2025-05-04T07:15:36.954Z"
   },
   {
    "duration": 1453,
    "start_time": "2025-05-04T07:16:00.027Z"
   },
   {
    "duration": 8041,
    "start_time": "2025-05-04T07:17:35.232Z"
   },
   {
    "duration": 7926,
    "start_time": "2025-05-04T07:17:55.471Z"
   },
   {
    "duration": 8266,
    "start_time": "2025-05-04T07:19:37.175Z"
   },
   {
    "duration": 8552,
    "start_time": "2025-05-04T07:19:53.175Z"
   },
   {
    "duration": 8481,
    "start_time": "2025-05-04T07:20:24.814Z"
   },
   {
    "duration": 8651,
    "start_time": "2025-05-04T07:20:42.831Z"
   },
   {
    "duration": 8189,
    "start_time": "2025-05-04T07:21:32.860Z"
   },
   {
    "duration": 8528,
    "start_time": "2025-05-04T07:23:47.849Z"
   },
   {
    "duration": 5584,
    "start_time": "2025-05-04T07:25:12.012Z"
   },
   {
    "duration": 7,
    "start_time": "2025-05-04T07:26:32.330Z"
   },
   {
    "duration": 3394,
    "start_time": "2025-05-04T07:27:37.680Z"
   },
   {
    "duration": 6,
    "start_time": "2025-05-04T07:27:48.738Z"
   },
   {
    "duration": 3405,
    "start_time": "2025-05-04T07:27:49.766Z"
   },
   {
    "duration": 4532,
    "start_time": "2025-05-04T07:28:03.608Z"
   },
   {
    "duration": 3444,
    "start_time": "2025-05-04T07:28:13.072Z"
   },
   {
    "duration": 66,
    "start_time": "2025-05-04T07:28:41.095Z"
   },
   {
    "duration": 182,
    "start_time": "2025-05-04T07:30:19.139Z"
   },
   {
    "duration": 843,
    "start_time": "2025-05-04T07:30:27.111Z"
   },
   {
    "duration": 556,
    "start_time": "2025-05-04T07:30:28.556Z"
   },
   {
    "duration": 76,
    "start_time": "2025-05-04T07:30:29.554Z"
   },
   {
    "duration": 470,
    "start_time": "2025-05-04T07:30:33.878Z"
   },
   {
    "duration": 36,
    "start_time": "2025-05-04T07:30:34.350Z"
   },
   {
    "duration": 574,
    "start_time": "2025-05-04T07:30:34.740Z"
   },
   {
    "duration": 101,
    "start_time": "2025-05-04T07:30:35.316Z"
   },
   {
    "duration": 3,
    "start_time": "2025-05-04T07:30:35.419Z"
   },
   {
    "duration": 756,
    "start_time": "2025-05-04T07:30:35.731Z"
   },
   {
    "duration": 20924,
    "start_time": "2025-05-04T07:30:36.489Z"
   },
   {
    "duration": 922,
    "start_time": "2025-05-04T07:30:57.415Z"
   },
   {
    "duration": 83,
    "start_time": "2025-05-04T07:30:58.339Z"
   },
   {
    "duration": 110,
    "start_time": "2025-05-04T07:30:58.424Z"
   },
   {
    "duration": 6,
    "start_time": "2025-05-04T07:30:58.536Z"
   },
   {
    "duration": 3467,
    "start_time": "2025-05-04T07:30:58.543Z"
   },
   {
    "duration": 11,
    "start_time": "2025-05-04T07:39:05.962Z"
   },
   {
    "duration": 3388,
    "start_time": "2025-05-04T07:39:06.958Z"
   },
   {
    "duration": 135,
    "start_time": "2025-05-04T07:41:17.676Z"
   },
   {
    "duration": 363,
    "start_time": "2025-05-04T07:41:18.123Z"
   },
   {
    "duration": 5,
    "start_time": "2025-05-04T07:44:03.193Z"
   },
   {
    "duration": 9511,
    "start_time": "2025-05-04T07:44:03.575Z"
   },
   {
    "duration": 8,
    "start_time": "2025-05-04T07:45:03.173Z"
   },
   {
    "duration": 244,
    "start_time": "2025-05-04T07:45:03.399Z"
   },
   {
    "duration": 5,
    "start_time": "2025-05-04T07:45:36.826Z"
   },
   {
    "duration": 9674,
    "start_time": "2025-05-04T07:45:37.080Z"
   },
   {
    "duration": 5,
    "start_time": "2025-05-04T07:45:47.314Z"
   },
   {
    "duration": 9656,
    "start_time": "2025-05-04T07:45:47.530Z"
   },
   {
    "duration": 6,
    "start_time": "2025-05-04T07:46:39.838Z"
   },
   {
    "duration": 255,
    "start_time": "2025-05-04T07:46:40.338Z"
   },
   {
    "duration": 7,
    "start_time": "2025-05-04T07:47:36.880Z"
   },
   {
    "duration": 9342,
    "start_time": "2025-05-04T07:47:37.313Z"
   },
   {
    "duration": 6,
    "start_time": "2025-05-04T07:48:08.183Z"
   },
   {
    "duration": 9264,
    "start_time": "2025-05-04T07:48:08.625Z"
   },
   {
    "duration": 6,
    "start_time": "2025-05-04T07:48:59.933Z"
   },
   {
    "duration": 245,
    "start_time": "2025-05-04T07:49:00.354Z"
   },
   {
    "duration": 6,
    "start_time": "2025-05-04T07:49:41.889Z"
   },
   {
    "duration": 9235,
    "start_time": "2025-05-04T07:49:42.332Z"
   },
   {
    "duration": 142,
    "start_time": "2025-05-04T07:50:04.237Z"
   },
   {
    "duration": 269,
    "start_time": "2025-05-04T07:50:04.481Z"
   },
   {
    "duration": 6,
    "start_time": "2025-05-04T07:50:11.711Z"
   },
   {
    "duration": 1145,
    "start_time": "2025-05-04T07:50:12.047Z"
   },
   {
    "duration": 6,
    "start_time": "2025-05-04T07:50:58.428Z"
   },
   {
    "duration": 9572,
    "start_time": "2025-05-04T07:50:58.819Z"
   },
   {
    "duration": 11,
    "start_time": "2025-05-04T07:52:36.700Z"
   },
   {
    "duration": 68,
    "start_time": "2025-05-04T07:52:38.682Z"
   },
   {
    "duration": 6,
    "start_time": "2025-05-04T07:52:39.526Z"
   },
   {
    "duration": 9328,
    "start_time": "2025-05-04T07:52:40.003Z"
   },
   {
    "duration": 4,
    "start_time": "2025-05-04T07:53:42.131Z"
   },
   {
    "duration": 10,
    "start_time": "2025-05-04T07:56:43.000Z"
   },
   {
    "duration": 11,
    "start_time": "2025-05-04T07:56:45.788Z"
   },
   {
    "duration": 26,
    "start_time": "2025-05-04T07:57:10.379Z"
   },
   {
    "duration": 10,
    "start_time": "2025-05-04T07:59:09.748Z"
   },
   {
    "duration": 267,
    "start_time": "2025-05-04T07:59:17.637Z"
   },
   {
    "duration": 155,
    "start_time": "2025-05-04T07:59:44.797Z"
   },
   {
    "duration": 209,
    "start_time": "2025-05-04T08:03:10.246Z"
   },
   {
    "duration": 278,
    "start_time": "2025-05-04T08:03:22.651Z"
   },
   {
    "duration": 1028,
    "start_time": "2025-05-04T08:04:27.119Z"
   },
   {
    "duration": 1141,
    "start_time": "2025-05-04T08:05:58.900Z"
   },
   {
    "duration": 85,
    "start_time": "2025-05-04T08:06:33.825Z"
   },
   {
    "duration": 1536,
    "start_time": "2025-05-04T08:06:37.230Z"
   },
   {
    "duration": 1127,
    "start_time": "2025-05-04T08:07:34.913Z"
   },
   {
    "duration": 1055,
    "start_time": "2025-05-04T08:08:08.870Z"
   },
   {
    "duration": 1226,
    "start_time": "2025-05-04T08:08:23.707Z"
   },
   {
    "duration": 1078,
    "start_time": "2025-05-04T08:08:40.487Z"
   },
   {
    "duration": 1126,
    "start_time": "2025-05-04T08:09:06.403Z"
   },
   {
    "duration": 5,
    "start_time": "2025-05-04T08:28:17.689Z"
   },
   {
    "duration": 16,
    "start_time": "2025-05-04T08:32:14.977Z"
   },
   {
    "duration": 18,
    "start_time": "2025-05-04T08:34:04.515Z"
   },
   {
    "duration": 18,
    "start_time": "2025-05-04T08:34:14.078Z"
   },
   {
    "duration": 3,
    "start_time": "2025-05-04T08:34:20.107Z"
   },
   {
    "duration": 46,
    "start_time": "2025-05-04T08:34:23.152Z"
   },
   {
    "duration": 3,
    "start_time": "2025-05-04T08:34:29.813Z"
   },
   {
    "duration": 4,
    "start_time": "2025-05-04T08:34:35.377Z"
   },
   {
    "duration": 4,
    "start_time": "2025-05-04T08:36:38.405Z"
   },
   {
    "duration": 3,
    "start_time": "2025-05-04T08:37:38.520Z"
   },
   {
    "duration": 10,
    "start_time": "2025-05-04T08:38:11.181Z"
   },
   {
    "duration": 19,
    "start_time": "2025-05-04T08:38:40.541Z"
   },
   {
    "duration": 3,
    "start_time": "2025-05-04T08:38:43.866Z"
   },
   {
    "duration": 4,
    "start_time": "2025-05-04T08:39:46.369Z"
   },
   {
    "duration": 12,
    "start_time": "2025-05-04T08:44:22.669Z"
   },
   {
    "duration": 23,
    "start_time": "2025-05-04T08:44:59.091Z"
   },
   {
    "duration": 3,
    "start_time": "2025-05-04T08:45:02.689Z"
   },
   {
    "duration": 3,
    "start_time": "2025-05-04T08:45:54.695Z"
   },
   {
    "duration": 13,
    "start_time": "2025-05-04T08:46:21.908Z"
   },
   {
    "duration": 5,
    "start_time": "2025-05-04T08:46:46.592Z"
   },
   {
    "duration": 11,
    "start_time": "2025-05-04T08:46:49.685Z"
   },
   {
    "duration": 40,
    "start_time": "2025-05-04T08:46:57.494Z"
   },
   {
    "duration": 11,
    "start_time": "2025-05-04T08:47:50.245Z"
   },
   {
    "duration": 4,
    "start_time": "2025-05-04T08:49:13.895Z"
   },
   {
    "duration": 13470,
    "start_time": "2025-05-04T08:49:14.200Z"
   },
   {
    "duration": 4,
    "start_time": "2025-05-04T08:49:36.644Z"
   },
   {
    "duration": 5,
    "start_time": "2025-05-04T08:51:02.794Z"
   },
   {
    "duration": 6,
    "start_time": "2025-05-04T08:51:25.119Z"
   },
   {
    "duration": 187,
    "start_time": "2025-05-04T08:52:28.379Z"
   },
   {
    "duration": 822,
    "start_time": "2025-05-04T08:52:58.182Z"
   },
   {
    "duration": 764,
    "start_time": "2025-05-04T08:53:19.048Z"
   },
   {
    "duration": 15,
    "start_time": "2025-05-04T09:05:51.909Z"
   },
   {
    "duration": 3,
    "start_time": "2025-05-04T09:07:37.251Z"
   },
   {
    "duration": 3,
    "start_time": "2025-05-04T09:07:39.970Z"
   },
   {
    "duration": 14231,
    "start_time": "2025-05-04T09:07:40.831Z"
   },
   {
    "duration": 3,
    "start_time": "2025-05-04T09:07:59.295Z"
   },
   {
    "duration": 972,
    "start_time": "2025-05-04T09:08:02.216Z"
   },
   {
    "duration": 5,
    "start_time": "2025-05-04T09:09:12.872Z"
   },
   {
    "duration": 4,
    "start_time": "2025-05-04T09:09:54.874Z"
   },
   {
    "duration": 3,
    "start_time": "2025-05-04T09:09:56.087Z"
   },
   {
    "duration": 7122,
    "start_time": "2025-05-04T09:13:17.079Z"
   },
   {
    "duration": 1920,
    "start_time": "2025-05-04T09:13:24.204Z"
   },
   {
    "duration": 2,
    "start_time": "2025-05-04T09:13:26.126Z"
   },
   {
    "duration": 876,
    "start_time": "2025-05-04T09:13:26.130Z"
   },
   {
    "duration": 604,
    "start_time": "2025-05-04T09:13:27.008Z"
   },
   {
    "duration": 86,
    "start_time": "2025-05-04T09:13:27.613Z"
   },
   {
    "duration": 450,
    "start_time": "2025-05-04T09:13:27.701Z"
   },
   {
    "duration": 50,
    "start_time": "2025-05-04T09:13:28.153Z"
   },
   {
    "duration": 546,
    "start_time": "2025-05-04T09:13:28.205Z"
   },
   {
    "duration": 84,
    "start_time": "2025-05-04T09:13:28.753Z"
   },
   {
    "duration": 776,
    "start_time": "2025-05-04T09:13:28.838Z"
   },
   {
    "duration": 18576,
    "start_time": "2025-05-04T09:13:29.615Z"
   },
   {
    "duration": 863,
    "start_time": "2025-05-04T09:13:48.193Z"
   },
   {
    "duration": 88,
    "start_time": "2025-05-04T09:13:49.061Z"
   },
   {
    "duration": 12,
    "start_time": "2025-05-04T09:13:49.163Z"
   },
   {
    "duration": 85,
    "start_time": "2025-05-04T09:13:49.177Z"
   },
   {
    "duration": 7,
    "start_time": "2025-05-04T09:13:49.264Z"
   },
   {
    "duration": 9298,
    "start_time": "2025-05-04T09:13:49.273Z"
   },
   {
    "duration": 4,
    "start_time": "2025-05-04T09:13:58.573Z"
   },
   {
    "duration": 1239,
    "start_time": "2025-05-04T09:13:58.579Z"
   },
   {
    "duration": 4,
    "start_time": "2025-05-04T09:13:59.820Z"
   },
   {
    "duration": 14,
    "start_time": "2025-05-04T09:13:59.826Z"
   },
   {
    "duration": 22,
    "start_time": "2025-05-04T09:13:59.842Z"
   },
   {
    "duration": 53,
    "start_time": "2025-05-04T09:13:59.866Z"
   },
   {
    "duration": 3,
    "start_time": "2025-05-04T09:13:59.921Z"
   },
   {
    "duration": 3,
    "start_time": "2025-05-04T09:13:59.926Z"
   },
   {
    "duration": 10,
    "start_time": "2025-05-04T09:13:59.931Z"
   },
   {
    "duration": 4,
    "start_time": "2025-05-04T09:13:59.962Z"
   },
   {
    "duration": 4,
    "start_time": "2025-05-04T09:13:59.967Z"
   },
   {
    "duration": 7409,
    "start_time": "2025-05-04T09:16:37.511Z"
   },
   {
    "duration": 1462,
    "start_time": "2025-05-04T09:16:44.923Z"
   },
   {
    "duration": 3,
    "start_time": "2025-05-04T09:16:46.387Z"
   },
   {
    "duration": 929,
    "start_time": "2025-05-04T09:16:46.391Z"
   },
   {
    "duration": 652,
    "start_time": "2025-05-04T09:16:47.323Z"
   },
   {
    "duration": 93,
    "start_time": "2025-05-04T09:16:47.977Z"
   },
   {
    "duration": 458,
    "start_time": "2025-05-04T09:16:48.072Z"
   },
   {
    "duration": 58,
    "start_time": "2025-05-04T09:16:48.532Z"
   },
   {
    "duration": 552,
    "start_time": "2025-05-04T09:16:48.592Z"
   },
   {
    "duration": 98,
    "start_time": "2025-05-04T09:16:49.146Z"
   },
   {
    "duration": 874,
    "start_time": "2025-05-04T09:16:49.246Z"
   },
   {
    "duration": 19940,
    "start_time": "2025-05-04T09:16:50.122Z"
   },
   {
    "duration": 866,
    "start_time": "2025-05-04T09:17:10.064Z"
   },
   {
    "duration": 74,
    "start_time": "2025-05-04T09:17:10.933Z"
   },
   {
    "duration": 16,
    "start_time": "2025-05-04T09:17:11.009Z"
   },
   {
    "duration": 91,
    "start_time": "2025-05-04T09:17:11.027Z"
   },
   {
    "duration": 6,
    "start_time": "2025-05-04T09:17:11.120Z"
   },
   {
    "duration": 9485,
    "start_time": "2025-05-04T09:17:11.127Z"
   },
   {
    "duration": 4,
    "start_time": "2025-05-04T09:17:20.614Z"
   },
   {
    "duration": 1278,
    "start_time": "2025-05-04T09:17:20.620Z"
   },
   {
    "duration": 5,
    "start_time": "2025-05-04T09:17:21.899Z"
   },
   {
    "duration": 38,
    "start_time": "2025-05-04T09:17:21.905Z"
   },
   {
    "duration": 28,
    "start_time": "2025-05-04T09:17:21.945Z"
   },
   {
    "duration": 71,
    "start_time": "2025-05-04T09:17:21.975Z"
   },
   {
    "duration": 3,
    "start_time": "2025-05-04T09:17:22.048Z"
   },
   {
    "duration": 23,
    "start_time": "2025-05-04T09:17:22.052Z"
   },
   {
    "duration": 21,
    "start_time": "2025-05-04T09:17:22.077Z"
   },
   {
    "duration": 19,
    "start_time": "2025-05-04T09:17:22.099Z"
   },
   {
    "duration": 15,
    "start_time": "2025-05-04T09:17:22.120Z"
   },
   {
    "duration": 7579,
    "start_time": "2025-05-04T15:27:43.126Z"
   },
   {
    "duration": 8,
    "start_time": "2025-05-04T15:27:50.708Z"
   },
   {
    "duration": 3,
    "start_time": "2025-05-04T15:29:16.418Z"
   },
   {
    "duration": 814,
    "start_time": "2025-05-04T15:29:16.769Z"
   },
   {
    "duration": 514,
    "start_time": "2025-05-04T15:29:18.075Z"
   },
   {
    "duration": 78,
    "start_time": "2025-05-04T15:29:18.591Z"
   },
   {
    "duration": 420,
    "start_time": "2025-05-04T15:29:19.209Z"
   },
   {
    "duration": 31,
    "start_time": "2025-05-04T15:29:19.828Z"
   },
   {
    "duration": 537,
    "start_time": "2025-05-04T15:29:20.589Z"
   },
   {
    "duration": 80,
    "start_time": "2025-05-04T15:29:21.481Z"
   },
   {
    "duration": 786,
    "start_time": "2025-05-04T15:29:22.585Z"
   },
   {
    "duration": 19282,
    "start_time": "2025-05-04T15:29:23.374Z"
   },
   {
    "duration": 875,
    "start_time": "2025-05-04T15:29:42.658Z"
   },
   {
    "duration": 12,
    "start_time": "2025-05-04T15:33:05.524Z"
   },
   {
    "duration": 10,
    "start_time": "2025-05-04T15:33:12.021Z"
   },
   {
    "duration": 1394,
    "start_time": "2025-05-04T15:33:15.586Z"
   },
   {
    "duration": 1331,
    "start_time": "2025-05-04T15:33:26.387Z"
   },
   {
    "duration": 25,
    "start_time": "2025-05-04T15:33:34.266Z"
   },
   {
    "duration": 18321,
    "start_time": "2025-05-04T15:33:53.423Z"
   },
   {
    "duration": 1579,
    "start_time": "2025-05-04T15:37:41.525Z"
   },
   {
    "duration": 5,
    "start_time": "2025-05-04T15:37:46.831Z"
   },
   {
    "duration": 2,
    "start_time": "2025-05-04T15:37:47.220Z"
   },
   {
    "duration": 867,
    "start_time": "2025-05-04T15:37:47.622Z"
   },
   {
    "duration": 498,
    "start_time": "2025-05-04T15:37:48.491Z"
   },
   {
    "duration": 86,
    "start_time": "2025-05-04T15:37:48.991Z"
   },
   {
    "duration": 42,
    "start_time": "2025-05-04T15:37:49.319Z"
   },
   {
    "duration": 28,
    "start_time": "2025-05-04T15:37:52.506Z"
   },
   {
    "duration": 471,
    "start_time": "2025-05-04T15:37:53.015Z"
   },
   {
    "duration": 80,
    "start_time": "2025-05-04T15:37:53.674Z"
   },
   {
    "duration": 475,
    "start_time": "2025-05-04T15:38:00.479Z"
   },
   {
    "duration": 16485,
    "start_time": "2025-05-04T15:38:08.512Z"
   },
   {
    "duration": 882,
    "start_time": "2025-05-04T15:38:24.999Z"
   },
   {
    "duration": 878,
    "start_time": "2025-05-04T15:38:33.026Z"
   },
   {
    "duration": 74,
    "start_time": "2025-05-04T15:38:34.417Z"
   },
   {
    "duration": 53,
    "start_time": "2025-05-04T15:38:36.661Z"
   },
   {
    "duration": 6407,
    "start_time": "2025-05-04T15:38:44.195Z"
   },
   {
    "duration": 7,
    "start_time": "2025-05-04T15:38:51.965Z"
   },
   {
    "duration": 1011,
    "start_time": "2025-05-04T15:39:15.241Z"
   },
   {
    "duration": 11892,
    "start_time": "2025-05-04T15:39:28.420Z"
   },
   {
    "duration": 1124,
    "start_time": "2025-05-04T15:39:59.096Z"
   },
   {
    "duration": 5,
    "start_time": "2025-05-04T15:40:04.376Z"
   },
   {
    "duration": 5,
    "start_time": "2025-05-04T15:40:04.939Z"
   },
   {
    "duration": 13,
    "start_time": "2025-05-04T15:40:06.450Z"
   },
   {
    "duration": 72,
    "start_time": "2025-05-04T15:40:09.822Z"
   },
   {
    "duration": 3,
    "start_time": "2025-05-04T15:40:26.483Z"
   },
   {
    "duration": 3,
    "start_time": "2025-05-04T15:40:27.346Z"
   },
   {
    "duration": 3,
    "start_time": "2025-05-04T15:40:27.838Z"
   },
   {
    "duration": 3,
    "start_time": "2025-05-04T15:40:59.394Z"
   },
   {
    "duration": 3,
    "start_time": "2025-05-04T15:41:03.409Z"
   },
   {
    "duration": 7,
    "start_time": "2025-05-04T15:41:05.662Z"
   },
   {
    "duration": 3040,
    "start_time": "2025-05-04T15:41:06.839Z"
   },
   {
    "duration": 3,
    "start_time": "2025-05-04T15:43:07.202Z"
   },
   {
    "duration": 3,
    "start_time": "2025-05-04T15:43:07.617Z"
   },
   {
    "duration": 2924,
    "start_time": "2025-05-04T15:43:08.245Z"
   },
   {
    "duration": 2,
    "start_time": "2025-05-04T15:44:00.776Z"
   },
   {
    "duration": 3,
    "start_time": "2025-05-04T15:44:01.119Z"
   },
   {
    "duration": 3,
    "start_time": "2025-05-04T15:44:01.434Z"
   },
   {
    "duration": 3,
    "start_time": "2025-05-04T15:44:01.790Z"
   },
   {
    "duration": 2,
    "start_time": "2025-05-04T15:44:02.094Z"
   },
   {
    "duration": 7974,
    "start_time": "2025-05-04T15:54:59.676Z"
   },
   {
    "duration": 6,
    "start_time": "2025-05-04T15:55:07.652Z"
   },
   {
    "duration": 12,
    "start_time": "2025-05-04T15:55:07.659Z"
   },
   {
    "duration": 929,
    "start_time": "2025-05-04T15:55:07.674Z"
   },
   {
    "duration": 568,
    "start_time": "2025-05-04T15:55:08.605Z"
   },
   {
    "duration": 75,
    "start_time": "2025-05-04T15:55:09.180Z"
   },
   {
    "duration": 60,
    "start_time": "2025-05-04T15:55:09.257Z"
   },
   {
    "duration": 58,
    "start_time": "2025-05-04T15:55:09.319Z"
   },
   {
    "duration": 513,
    "start_time": "2025-05-04T15:55:09.381Z"
   },
   {
    "duration": 110,
    "start_time": "2025-05-04T15:55:09.901Z"
   },
   {
    "duration": 593,
    "start_time": "2025-05-04T15:55:10.013Z"
   },
   {
    "duration": 17869,
    "start_time": "2025-05-04T15:55:10.607Z"
   },
   {
    "duration": 920,
    "start_time": "2025-05-04T15:55:28.478Z"
   },
   {
    "duration": 79,
    "start_time": "2025-05-04T15:55:29.400Z"
   },
   {
    "duration": 1702,
    "start_time": "2025-05-04T15:55:29.481Z"
   },
   {
    "duration": 48,
    "start_time": "2025-05-04T15:57:15.486Z"
   },
   {
    "duration": 469,
    "start_time": "2025-05-04T15:57:18.981Z"
   },
   {
    "duration": 585,
    "start_time": "2025-05-04T15:57:32.240Z"
   },
   {
    "duration": 49,
    "start_time": "2025-05-04T16:00:32.586Z"
   },
   {
    "duration": 228,
    "start_time": "2025-05-04T16:00:40.389Z"
   },
   {
    "duration": 23,
    "start_time": "2025-05-04T16:00:55.244Z"
   },
   {
    "duration": 3826,
    "start_time": "2025-05-04T16:01:43.594Z"
   },
   {
    "duration": 11916,
    "start_time": "2025-05-04T16:01:56.829Z"
   },
   {
    "duration": 28,
    "start_time": "2025-05-04T16:03:01.532Z"
   },
   {
    "duration": 796,
    "start_time": "2025-05-04T16:03:39.688Z"
   },
   {
    "duration": 29930,
    "start_time": "2025-05-04T16:03:51.241Z"
   },
   {
    "duration": 7,
    "start_time": "2025-05-04T16:07:43.900Z"
   },
   {
    "duration": 81,
    "start_time": "2025-05-04T16:07:50.214Z"
   },
   {
    "duration": 6,
    "start_time": "2025-05-04T16:08:00.404Z"
   },
   {
    "duration": 308,
    "start_time": "2025-05-04T16:08:35.892Z"
   },
   {
    "duration": 95,
    "start_time": "2025-05-04T16:08:39.512Z"
   },
   {
    "duration": 29833,
    "start_time": "2025-05-04T16:08:43.455Z"
   },
   {
    "duration": 540,
    "start_time": "2025-05-04T16:09:13.290Z"
   },
   {
    "duration": 50,
    "start_time": "2025-05-04T16:10:01.731Z"
   },
   {
    "duration": 62,
    "start_time": "2025-05-04T16:10:04.691Z"
   },
   {
    "duration": 45,
    "start_time": "2025-05-04T16:10:11.209Z"
   },
   {
    "duration": 55,
    "start_time": "2025-05-04T16:10:13.460Z"
   },
   {
    "duration": 4,
    "start_time": "2025-05-04T16:10:20.329Z"
   },
   {
    "duration": 16,
    "start_time": "2025-05-04T16:10:25.437Z"
   },
   {
    "duration": 2077,
    "start_time": "2025-05-04T16:10:40.872Z"
   },
   {
    "duration": 3,
    "start_time": "2025-05-04T16:10:56.905Z"
   },
   {
    "duration": 4,
    "start_time": "2025-05-04T16:10:57.691Z"
   },
   {
    "duration": 3,
    "start_time": "2025-05-04T16:10:58.628Z"
   },
   {
    "duration": 2,
    "start_time": "2025-05-04T16:10:59.054Z"
   },
   {
    "duration": 3,
    "start_time": "2025-05-04T16:10:59.449Z"
   },
   {
    "duration": 3020,
    "start_time": "2025-05-04T16:11:00.072Z"
   },
   {
    "duration": 0,
    "start_time": "2025-05-04T16:11:03.094Z"
   },
   {
    "duration": 0,
    "start_time": "2025-05-04T16:11:03.096Z"
   },
   {
    "duration": 10,
    "start_time": "2025-05-04T16:11:58.107Z"
   },
   {
    "duration": 7631,
    "start_time": "2025-05-04T16:12:31.994Z"
   },
   {
    "duration": 1501,
    "start_time": "2025-05-04T16:12:39.628Z"
   },
   {
    "duration": 3,
    "start_time": "2025-05-04T16:12:41.131Z"
   },
   {
    "duration": 976,
    "start_time": "2025-05-04T16:12:41.136Z"
   },
   {
    "duration": 656,
    "start_time": "2025-05-04T16:12:42.115Z"
   },
   {
    "duration": 81,
    "start_time": "2025-05-04T16:12:42.772Z"
   },
   {
    "duration": 65,
    "start_time": "2025-05-04T16:12:42.854Z"
   },
   {
    "duration": 56,
    "start_time": "2025-05-04T16:12:42.921Z"
   },
   {
    "duration": 517,
    "start_time": "2025-05-04T16:12:42.985Z"
   },
   {
    "duration": 118,
    "start_time": "2025-05-04T16:12:43.504Z"
   },
   {
    "duration": 535,
    "start_time": "2025-05-04T16:12:43.623Z"
   },
   {
    "duration": 17524,
    "start_time": "2025-05-04T16:12:44.166Z"
   },
   {
    "duration": 949,
    "start_time": "2025-05-04T16:13:01.693Z"
   },
   {
    "duration": 80,
    "start_time": "2025-05-04T16:13:02.645Z"
   },
   {
    "duration": 224,
    "start_time": "2025-05-04T16:13:02.727Z"
   },
   {
    "duration": 11899,
    "start_time": "2025-05-04T16:13:02.952Z"
   },
   {
    "duration": 398,
    "start_time": "2025-05-04T16:13:14.854Z"
   },
   {
    "duration": 60,
    "start_time": "2025-05-04T16:13:15.254Z"
   },
   {
    "duration": 5,
    "start_time": "2025-05-04T16:13:15.316Z"
   },
   {
    "duration": 6917,
    "start_time": "2025-05-04T16:13:15.323Z"
   },
   {
    "duration": 4,
    "start_time": "2025-05-04T16:13:22.242Z"
   },
   {
    "duration": 1972,
    "start_time": "2025-05-04T16:13:22.247Z"
   },
   {
    "duration": 5,
    "start_time": "2025-05-04T16:13:24.220Z"
   },
   {
    "duration": 21,
    "start_time": "2025-05-04T16:13:24.226Z"
   },
   {
    "duration": 48,
    "start_time": "2025-05-04T16:13:24.249Z"
   },
   {
    "duration": 113,
    "start_time": "2025-05-04T16:13:24.299Z"
   },
   {
    "duration": 11,
    "start_time": "2025-05-04T16:13:24.414Z"
   },
   {
    "duration": 14,
    "start_time": "2025-05-04T16:13:24.426Z"
   },
   {
    "duration": 6,
    "start_time": "2025-05-04T16:13:24.441Z"
   },
   {
    "duration": 20,
    "start_time": "2025-05-04T16:13:24.449Z"
   },
   {
    "duration": 6,
    "start_time": "2025-05-04T16:13:24.478Z"
   },
   {
    "duration": 6,
    "start_time": "2025-05-04T16:13:24.490Z"
   },
   {
    "duration": 32073,
    "start_time": "2025-05-04T16:13:24.497Z"
   },
   {
    "duration": 12,
    "start_time": "2025-05-04T16:13:56.572Z"
   },
   {
    "duration": 1145,
    "start_time": "2025-05-04T16:13:56.591Z"
   },
   {
    "duration": 5,
    "start_time": "2025-05-04T16:26:53.250Z"
   },
   {
    "duration": 970,
    "start_time": "2025-05-04T16:26:57.362Z"
   },
   {
    "duration": 6,
    "start_time": "2025-05-04T16:27:14.045Z"
   },
   {
    "duration": 911,
    "start_time": "2025-05-04T16:27:18.709Z"
   },
   {
    "duration": 21,
    "start_time": "2025-05-04T16:29:25.669Z"
   },
   {
    "duration": 7,
    "start_time": "2025-05-04T16:29:52.656Z"
   },
   {
    "duration": 4,
    "start_time": "2025-05-04T16:29:57.794Z"
   },
   {
    "duration": 95728,
    "start_time": "2025-05-04T16:29:58.935Z"
   },
   {
    "duration": 12,
    "start_time": "2025-05-04T16:31:34.665Z"
   },
   {
    "duration": 952,
    "start_time": "2025-05-04T16:31:34.679Z"
   },
   {
    "duration": 5,
    "start_time": "2025-05-04T16:32:39.210Z"
   },
   {
    "duration": 358,
    "start_time": "2025-05-04T16:37:42.960Z"
   },
   {
    "duration": 5,
    "start_time": "2025-05-04T16:39:13.140Z"
   },
   {
    "duration": 7521,
    "start_time": "2025-05-04T16:49:05.298Z"
   },
   {
    "duration": 1572,
    "start_time": "2025-05-04T16:49:12.822Z"
   },
   {
    "duration": 0,
    "start_time": "2025-05-04T16:49:14.396Z"
   },
   {
    "duration": 0,
    "start_time": "2025-05-04T16:49:14.398Z"
   },
   {
    "duration": 0,
    "start_time": "2025-05-04T16:49:14.399Z"
   },
   {
    "duration": 0,
    "start_time": "2025-05-04T16:49:14.400Z"
   },
   {
    "duration": 0,
    "start_time": "2025-05-04T16:49:14.402Z"
   },
   {
    "duration": 0,
    "start_time": "2025-05-04T16:49:14.403Z"
   },
   {
    "duration": 0,
    "start_time": "2025-05-04T16:49:14.404Z"
   },
   {
    "duration": 0,
    "start_time": "2025-05-04T16:49:14.406Z"
   },
   {
    "duration": 0,
    "start_time": "2025-05-04T16:49:14.407Z"
   },
   {
    "duration": 0,
    "start_time": "2025-05-04T16:49:14.409Z"
   },
   {
    "duration": 0,
    "start_time": "2025-05-04T16:49:14.411Z"
   },
   {
    "duration": 0,
    "start_time": "2025-05-04T16:49:14.413Z"
   },
   {
    "duration": 0,
    "start_time": "2025-05-04T16:49:14.414Z"
   },
   {
    "duration": 0,
    "start_time": "2025-05-04T16:49:14.416Z"
   },
   {
    "duration": 0,
    "start_time": "2025-05-04T16:49:14.418Z"
   },
   {
    "duration": 0,
    "start_time": "2025-05-04T16:49:14.420Z"
   },
   {
    "duration": 0,
    "start_time": "2025-05-04T16:49:14.422Z"
   },
   {
    "duration": 0,
    "start_time": "2025-05-04T16:49:14.423Z"
   },
   {
    "duration": 0,
    "start_time": "2025-05-04T16:49:14.425Z"
   },
   {
    "duration": 0,
    "start_time": "2025-05-04T16:49:14.464Z"
   },
   {
    "duration": 0,
    "start_time": "2025-05-04T16:49:14.469Z"
   },
   {
    "duration": 0,
    "start_time": "2025-05-04T16:49:14.470Z"
   },
   {
    "duration": 0,
    "start_time": "2025-05-04T16:49:14.471Z"
   },
   {
    "duration": 0,
    "start_time": "2025-05-04T16:49:14.471Z"
   },
   {
    "duration": 0,
    "start_time": "2025-05-04T16:49:14.472Z"
   },
   {
    "duration": 0,
    "start_time": "2025-05-04T16:49:14.472Z"
   },
   {
    "duration": 0,
    "start_time": "2025-05-04T16:49:14.473Z"
   },
   {
    "duration": 0,
    "start_time": "2025-05-04T16:49:14.475Z"
   },
   {
    "duration": 0,
    "start_time": "2025-05-04T16:49:14.476Z"
   },
   {
    "duration": 0,
    "start_time": "2025-05-04T16:49:14.477Z"
   },
   {
    "duration": 0,
    "start_time": "2025-05-04T16:49:14.478Z"
   },
   {
    "duration": 0,
    "start_time": "2025-05-04T16:49:14.478Z"
   },
   {
    "duration": 0,
    "start_time": "2025-05-04T16:49:14.479Z"
   },
   {
    "duration": 411,
    "start_time": "2025-05-04T16:50:08.228Z"
   },
   {
    "duration": 3,
    "start_time": "2025-05-04T16:50:09.043Z"
   },
   {
    "duration": 996,
    "start_time": "2025-05-04T16:50:09.899Z"
   },
   {
    "duration": 611,
    "start_time": "2025-05-04T16:50:10.896Z"
   },
   {
    "duration": 89,
    "start_time": "2025-05-04T16:50:11.509Z"
   },
   {
    "duration": 40,
    "start_time": "2025-05-04T16:50:11.600Z"
   },
   {
    "duration": 96,
    "start_time": "2025-05-04T16:50:11.642Z"
   },
   {
    "duration": 487,
    "start_time": "2025-05-04T16:50:11.842Z"
   },
   {
    "duration": 96,
    "start_time": "2025-05-04T16:50:12.330Z"
   },
   {
    "duration": 596,
    "start_time": "2025-05-04T16:50:12.428Z"
   },
   {
    "duration": 17424,
    "start_time": "2025-05-04T16:50:13.026Z"
   },
   {
    "duration": 926,
    "start_time": "2025-05-04T16:50:30.452Z"
   },
   {
    "duration": 66,
    "start_time": "2025-05-04T16:50:31.385Z"
   },
   {
    "duration": 265,
    "start_time": "2025-05-04T16:50:31.453Z"
   },
   {
    "duration": 12831,
    "start_time": "2025-05-04T16:50:31.720Z"
   },
   {
    "duration": 406,
    "start_time": "2025-05-04T16:50:44.553Z"
   },
   {
    "duration": 54,
    "start_time": "2025-05-04T16:50:44.966Z"
   },
   {
    "duration": 6,
    "start_time": "2025-05-04T16:50:45.022Z"
   },
   {
    "duration": 6508,
    "start_time": "2025-05-04T16:50:45.030Z"
   },
   {
    "duration": 4,
    "start_time": "2025-05-04T16:50:51.539Z"
   },
   {
    "duration": 2065,
    "start_time": "2025-05-04T16:50:51.545Z"
   },
   {
    "duration": 4,
    "start_time": "2025-05-04T16:50:53.612Z"
   },
   {
    "duration": 4,
    "start_time": "2025-05-04T16:50:53.699Z"
   },
   {
    "duration": 14,
    "start_time": "2025-05-04T16:50:53.704Z"
   },
   {
    "duration": 101,
    "start_time": "2025-05-04T16:50:53.720Z"
   },
   {
    "duration": 10,
    "start_time": "2025-05-04T16:50:53.823Z"
   },
   {
    "duration": 3,
    "start_time": "2025-05-04T16:50:53.834Z"
   },
   {
    "duration": 6,
    "start_time": "2025-05-04T16:50:53.839Z"
   },
   {
    "duration": 20,
    "start_time": "2025-05-04T16:50:53.846Z"
   },
   {
    "duration": 9,
    "start_time": "2025-05-04T16:50:53.875Z"
   },
   {
    "duration": 75,
    "start_time": "2025-05-04T16:50:53.888Z"
   },
   {
    "duration": 8444,
    "start_time": "2025-05-04T17:16:54.696Z"
   },
   {
    "duration": 1865,
    "start_time": "2025-05-04T17:17:03.142Z"
   },
   {
    "duration": 3,
    "start_time": "2025-05-04T17:17:05.013Z"
   },
   {
    "duration": 1030,
    "start_time": "2025-05-04T17:17:05.017Z"
   },
   {
    "duration": 746,
    "start_time": "2025-05-04T17:17:06.049Z"
   },
   {
    "duration": 101,
    "start_time": "2025-05-04T17:17:06.797Z"
   },
   {
    "duration": 69,
    "start_time": "2025-05-04T17:17:06.905Z"
   },
   {
    "duration": 41,
    "start_time": "2025-05-04T17:17:06.982Z"
   },
   {
    "duration": 595,
    "start_time": "2025-05-04T17:17:07.024Z"
   },
   {
    "duration": 116,
    "start_time": "2025-05-04T17:17:07.621Z"
   },
   {
    "duration": 691,
    "start_time": "2025-05-04T17:17:07.739Z"
   },
   {
    "duration": 19390,
    "start_time": "2025-05-04T17:17:08.432Z"
   },
   {
    "duration": 1069,
    "start_time": "2025-05-04T17:17:27.823Z"
   },
   {
    "duration": 94,
    "start_time": "2025-05-04T17:17:28.895Z"
   },
   {
    "duration": 267,
    "start_time": "2025-05-04T17:17:28.991Z"
   },
   {
    "duration": 12202,
    "start_time": "2025-05-04T17:17:29.259Z"
   },
   {
    "duration": 9,
    "start_time": "2025-05-04T17:17:41.470Z"
   },
   {
    "duration": 109,
    "start_time": "2025-05-04T17:17:41.483Z"
   },
   {
    "duration": 10,
    "start_time": "2025-05-04T17:17:41.593Z"
   },
   {
    "duration": 10024,
    "start_time": "2025-05-04T17:17:41.605Z"
   },
   {
    "duration": 5,
    "start_time": "2025-05-04T17:17:51.630Z"
   },
   {
    "duration": 1288,
    "start_time": "2025-05-04T17:17:51.637Z"
   },
   {
    "duration": 6,
    "start_time": "2025-05-04T17:17:52.927Z"
   },
   {
    "duration": 15,
    "start_time": "2025-05-04T17:17:52.935Z"
   },
   {
    "duration": 0,
    "start_time": "2025-05-04T17:17:52.952Z"
   },
   {
    "duration": 0,
    "start_time": "2025-05-04T17:17:52.953Z"
   },
   {
    "duration": 0,
    "start_time": "2025-05-04T17:17:52.964Z"
   },
   {
    "duration": 0,
    "start_time": "2025-05-04T17:17:52.965Z"
   },
   {
    "duration": 0,
    "start_time": "2025-05-04T17:17:52.966Z"
   },
   {
    "duration": 0,
    "start_time": "2025-05-04T17:17:52.967Z"
   },
   {
    "duration": 0,
    "start_time": "2025-05-04T17:17:52.967Z"
   },
   {
    "duration": 0,
    "start_time": "2025-05-04T17:17:52.968Z"
   },
   {
    "duration": 0,
    "start_time": "2025-05-04T17:17:52.969Z"
   },
   {
    "duration": 0,
    "start_time": "2025-05-04T17:17:52.972Z"
   },
   {
    "duration": 0,
    "start_time": "2025-05-04T17:17:52.972Z"
   },
   {
    "duration": 8,
    "start_time": "2025-05-04T17:18:20.694Z"
   },
   {
    "duration": 19,
    "start_time": "2025-05-04T17:18:21.353Z"
   },
   {
    "duration": 85,
    "start_time": "2025-05-04T17:18:21.990Z"
   },
   {
    "duration": 10,
    "start_time": "2025-05-04T17:18:22.537Z"
   },
   {
    "duration": 3,
    "start_time": "2025-05-04T17:18:23.152Z"
   },
   {
    "duration": 7,
    "start_time": "2025-05-04T17:18:23.880Z"
   },
   {
    "duration": 3,
    "start_time": "2025-05-04T17:18:24.531Z"
   },
   {
    "duration": 6,
    "start_time": "2025-05-04T17:18:25.175Z"
   },
   {
    "duration": 3,
    "start_time": "2025-05-04T17:18:25.633Z"
   },
   {
    "duration": 8942,
    "start_time": "2025-05-04T17:18:26.069Z"
   },
   {
    "duration": 0,
    "start_time": "2025-05-04T17:18:35.013Z"
   },
   {
    "duration": 0,
    "start_time": "2025-05-04T17:18:35.014Z"
   },
   {
    "duration": 12,
    "start_time": "2025-05-04T17:19:59.598Z"
   },
   {
    "duration": 9,
    "start_time": "2025-05-04T17:20:09.452Z"
   },
   {
    "duration": 68,
    "start_time": "2025-05-04T17:20:09.687Z"
   },
   {
    "duration": 16,
    "start_time": "2025-05-04T17:20:09.992Z"
   },
   {
    "duration": 7,
    "start_time": "2025-05-04T17:20:10.182Z"
   },
   {
    "duration": 10,
    "start_time": "2025-05-04T17:20:10.377Z"
   },
   {
    "duration": 4,
    "start_time": "2025-05-04T17:20:10.570Z"
   },
   {
    "duration": 4,
    "start_time": "2025-05-04T17:20:10.770Z"
   },
   {
    "duration": 3,
    "start_time": "2025-05-04T17:20:10.934Z"
   },
   {
    "duration": 15247,
    "start_time": "2025-05-04T17:20:11.130Z"
   },
   {
    "duration": 12,
    "start_time": "2025-05-04T17:20:26.379Z"
   },
   {
    "duration": 1003,
    "start_time": "2025-05-04T17:20:26.393Z"
   },
   {
    "duration": 3,
    "start_time": "2025-05-04T17:21:08.130Z"
   },
   {
    "duration": 8,
    "start_time": "2025-05-04T17:21:08.388Z"
   },
   {
    "duration": 3,
    "start_time": "2025-05-04T17:21:08.609Z"
   },
   {
    "duration": 3,
    "start_time": "2025-05-04T17:21:08.840Z"
   },
   {
    "duration": 4,
    "start_time": "2025-05-04T17:21:09.179Z"
   },
   {
    "duration": 27783,
    "start_time": "2025-05-04T17:21:09.511Z"
   },
   {
    "duration": 68,
    "start_time": "2025-05-04T17:21:37.296Z"
   },
   {
    "duration": 981,
    "start_time": "2025-05-04T17:21:37.366Z"
   },
   {
    "duration": 815,
    "start_time": "2025-05-04T17:22:56.141Z"
   },
   {
    "duration": 7044,
    "start_time": "2025-05-04T17:22:56.958Z"
   },
   {
    "duration": 23,
    "start_time": "2025-05-04T17:24:41.867Z"
   },
   {
    "duration": 8,
    "start_time": "2025-05-04T17:24:46.051Z"
   },
   {
    "duration": 13,
    "start_time": "2025-05-04T17:24:56.616Z"
   },
   {
    "duration": 65,
    "start_time": "2025-05-04T17:24:58.560Z"
   },
   {
    "duration": 8,
    "start_time": "2025-05-04T17:24:59.431Z"
   },
   {
    "duration": 3,
    "start_time": "2025-05-04T17:25:06.404Z"
   },
   {
    "duration": 3,
    "start_time": "2025-05-04T17:25:06.832Z"
   },
   {
    "duration": 3,
    "start_time": "2025-05-04T17:25:07.316Z"
   },
   {
    "duration": 2,
    "start_time": "2025-05-04T17:25:07.826Z"
   },
   {
    "duration": 9,
    "start_time": "2025-05-04T17:25:08.174Z"
   },
   {
    "duration": 14249,
    "start_time": "2025-05-04T17:25:08.533Z"
   },
   {
    "duration": 11,
    "start_time": "2025-05-04T17:25:22.785Z"
   },
   {
    "duration": 976,
    "start_time": "2025-05-04T17:25:22.799Z"
   },
   {
    "duration": 3,
    "start_time": "2025-05-04T17:25:43.234Z"
   },
   {
    "duration": 9,
    "start_time": "2025-05-04T17:25:43.474Z"
   },
   {
    "duration": 13722,
    "start_time": "2025-05-04T17:25:43.681Z"
   },
   {
    "duration": 9,
    "start_time": "2025-05-04T17:25:57.462Z"
   },
   {
    "duration": 898,
    "start_time": "2025-05-04T17:25:57.476Z"
   },
   {
    "duration": 8376,
    "start_time": "2025-05-04T17:26:25.632Z"
   },
   {
    "duration": 7,
    "start_time": "2025-05-04T17:26:34.011Z"
   },
   {
    "duration": 38,
    "start_time": "2025-05-04T17:26:34.019Z"
   },
   {
    "duration": 1034,
    "start_time": "2025-05-04T17:26:34.059Z"
   },
   {
    "duration": 577,
    "start_time": "2025-05-04T17:26:35.095Z"
   },
   {
    "duration": 74,
    "start_time": "2025-05-04T17:26:35.679Z"
   },
   {
    "duration": 66,
    "start_time": "2025-05-04T17:26:35.754Z"
   },
   {
    "duration": 73,
    "start_time": "2025-05-04T17:26:35.822Z"
   },
   {
    "duration": 554,
    "start_time": "2025-05-04T17:26:35.897Z"
   },
   {
    "duration": 134,
    "start_time": "2025-05-04T17:26:36.465Z"
   },
   {
    "duration": 23,
    "start_time": "2025-05-04T17:26:36.608Z"
   },
   {
    "duration": 0,
    "start_time": "2025-05-04T17:26:36.633Z"
   },
   {
    "duration": 0,
    "start_time": "2025-05-04T17:26:36.634Z"
   },
   {
    "duration": 0,
    "start_time": "2025-05-04T17:26:36.635Z"
   },
   {
    "duration": 0,
    "start_time": "2025-05-04T17:26:36.636Z"
   },
   {
    "duration": 0,
    "start_time": "2025-05-04T17:26:36.637Z"
   },
   {
    "duration": 0,
    "start_time": "2025-05-04T17:26:36.638Z"
   },
   {
    "duration": 0,
    "start_time": "2025-05-04T17:26:36.639Z"
   },
   {
    "duration": 0,
    "start_time": "2025-05-04T17:26:36.640Z"
   },
   {
    "duration": 0,
    "start_time": "2025-05-04T17:26:36.641Z"
   },
   {
    "duration": 0,
    "start_time": "2025-05-04T17:26:36.642Z"
   },
   {
    "duration": 0,
    "start_time": "2025-05-04T17:26:36.643Z"
   },
   {
    "duration": 0,
    "start_time": "2025-05-04T17:26:36.644Z"
   },
   {
    "duration": 0,
    "start_time": "2025-05-04T17:26:36.645Z"
   },
   {
    "duration": 0,
    "start_time": "2025-05-04T17:26:36.646Z"
   },
   {
    "duration": 0,
    "start_time": "2025-05-04T17:26:36.647Z"
   },
   {
    "duration": 0,
    "start_time": "2025-05-04T17:26:36.648Z"
   },
   {
    "duration": 0,
    "start_time": "2025-05-04T17:26:36.649Z"
   },
   {
    "duration": 0,
    "start_time": "2025-05-04T17:26:36.665Z"
   },
   {
    "duration": 0,
    "start_time": "2025-05-04T17:26:36.667Z"
   },
   {
    "duration": 0,
    "start_time": "2025-05-04T17:26:36.667Z"
   },
   {
    "duration": 0,
    "start_time": "2025-05-04T17:26:36.669Z"
   },
   {
    "duration": 0,
    "start_time": "2025-05-04T17:26:36.670Z"
   },
   {
    "duration": 0,
    "start_time": "2025-05-04T17:26:36.671Z"
   },
   {
    "duration": 945,
    "start_time": "2025-05-04T17:29:38.140Z"
   },
   {
    "duration": 544,
    "start_time": "2025-05-04T17:29:39.094Z"
   },
   {
    "duration": 84,
    "start_time": "2025-05-04T17:29:41.635Z"
   },
   {
    "duration": 69,
    "start_time": "2025-05-04T17:29:42.682Z"
   },
   {
    "duration": 1066,
    "start_time": "2025-05-04T17:29:43.070Z"
   },
   {
    "duration": 357,
    "start_time": "2025-05-04T17:29:44.137Z"
   },
   {
    "duration": 11650,
    "start_time": "2025-05-04T17:29:44.495Z"
   },
   {
    "duration": 33,
    "start_time": "2025-05-04T17:29:56.147Z"
   },
   {
    "duration": 563,
    "start_time": "2025-05-04T17:29:56.183Z"
   },
   {
    "duration": 112,
    "start_time": "2025-05-04T17:29:56.747Z"
   },
   {
    "duration": 837,
    "start_time": "2025-05-04T17:29:56.860Z"
   },
   {
    "duration": 21137,
    "start_time": "2025-05-04T17:29:57.698Z"
   },
   {
    "duration": 33,
    "start_time": "2025-05-04T17:30:18.837Z"
   },
   {
    "duration": 71,
    "start_time": "2025-05-04T17:30:24.359Z"
   },
   {
    "duration": 16,
    "start_time": "2025-05-04T17:30:24.576Z"
   },
   {
    "duration": 10315,
    "start_time": "2025-05-04T17:30:25.082Z"
   },
   {
    "duration": 9,
    "start_time": "2025-05-04T17:30:35.399Z"
   },
   {
    "duration": 1267,
    "start_time": "2025-05-04T17:30:35.413Z"
   },
   {
    "duration": 11,
    "start_time": "2025-05-04T17:30:36.682Z"
   },
   {
    "duration": 17,
    "start_time": "2025-05-04T17:30:36.694Z"
   },
   {
    "duration": 62,
    "start_time": "2025-05-04T17:30:36.712Z"
   },
   {
    "duration": 19,
    "start_time": "2025-05-04T17:30:36.786Z"
   },
   {
    "duration": 13,
    "start_time": "2025-05-04T17:30:36.807Z"
   },
   {
    "duration": 4,
    "start_time": "2025-05-04T17:30:36.822Z"
   },
   {
    "duration": 4,
    "start_time": "2025-05-04T17:30:36.829Z"
   },
   {
    "duration": 7,
    "start_time": "2025-05-04T17:30:36.835Z"
   },
   {
    "duration": 4,
    "start_time": "2025-05-04T17:30:36.844Z"
   },
   {
    "duration": 59,
    "start_time": "2025-05-04T17:30:36.850Z"
   },
   {
    "duration": 0,
    "start_time": "2025-05-04T17:30:36.911Z"
   },
   {
    "duration": 0,
    "start_time": "2025-05-04T17:30:36.912Z"
   },
   {
    "duration": 7115,
    "start_time": "2025-05-04T17:30:59.934Z"
   },
   {
    "duration": 1860,
    "start_time": "2025-05-04T17:31:07.051Z"
   },
   {
    "duration": 3,
    "start_time": "2025-05-04T17:31:46.116Z"
   },
   {
    "duration": 3,
    "start_time": "2025-05-04T17:31:46.457Z"
   },
   {
    "duration": 7,
    "start_time": "2025-05-04T17:31:46.671Z"
   },
   {
    "duration": 16,
    "start_time": "2025-05-04T17:31:46.879Z"
   },
   {
    "duration": 6,
    "start_time": "2025-05-04T17:31:47.069Z"
   },
   {
    "duration": 50,
    "start_time": "2025-05-04T17:31:47.269Z"
   },
   {
    "duration": 13,
    "start_time": "2025-05-04T17:33:41.873Z"
   },
   {
    "duration": 4,
    "start_time": "2025-05-04T17:34:03.556Z"
   },
   {
    "duration": 3,
    "start_time": "2025-05-04T17:34:07.910Z"
   },
   {
    "duration": 6,
    "start_time": "2025-05-04T17:34:10.758Z"
   },
   {
    "duration": 51015,
    "start_time": "2025-05-04T17:34:11.289Z"
   },
   {
    "duration": 5,
    "start_time": "2025-05-04T17:35:09.137Z"
   },
   {
    "duration": 729,
    "start_time": "2025-05-04T17:35:11.806Z"
   },
   {
    "duration": 12,
    "start_time": "2025-05-04T17:36:17.027Z"
   },
   {
    "duration": 106,
    "start_time": "2025-05-04T17:36:31.780Z"
   },
   {
    "duration": 9,
    "start_time": "2025-05-04T17:36:34.684Z"
   },
   {
    "duration": 10,
    "start_time": "2025-05-04T17:36:38.191Z"
   },
   {
    "duration": 8278,
    "start_time": "2025-05-04T18:01:34.156Z"
   },
   {
    "duration": 1993,
    "start_time": "2025-05-04T18:01:42.437Z"
   },
   {
    "duration": 2,
    "start_time": "2025-05-04T18:01:44.432Z"
   },
   {
    "duration": 1075,
    "start_time": "2025-05-04T18:01:44.436Z"
   },
   {
    "duration": 670,
    "start_time": "2025-05-04T18:01:45.513Z"
   },
   {
    "duration": 81,
    "start_time": "2025-05-04T18:01:46.196Z"
   },
   {
    "duration": 57,
    "start_time": "2025-05-04T18:01:46.279Z"
   },
   {
    "duration": 1142,
    "start_time": "2025-05-04T18:01:46.338Z"
   },
   {
    "duration": 322,
    "start_time": "2025-05-04T18:01:47.482Z"
   },
   {
    "duration": 12604,
    "start_time": "2025-05-04T18:01:47.807Z"
   },
   {
    "duration": 23,
    "start_time": "2025-05-04T18:02:00.413Z"
   },
   {
    "duration": 618,
    "start_time": "2025-05-04T18:02:00.437Z"
   },
   {
    "duration": 118,
    "start_time": "2025-05-04T18:02:01.065Z"
   },
   {
    "duration": 826,
    "start_time": "2025-05-04T18:02:01.187Z"
   },
   {
    "duration": 20819,
    "start_time": "2025-05-04T18:02:02.015Z"
   },
   {
    "duration": 17,
    "start_time": "2025-05-04T18:02:22.836Z"
   },
   {
    "duration": 74,
    "start_time": "2025-05-04T18:02:22.877Z"
   },
   {
    "duration": 5,
    "start_time": "2025-05-04T18:02:22.952Z"
   },
   {
    "duration": 7277,
    "start_time": "2025-05-04T18:02:22.959Z"
   },
   {
    "duration": 6,
    "start_time": "2025-05-04T18:02:30.238Z"
   },
   {
    "duration": 1867,
    "start_time": "2025-05-04T18:02:30.246Z"
   },
   {
    "duration": 5,
    "start_time": "2025-05-04T18:02:32.115Z"
   },
   {
    "duration": 85,
    "start_time": "2025-05-04T18:02:32.123Z"
   },
   {
    "duration": 66,
    "start_time": "2025-05-04T18:02:32.216Z"
   },
   {
    "duration": 16,
    "start_time": "2025-05-04T18:02:32.288Z"
   },
   {
    "duration": 5,
    "start_time": "2025-05-04T18:02:32.308Z"
   },
   {
    "duration": 7,
    "start_time": "2025-05-04T18:02:32.315Z"
   },
   {
    "duration": 20,
    "start_time": "2025-05-04T18:02:32.325Z"
   },
   {
    "duration": 3,
    "start_time": "2025-05-04T18:02:32.347Z"
   },
   {
    "duration": 52,
    "start_time": "2025-05-04T18:02:32.352Z"
   },
   {
    "duration": 19961,
    "start_time": "2025-05-04T18:02:32.406Z"
   },
   {
    "duration": 11,
    "start_time": "2025-05-04T18:02:52.369Z"
   },
   {
    "duration": 908,
    "start_time": "2025-05-04T18:02:52.383Z"
   },
   {
    "duration": 7,
    "start_time": "2025-05-04T18:03:04.974Z"
   },
   {
    "duration": 8124,
    "start_time": "2025-05-04T18:11:00.876Z"
   },
   {
    "duration": 2018,
    "start_time": "2025-05-04T18:11:09.003Z"
   },
   {
    "duration": 2,
    "start_time": "2025-05-04T18:11:11.023Z"
   },
   {
    "duration": 1026,
    "start_time": "2025-05-04T18:11:11.027Z"
   },
   {
    "duration": 704,
    "start_time": "2025-05-04T18:11:12.055Z"
   },
   {
    "duration": 85,
    "start_time": "2025-05-04T18:11:12.760Z"
   },
   {
    "duration": 62,
    "start_time": "2025-05-04T18:11:12.846Z"
   },
   {
    "duration": 914,
    "start_time": "2025-05-04T18:11:12.910Z"
   },
   {
    "duration": 297,
    "start_time": "2025-05-04T18:11:13.826Z"
   },
   {
    "duration": 12999,
    "start_time": "2025-05-04T18:11:14.124Z"
   },
   {
    "duration": 24,
    "start_time": "2025-05-04T18:11:27.125Z"
   },
   {
    "duration": 645,
    "start_time": "2025-05-04T18:11:27.151Z"
   },
   {
    "duration": 106,
    "start_time": "2025-05-04T18:11:27.804Z"
   },
   {
    "duration": 890,
    "start_time": "2025-05-04T18:11:27.914Z"
   },
   {
    "duration": 12363,
    "start_time": "2025-05-04T18:11:28.816Z"
   },
   {
    "duration": 31,
    "start_time": "2025-05-04T18:11:41.181Z"
   },
   {
    "duration": 87,
    "start_time": "2025-05-04T18:11:41.214Z"
   },
   {
    "duration": 7,
    "start_time": "2025-05-04T18:11:41.306Z"
   },
   {
    "duration": 6901,
    "start_time": "2025-05-04T18:11:41.314Z"
   },
   {
    "duration": 5,
    "start_time": "2025-05-04T18:11:48.216Z"
   },
   {
    "duration": 1722,
    "start_time": "2025-05-04T18:11:48.222Z"
   },
   {
    "duration": 5,
    "start_time": "2025-05-04T18:11:49.946Z"
   },
   {
    "duration": 53,
    "start_time": "2025-05-04T18:11:49.961Z"
   },
   {
    "duration": 100,
    "start_time": "2025-05-04T18:11:50.017Z"
   },
   {
    "duration": 22,
    "start_time": "2025-05-04T18:11:50.120Z"
   },
   {
    "duration": 50,
    "start_time": "2025-05-04T18:11:50.145Z"
   },
   {
    "duration": 17,
    "start_time": "2025-05-04T18:11:50.198Z"
   },
   {
    "duration": 12,
    "start_time": "2025-05-04T18:11:50.217Z"
   },
   {
    "duration": 29,
    "start_time": "2025-05-04T18:11:50.230Z"
   },
   {
    "duration": 22,
    "start_time": "2025-05-04T18:11:50.261Z"
   },
   {
    "duration": 12,
    "start_time": "2025-05-04T18:11:50.285Z"
   },
   {
    "duration": 36968,
    "start_time": "2025-05-04T18:11:50.299Z"
   },
   {
    "duration": 16,
    "start_time": "2025-05-04T18:12:27.273Z"
   },
   {
    "duration": 830,
    "start_time": "2025-05-04T18:12:27.292Z"
   },
   {
    "duration": 11,
    "start_time": "2025-05-04T18:13:05.962Z"
   },
   {
    "duration": 917,
    "start_time": "2025-05-04T18:13:06.224Z"
   },
   {
    "duration": 576,
    "start_time": "2025-05-04T18:13:07.143Z"
   },
   {
    "duration": 86,
    "start_time": "2025-05-04T18:13:07.721Z"
   },
   {
    "duration": 38,
    "start_time": "2025-05-04T18:13:07.809Z"
   },
   {
    "duration": 838,
    "start_time": "2025-05-04T18:13:07.848Z"
   },
   {
    "duration": 270,
    "start_time": "2025-05-04T18:13:08.688Z"
   },
   {
    "duration": 11689,
    "start_time": "2025-05-04T18:13:08.960Z"
   },
   {
    "duration": 24,
    "start_time": "2025-05-04T18:13:20.651Z"
   },
   {
    "duration": 549,
    "start_time": "2025-05-04T18:13:20.678Z"
   },
   {
    "duration": 104,
    "start_time": "2025-05-04T18:13:21.229Z"
   },
   {
    "duration": 788,
    "start_time": "2025-05-04T18:13:21.334Z"
   },
   {
    "duration": 11127,
    "start_time": "2025-05-04T18:13:22.124Z"
   },
   {
    "duration": 34,
    "start_time": "2025-05-04T18:13:33.253Z"
   },
   {
    "duration": 66,
    "start_time": "2025-05-04T18:13:33.293Z"
   },
   {
    "duration": 17,
    "start_time": "2025-05-04T18:13:33.361Z"
   },
   {
    "duration": 6659,
    "start_time": "2025-05-04T18:13:33.387Z"
   },
   {
    "duration": 4,
    "start_time": "2025-05-04T18:13:40.048Z"
   },
   {
    "duration": 1832,
    "start_time": "2025-05-04T18:13:40.075Z"
   },
   {
    "duration": 7,
    "start_time": "2025-05-04T18:13:41.909Z"
   },
   {
    "duration": 68,
    "start_time": "2025-05-04T18:13:41.918Z"
   },
   {
    "duration": 49,
    "start_time": "2025-05-04T18:13:41.994Z"
   },
   {
    "duration": 10,
    "start_time": "2025-05-04T18:13:42.045Z"
   },
   {
    "duration": 21,
    "start_time": "2025-05-04T18:13:42.057Z"
   },
   {
    "duration": 127,
    "start_time": "2025-05-04T18:13:42.080Z"
   },
   {
    "duration": 6,
    "start_time": "2025-05-04T18:13:42.209Z"
   },
   {
    "duration": 8,
    "start_time": "2025-05-04T18:13:42.216Z"
   },
   {
    "duration": 7,
    "start_time": "2025-05-04T18:13:42.226Z"
   },
   {
    "duration": 4,
    "start_time": "2025-05-04T18:13:42.234Z"
   },
   {
    "duration": 7871,
    "start_time": "2025-05-04T18:13:42.240Z"
   },
   {
    "duration": 0,
    "start_time": "2025-05-04T18:13:50.118Z"
   },
   {
    "duration": 0,
    "start_time": "2025-05-04T18:13:50.119Z"
   },
   {
    "duration": 8413,
    "start_time": "2025-05-04T18:14:19.746Z"
   },
   {
    "duration": 1987,
    "start_time": "2025-05-04T18:14:28.162Z"
   },
   {
    "duration": 3,
    "start_time": "2025-05-04T18:14:30.150Z"
   },
   {
    "duration": 1094,
    "start_time": "2025-05-04T18:14:30.162Z"
   },
   {
    "duration": 743,
    "start_time": "2025-05-04T18:14:31.265Z"
   },
   {
    "duration": 102,
    "start_time": "2025-05-04T18:14:32.014Z"
   },
   {
    "duration": 40,
    "start_time": "2025-05-04T18:14:32.120Z"
   },
   {
    "duration": 979,
    "start_time": "2025-05-04T18:14:32.161Z"
   },
   {
    "duration": 304,
    "start_time": "2025-05-04T18:14:33.142Z"
   },
   {
    "duration": 13431,
    "start_time": "2025-05-04T18:14:33.448Z"
   },
   {
    "duration": 26,
    "start_time": "2025-05-04T18:14:46.881Z"
   },
   {
    "duration": 507,
    "start_time": "2025-05-04T18:14:46.911Z"
   },
   {
    "duration": 100,
    "start_time": "2025-05-04T18:14:47.420Z"
   },
   {
    "duration": 804,
    "start_time": "2025-05-04T18:14:47.523Z"
   },
   {
    "duration": 10947,
    "start_time": "2025-05-04T18:14:48.330Z"
   },
   {
    "duration": 21,
    "start_time": "2025-05-04T18:14:59.282Z"
   },
   {
    "duration": 72,
    "start_time": "2025-05-04T18:14:59.308Z"
   },
   {
    "duration": 6,
    "start_time": "2025-05-04T18:14:59.382Z"
   },
   {
    "duration": 6447,
    "start_time": "2025-05-04T18:14:59.390Z"
   },
   {
    "duration": 4,
    "start_time": "2025-05-04T18:15:05.839Z"
   },
   {
    "duration": 1787,
    "start_time": "2025-05-04T18:15:05.844Z"
   },
   {
    "duration": 5,
    "start_time": "2025-05-04T18:15:07.632Z"
   },
   {
    "duration": 6,
    "start_time": "2025-05-04T18:15:07.639Z"
   },
   {
    "duration": 77,
    "start_time": "2025-05-04T18:15:07.646Z"
   },
   {
    "duration": 20,
    "start_time": "2025-05-04T18:15:07.724Z"
   },
   {
    "duration": 27,
    "start_time": "2025-05-04T18:15:07.746Z"
   },
   {
    "duration": 20,
    "start_time": "2025-05-04T18:15:07.775Z"
   },
   {
    "duration": 16,
    "start_time": "2025-05-04T18:15:07.796Z"
   },
   {
    "duration": 12,
    "start_time": "2025-05-04T18:15:07.813Z"
   },
   {
    "duration": 23,
    "start_time": "2025-05-04T18:15:07.827Z"
   },
   {
    "duration": 25,
    "start_time": "2025-05-04T18:15:07.852Z"
   },
   {
    "duration": 6905,
    "start_time": "2025-05-04T18:15:07.879Z"
   },
   {
    "duration": 0,
    "start_time": "2025-05-04T18:15:14.793Z"
   },
   {
    "duration": 0,
    "start_time": "2025-05-04T18:15:14.794Z"
   },
   {
    "duration": 919,
    "start_time": "2025-05-04T18:16:40.607Z"
   },
   {
    "duration": 525,
    "start_time": "2025-05-04T18:16:41.528Z"
   },
   {
    "duration": 80,
    "start_time": "2025-05-04T18:16:42.055Z"
   },
   {
    "duration": 70,
    "start_time": "2025-05-04T18:16:42.137Z"
   },
   {
    "duration": 849,
    "start_time": "2025-05-04T18:16:42.528Z"
   },
   {
    "duration": 278,
    "start_time": "2025-05-04T18:16:43.767Z"
   },
   {
    "duration": 11720,
    "start_time": "2025-05-04T18:16:44.138Z"
   },
   {
    "duration": 30,
    "start_time": "2025-05-04T18:16:55.860Z"
   },
   {
    "duration": 528,
    "start_time": "2025-05-04T18:16:55.892Z"
   },
   {
    "duration": 99,
    "start_time": "2025-05-04T18:16:56.422Z"
   },
   {
    "duration": 780,
    "start_time": "2025-05-04T18:16:56.523Z"
   },
   {
    "duration": 11013,
    "start_time": "2025-05-04T18:16:57.309Z"
   },
   {
    "duration": 9,
    "start_time": "2025-05-04T18:17:20.308Z"
   },
   {
    "duration": 6582,
    "start_time": "2025-05-04T18:17:21.673Z"
   },
   {
    "duration": 5,
    "start_time": "2025-05-04T18:17:35.505Z"
   },
   {
    "duration": 1947,
    "start_time": "2025-05-04T18:17:36.598Z"
   },
   {
    "duration": 5,
    "start_time": "2025-05-04T18:17:38.546Z"
   },
   {
    "duration": 13,
    "start_time": "2025-05-04T18:17:38.552Z"
   },
   {
    "duration": 73,
    "start_time": "2025-05-04T18:17:38.567Z"
   },
   {
    "duration": 11,
    "start_time": "2025-05-04T18:17:38.642Z"
   },
   {
    "duration": 31,
    "start_time": "2025-05-04T18:17:38.654Z"
   },
   {
    "duration": 3,
    "start_time": "2025-05-04T18:17:38.813Z"
   },
   {
    "duration": 3,
    "start_time": "2025-05-04T18:17:39.056Z"
   },
   {
    "duration": 3,
    "start_time": "2025-05-04T18:17:39.334Z"
   },
   {
    "duration": 8,
    "start_time": "2025-05-04T18:17:39.568Z"
   },
   {
    "duration": 3,
    "start_time": "2025-05-04T18:17:39.822Z"
   },
   {
    "duration": 1249,
    "start_time": "2025-05-04T18:17:40.368Z"
   },
   {
    "duration": 0,
    "start_time": "2025-05-04T18:17:41.619Z"
   },
   {
    "duration": 0,
    "start_time": "2025-05-04T18:17:41.620Z"
   },
   {
    "duration": 7,
    "start_time": "2025-05-04T18:20:08.094Z"
   },
   {
    "duration": 3,
    "start_time": "2025-05-04T18:20:09.853Z"
   },
   {
    "duration": 3,
    "start_time": "2025-05-04T18:20:10.410Z"
   },
   {
    "duration": 3,
    "start_time": "2025-05-04T18:20:10.745Z"
   },
   {
    "duration": 2,
    "start_time": "2025-05-04T18:20:11.121Z"
   },
   {
    "duration": 1285,
    "start_time": "2025-05-04T18:20:11.627Z"
   },
   {
    "duration": 4,
    "start_time": "2025-05-04T18:22:00.869Z"
   },
   {
    "duration": 3,
    "start_time": "2025-05-04T18:22:01.433Z"
   },
   {
    "duration": 3,
    "start_time": "2025-05-04T18:22:01.744Z"
   },
   {
    "duration": 4,
    "start_time": "2025-05-04T18:22:01.965Z"
   },
   {
    "duration": 5,
    "start_time": "2025-05-04T18:22:02.283Z"
   },
   {
    "duration": 3,
    "start_time": "2025-05-04T18:22:02.918Z"
   },
   {
    "duration": 1821,
    "start_time": "2025-05-04T18:22:03.215Z"
   },
   {
    "duration": 0,
    "start_time": "2025-05-04T18:22:05.038Z"
   },
   {
    "duration": 0,
    "start_time": "2025-05-04T18:22:05.039Z"
   },
   {
    "duration": 32,
    "start_time": "2025-05-04T18:22:37.913Z"
   },
   {
    "duration": 18,
    "start_time": "2025-05-04T18:22:52.929Z"
   },
   {
    "duration": 22,
    "start_time": "2025-05-04T18:22:56.956Z"
   },
   {
    "duration": 9,
    "start_time": "2025-05-04T18:23:08.180Z"
   },
   {
    "duration": 49,
    "start_time": "2025-05-04T18:23:09.596Z"
   },
   {
    "duration": 30,
    "start_time": "2025-05-04T18:23:09.874Z"
   },
   {
    "duration": 4,
    "start_time": "2025-05-04T18:23:10.801Z"
   },
   {
    "duration": 11,
    "start_time": "2025-05-04T18:23:11.078Z"
   },
   {
    "duration": 3,
    "start_time": "2025-05-04T18:23:11.253Z"
   },
   {
    "duration": 3,
    "start_time": "2025-05-04T18:23:11.443Z"
   },
   {
    "duration": 7,
    "start_time": "2025-05-04T18:23:11.662Z"
   },
   {
    "duration": 7,
    "start_time": "2025-05-04T18:23:11.871Z"
   },
   {
    "duration": 7371,
    "start_time": "2025-05-04T18:23:12.085Z"
   },
   {
    "duration": 0,
    "start_time": "2025-05-04T18:23:19.458Z"
   },
   {
    "duration": 0,
    "start_time": "2025-05-04T18:23:19.469Z"
   },
   {
    "duration": 2,
    "start_time": "2025-05-04T18:24:18.543Z"
   },
   {
    "duration": 2,
    "start_time": "2025-05-04T18:24:20.822Z"
   },
   {
    "duration": 3,
    "start_time": "2025-05-04T18:24:21.232Z"
   },
   {
    "duration": 7,
    "start_time": "2025-05-04T18:24:21.597Z"
   },
   {
    "duration": 7468,
    "start_time": "2025-05-04T18:24:21.976Z"
   },
   {
    "duration": 3,
    "start_time": "2025-05-04T18:24:57.358Z"
   },
   {
    "duration": 10,
    "start_time": "2025-05-04T18:25:04.540Z"
   },
   {
    "duration": 3,
    "start_time": "2025-05-04T18:25:19.511Z"
   },
   {
    "duration": 5,
    "start_time": "2025-05-04T18:25:37.905Z"
   },
   {
    "duration": 6,
    "start_time": "2025-05-04T18:26:00.767Z"
   },
   {
    "duration": 9,
    "start_time": "2025-05-04T18:26:15.402Z"
   },
   {
    "duration": 12,
    "start_time": "2025-05-04T18:26:15.790Z"
   },
   {
    "duration": 9911,
    "start_time": "2025-05-04T18:26:16.224Z"
   },
   {
    "duration": 7826,
    "start_time": "2025-05-04T18:27:09.204Z"
   },
   {
    "duration": 1808,
    "start_time": "2025-05-04T18:27:17.032Z"
   },
   {
    "duration": 3,
    "start_time": "2025-05-04T18:27:18.841Z"
   },
   {
    "duration": 990,
    "start_time": "2025-05-04T18:27:18.846Z"
   },
   {
    "duration": 702,
    "start_time": "2025-05-04T18:27:19.837Z"
   },
   {
    "duration": 81,
    "start_time": "2025-05-04T18:27:20.541Z"
   },
   {
    "duration": 57,
    "start_time": "2025-05-04T18:27:20.623Z"
   },
   {
    "duration": 871,
    "start_time": "2025-05-04T18:27:20.682Z"
   },
   {
    "duration": 281,
    "start_time": "2025-05-04T18:27:21.555Z"
   },
   {
    "duration": 12149,
    "start_time": "2025-05-04T18:27:21.838Z"
   },
   {
    "duration": 26,
    "start_time": "2025-05-04T18:27:33.990Z"
   },
   {
    "duration": 474,
    "start_time": "2025-05-04T18:27:34.017Z"
   },
   {
    "duration": 1765,
    "start_time": "2025-05-04T18:27:34.494Z"
   },
   {
    "duration": 0,
    "start_time": "2025-05-04T18:27:36.263Z"
   },
   {
    "duration": 0,
    "start_time": "2025-05-04T18:27:36.264Z"
   },
   {
    "duration": 0,
    "start_time": "2025-05-04T18:27:36.265Z"
   },
   {
    "duration": 0,
    "start_time": "2025-05-04T18:27:36.265Z"
   },
   {
    "duration": 0,
    "start_time": "2025-05-04T18:27:36.266Z"
   },
   {
    "duration": 0,
    "start_time": "2025-05-04T18:27:36.267Z"
   },
   {
    "duration": 0,
    "start_time": "2025-05-04T18:27:36.274Z"
   },
   {
    "duration": 0,
    "start_time": "2025-05-04T18:27:36.275Z"
   },
   {
    "duration": 0,
    "start_time": "2025-05-04T18:27:36.276Z"
   },
   {
    "duration": 0,
    "start_time": "2025-05-04T18:27:36.282Z"
   },
   {
    "duration": 0,
    "start_time": "2025-05-04T18:27:36.285Z"
   },
   {
    "duration": 0,
    "start_time": "2025-05-04T18:27:36.286Z"
   },
   {
    "duration": 0,
    "start_time": "2025-05-04T18:27:36.291Z"
   },
   {
    "duration": 0,
    "start_time": "2025-05-04T18:27:36.297Z"
   },
   {
    "duration": 0,
    "start_time": "2025-05-04T18:27:36.307Z"
   },
   {
    "duration": 0,
    "start_time": "2025-05-04T18:27:36.309Z"
   },
   {
    "duration": 0,
    "start_time": "2025-05-04T18:27:36.309Z"
   },
   {
    "duration": 0,
    "start_time": "2025-05-04T18:27:36.311Z"
   },
   {
    "duration": 0,
    "start_time": "2025-05-04T18:27:36.312Z"
   },
   {
    "duration": 0,
    "start_time": "2025-05-04T18:27:36.313Z"
   },
   {
    "duration": 0,
    "start_time": "2025-05-04T18:27:36.314Z"
   },
   {
    "duration": 0,
    "start_time": "2025-05-04T18:27:36.315Z"
   },
   {
    "duration": 57,
    "start_time": "2025-05-04T18:27:55.373Z"
   },
   {
    "duration": 956,
    "start_time": "2025-05-04T18:28:18.468Z"
   },
   {
    "duration": 611,
    "start_time": "2025-05-04T18:28:19.807Z"
   },
   {
    "duration": 77,
    "start_time": "2025-05-04T18:28:20.420Z"
   },
   {
    "duration": 38,
    "start_time": "2025-05-04T18:28:20.899Z"
   },
   {
    "duration": 761,
    "start_time": "2025-05-04T18:28:21.488Z"
   },
   {
    "duration": 144,
    "start_time": "2025-05-04T18:28:23.035Z"
   },
   {
    "duration": 12196,
    "start_time": "2025-05-04T18:28:24.355Z"
   },
   {
    "duration": 29,
    "start_time": "2025-05-04T18:28:36.553Z"
   },
   {
    "duration": 380,
    "start_time": "2025-05-04T18:28:36.588Z"
   },
   {
    "duration": 61,
    "start_time": "2025-05-04T18:28:36.976Z"
   },
   {
    "duration": 801,
    "start_time": "2025-05-04T18:28:37.039Z"
   },
   {
    "duration": 4262,
    "start_time": "2025-05-04T18:28:37.842Z"
   },
   {
    "duration": 80,
    "start_time": "2025-05-04T18:28:42.106Z"
   },
   {
    "duration": 6,
    "start_time": "2025-05-04T18:28:54.047Z"
   },
   {
    "duration": 6055,
    "start_time": "2025-05-04T18:28:54.581Z"
   },
   {
    "duration": 6,
    "start_time": "2025-05-04T18:29:00.638Z"
   },
   {
    "duration": 1811,
    "start_time": "2025-05-04T18:29:00.646Z"
   },
   {
    "duration": 14,
    "start_time": "2025-05-04T18:29:02.463Z"
   },
   {
    "duration": 20,
    "start_time": "2025-05-04T18:29:02.484Z"
   },
   {
    "duration": 43,
    "start_time": "2025-05-04T18:29:02.506Z"
   },
   {
    "duration": 9,
    "start_time": "2025-05-04T18:29:02.551Z"
   },
   {
    "duration": 33,
    "start_time": "2025-05-04T18:29:02.561Z"
   },
   {
    "duration": 5,
    "start_time": "2025-05-04T18:29:02.600Z"
   },
   {
    "duration": 7,
    "start_time": "2025-05-04T18:29:02.607Z"
   },
   {
    "duration": 4,
    "start_time": "2025-05-04T18:29:02.616Z"
   },
   {
    "duration": 5,
    "start_time": "2025-05-04T18:29:02.621Z"
   },
   {
    "duration": 3,
    "start_time": "2025-05-04T18:29:02.627Z"
   },
   {
    "duration": 9,
    "start_time": "2025-05-04T18:29:02.631Z"
   },
   {
    "duration": 3,
    "start_time": "2025-05-04T18:29:02.641Z"
   },
   {
    "duration": 41248,
    "start_time": "2025-05-04T18:29:02.645Z"
   },
   {
    "duration": 88,
    "start_time": "2025-05-04T18:29:43.897Z"
   },
   {
    "duration": 734,
    "start_time": "2025-05-04T18:29:43.990Z"
   },
   {
    "duration": 3,
    "start_time": "2025-05-04T19:17:50.189Z"
   },
   {
    "duration": 41420,
    "start_time": "2025-05-04T19:17:52.143Z"
   },
   {
    "duration": 99,
    "start_time": "2025-05-04T19:18:33.566Z"
   },
   {
    "duration": 0,
    "start_time": "2025-05-04T19:18:33.667Z"
   },
   {
    "duration": 42734,
    "start_time": "2025-05-04T19:19:14.229Z"
   },
   {
    "duration": 6,
    "start_time": "2025-05-04T19:19:56.966Z"
   },
   {
    "duration": 642,
    "start_time": "2025-05-04T19:19:57.063Z"
   },
   {
    "duration": 7579,
    "start_time": "2025-05-04T19:51:20.925Z"
   },
   {
    "duration": 1823,
    "start_time": "2025-05-04T19:51:28.507Z"
   },
   {
    "duration": 3,
    "start_time": "2025-05-04T19:51:30.331Z"
   },
   {
    "duration": 981,
    "start_time": "2025-05-04T19:51:30.335Z"
   },
   {
    "duration": 642,
    "start_time": "2025-05-04T19:51:31.317Z"
   },
   {
    "duration": 75,
    "start_time": "2025-05-04T19:51:31.964Z"
   },
   {
    "duration": 64,
    "start_time": "2025-05-04T19:51:32.040Z"
   },
   {
    "duration": 816,
    "start_time": "2025-05-04T19:51:32.105Z"
   },
   {
    "duration": 132,
    "start_time": "2025-05-04T19:51:32.923Z"
   },
   {
    "duration": 11272,
    "start_time": "2025-05-04T19:51:33.058Z"
   },
   {
    "duration": 34,
    "start_time": "2025-05-04T19:51:44.332Z"
   },
   {
    "duration": 363,
    "start_time": "2025-05-04T19:51:44.382Z"
   },
   {
    "duration": 71,
    "start_time": "2025-05-04T19:51:44.747Z"
   },
   {
    "duration": 739,
    "start_time": "2025-05-04T19:51:44.819Z"
   },
   {
    "duration": 3890,
    "start_time": "2025-05-04T19:51:45.559Z"
   },
   {
    "duration": 69,
    "start_time": "2025-05-04T19:51:49.450Z"
   },
   {
    "duration": 5,
    "start_time": "2025-05-04T19:51:49.521Z"
   },
   {
    "duration": 5904,
    "start_time": "2025-05-04T19:51:49.527Z"
   },
   {
    "duration": 4,
    "start_time": "2025-05-04T19:51:55.433Z"
   },
   {
    "duration": 1655,
    "start_time": "2025-05-04T19:51:55.439Z"
   },
   {
    "duration": 4,
    "start_time": "2025-05-04T19:51:57.096Z"
   },
   {
    "duration": 7,
    "start_time": "2025-05-04T19:51:57.102Z"
   },
   {
    "duration": 67,
    "start_time": "2025-05-04T19:51:57.110Z"
   },
   {
    "duration": 9,
    "start_time": "2025-05-04T19:51:57.189Z"
   },
   {
    "duration": 12,
    "start_time": "2025-05-04T19:51:57.200Z"
   },
   {
    "duration": 4,
    "start_time": "2025-05-04T19:51:57.214Z"
   },
   {
    "duration": 9,
    "start_time": "2025-05-04T19:51:57.220Z"
   },
   {
    "duration": 8,
    "start_time": "2025-05-04T19:51:57.232Z"
   },
   {
    "duration": 4,
    "start_time": "2025-05-04T19:51:57.241Z"
   },
   {
    "duration": 5,
    "start_time": "2025-05-04T19:51:57.246Z"
   },
   {
    "duration": 6,
    "start_time": "2025-05-04T19:51:57.252Z"
   },
   {
    "duration": 20,
    "start_time": "2025-05-04T19:51:57.259Z"
   },
   {
    "duration": 38798,
    "start_time": "2025-05-04T19:51:57.285Z"
   },
   {
    "duration": 86,
    "start_time": "2025-05-04T19:52:36.085Z"
   },
   {
    "duration": 807,
    "start_time": "2025-05-04T19:52:36.173Z"
   },
   {
    "duration": 5,
    "start_time": "2025-05-04T19:52:36.982Z"
   },
   {
    "duration": 4685,
    "start_time": "2025-05-04T19:52:36.992Z"
   },
   {
    "duration": 0,
    "start_time": "2025-05-04T19:52:41.682Z"
   },
   {
    "duration": 0,
    "start_time": "2025-05-04T19:52:41.683Z"
   },
   {
    "duration": 35,
    "start_time": "2025-05-04T19:53:16.713Z"
   },
   {
    "duration": 7,
    "start_time": "2025-05-04T19:53:52.767Z"
   },
   {
    "duration": 7541,
    "start_time": "2025-05-04T20:03:32.376Z"
   },
   {
    "duration": 1704,
    "start_time": "2025-05-04T20:03:39.919Z"
   },
   {
    "duration": 3,
    "start_time": "2025-05-04T20:03:41.624Z"
   },
   {
    "duration": 938,
    "start_time": "2025-05-04T20:03:41.628Z"
   },
   {
    "duration": 612,
    "start_time": "2025-05-04T20:03:42.568Z"
   },
   {
    "duration": 73,
    "start_time": "2025-05-04T20:03:43.182Z"
   },
   {
    "duration": 56,
    "start_time": "2025-05-04T20:03:43.256Z"
   },
   {
    "duration": 805,
    "start_time": "2025-05-04T20:03:43.314Z"
   },
   {
    "duration": 132,
    "start_time": "2025-05-04T20:03:44.120Z"
   },
   {
    "duration": 11426,
    "start_time": "2025-05-04T20:03:44.254Z"
   },
   {
    "duration": 19,
    "start_time": "2025-05-04T20:03:55.686Z"
   },
   {
    "duration": 382,
    "start_time": "2025-05-04T20:03:55.706Z"
   },
   {
    "duration": 48,
    "start_time": "2025-05-04T20:03:56.090Z"
   },
   {
    "duration": 718,
    "start_time": "2025-05-04T20:03:56.140Z"
   },
   {
    "duration": 3851,
    "start_time": "2025-05-04T20:03:56.862Z"
   },
   {
    "duration": 70,
    "start_time": "2025-05-04T20:04:00.715Z"
   },
   {
    "duration": 5,
    "start_time": "2025-05-04T20:04:00.791Z"
   },
   {
    "duration": 5824,
    "start_time": "2025-05-04T20:04:00.798Z"
   },
   {
    "duration": 4,
    "start_time": "2025-05-04T20:04:06.623Z"
   },
   {
    "duration": 1672,
    "start_time": "2025-05-04T20:04:06.629Z"
   },
   {
    "duration": 4,
    "start_time": "2025-05-04T20:04:08.303Z"
   },
   {
    "duration": 10,
    "start_time": "2025-05-04T20:04:08.308Z"
   },
   {
    "duration": 79,
    "start_time": "2025-05-04T20:04:08.319Z"
   },
   {
    "duration": 9,
    "start_time": "2025-05-04T20:04:08.400Z"
   },
   {
    "duration": 77,
    "start_time": "2025-05-04T20:04:08.410Z"
   },
   {
    "duration": 5,
    "start_time": "2025-05-04T20:04:08.488Z"
   },
   {
    "duration": 13,
    "start_time": "2025-05-04T20:04:08.494Z"
   },
   {
    "duration": 12,
    "start_time": "2025-05-04T20:04:08.510Z"
   },
   {
    "duration": 14,
    "start_time": "2025-05-04T20:04:08.523Z"
   },
   {
    "duration": 8,
    "start_time": "2025-05-04T20:04:08.538Z"
   },
   {
    "duration": 3,
    "start_time": "2025-05-04T20:04:08.547Z"
   },
   {
    "duration": 24,
    "start_time": "2025-05-04T20:04:08.551Z"
   },
   {
    "duration": 37815,
    "start_time": "2025-05-04T20:04:08.576Z"
   },
   {
    "duration": 76,
    "start_time": "2025-05-04T20:04:46.393Z"
   },
   {
    "duration": 802,
    "start_time": "2025-05-04T20:04:46.477Z"
   },
   {
    "duration": 8,
    "start_time": "2025-05-04T20:04:47.286Z"
   },
   {
    "duration": 7561,
    "start_time": "2025-05-04T20:07:33.932Z"
   },
   {
    "duration": 1722,
    "start_time": "2025-05-04T20:07:41.495Z"
   },
   {
    "duration": 3,
    "start_time": "2025-05-04T20:07:43.218Z"
   },
   {
    "duration": 934,
    "start_time": "2025-05-04T20:07:43.223Z"
   },
   {
    "duration": 615,
    "start_time": "2025-05-04T20:07:44.163Z"
   },
   {
    "duration": 68,
    "start_time": "2025-05-04T20:07:44.781Z"
   },
   {
    "duration": 59,
    "start_time": "2025-05-04T20:07:44.851Z"
   },
   {
    "duration": 806,
    "start_time": "2025-05-04T20:07:44.912Z"
   },
   {
    "duration": 138,
    "start_time": "2025-05-04T20:07:45.719Z"
   },
   {
    "duration": 11814,
    "start_time": "2025-05-04T20:07:45.860Z"
   },
   {
    "duration": 19,
    "start_time": "2025-05-04T20:07:57.680Z"
   },
   {
    "duration": 400,
    "start_time": "2025-05-04T20:07:57.701Z"
   },
   {
    "duration": 77,
    "start_time": "2025-05-04T20:07:58.103Z"
   },
   {
    "duration": 761,
    "start_time": "2025-05-04T20:07:58.187Z"
   },
   {
    "duration": 3902,
    "start_time": "2025-05-04T20:07:58.949Z"
   },
   {
    "duration": 73,
    "start_time": "2025-05-04T20:08:02.852Z"
   },
   {
    "duration": 6,
    "start_time": "2025-05-04T20:08:02.927Z"
   },
   {
    "duration": 5903,
    "start_time": "2025-05-04T20:08:02.934Z"
   },
   {
    "duration": 4,
    "start_time": "2025-05-04T20:08:08.839Z"
   },
   {
    "duration": 1804,
    "start_time": "2025-05-04T20:08:08.844Z"
   },
   {
    "duration": 4,
    "start_time": "2025-05-04T20:08:10.649Z"
   },
   {
    "duration": 25,
    "start_time": "2025-05-04T20:08:10.655Z"
   },
   {
    "duration": 42,
    "start_time": "2025-05-04T20:08:10.684Z"
   },
   {
    "duration": 9,
    "start_time": "2025-05-04T20:08:10.728Z"
   },
   {
    "duration": 3,
    "start_time": "2025-05-04T20:08:10.739Z"
   },
   {
    "duration": 4,
    "start_time": "2025-05-04T20:08:10.743Z"
   },
   {
    "duration": 3,
    "start_time": "2025-05-04T20:08:10.748Z"
   },
   {
    "duration": 13,
    "start_time": "2025-05-04T20:08:10.765Z"
   },
   {
    "duration": 4,
    "start_time": "2025-05-04T20:08:10.785Z"
   },
   {
    "duration": 4,
    "start_time": "2025-05-04T20:08:10.791Z"
   },
   {
    "duration": 21,
    "start_time": "2025-05-04T20:08:10.796Z"
   },
   {
    "duration": 18,
    "start_time": "2025-05-04T20:08:10.818Z"
   },
   {
    "duration": 37941,
    "start_time": "2025-05-04T20:08:10.838Z"
   },
   {
    "duration": 82,
    "start_time": "2025-05-04T20:08:48.783Z"
   },
   {
    "duration": 731,
    "start_time": "2025-05-04T20:08:48.867Z"
   },
   {
    "duration": 2,
    "start_time": "2025-05-04T20:08:49.599Z"
   },
   {
    "duration": 4,
    "start_time": "2025-05-04T20:08:49.603Z"
   },
   {
    "duration": 6,
    "start_time": "2025-05-04T20:08:49.608Z"
   },
   {
    "duration": 7,
    "start_time": "2025-05-04T20:08:49.615Z"
   },
   {
    "duration": 5,
    "start_time": "2025-05-04T20:08:49.624Z"
   },
   {
    "duration": 159,
    "start_time": "2025-05-04T20:08:49.630Z"
   },
   {
    "duration": 0,
    "start_time": "2025-05-04T20:08:49.791Z"
   },
   {
    "duration": 0,
    "start_time": "2025-05-04T20:08:49.793Z"
   },
   {
    "duration": 7,
    "start_time": "2025-05-04T20:10:15.268Z"
   },
   {
    "duration": 2,
    "start_time": "2025-05-04T20:10:16.835Z"
   },
   {
    "duration": 43,
    "start_time": "2025-05-04T20:10:19.903Z"
   },
   {
    "duration": 14,
    "start_time": "2025-05-04T20:11:49.996Z"
   },
   {
    "duration": 3,
    "start_time": "2025-05-04T20:12:12.901Z"
   },
   {
    "duration": 3,
    "start_time": "2025-05-04T20:12:13.550Z"
   },
   {
    "duration": 9,
    "start_time": "2025-05-04T20:12:13.971Z"
   },
   {
    "duration": 46,
    "start_time": "2025-05-04T20:12:14.453Z"
   },
   {
    "duration": 5,
    "start_time": "2025-05-04T20:12:45.341Z"
   },
   {
    "duration": 6,
    "start_time": "2025-05-04T20:13:22.875Z"
   },
   {
    "duration": 3,
    "start_time": "2025-05-04T20:13:38.543Z"
   },
   {
    "duration": 3,
    "start_time": "2025-05-04T20:13:39.033Z"
   },
   {
    "duration": 4,
    "start_time": "2025-05-04T20:13:39.374Z"
   },
   {
    "duration": 3,
    "start_time": "2025-05-04T20:13:39.687Z"
   },
   {
    "duration": 92036,
    "start_time": "2025-05-04T20:13:40.141Z"
   },
   {
    "duration": 4,
    "start_time": "2025-05-04T20:15:12.179Z"
   },
   {
    "duration": 890,
    "start_time": "2025-05-04T20:15:12.184Z"
   },
   {
    "duration": 3,
    "start_time": "2025-05-04T20:17:38.494Z"
   },
   {
    "duration": 77625,
    "start_time": "2025-05-04T20:17:38.953Z"
   },
   {
    "duration": 3,
    "start_time": "2025-05-04T20:18:56.580Z"
   },
   {
    "duration": 807,
    "start_time": "2025-05-04T20:18:56.584Z"
   },
   {
    "duration": 3,
    "start_time": "2025-05-04T20:19:46.280Z"
   },
   {
    "duration": 75601,
    "start_time": "2025-05-04T20:19:47.072Z"
   },
   {
    "duration": 3,
    "start_time": "2025-05-04T20:21:02.675Z"
   },
   {
    "duration": 836,
    "start_time": "2025-05-04T20:21:02.680Z"
   },
   {
    "duration": 2,
    "start_time": "2025-05-04T20:24:07.334Z"
   },
   {
    "duration": 10,
    "start_time": "2025-05-04T20:25:28.751Z"
   },
   {
    "duration": 3,
    "start_time": "2025-05-04T20:25:53.308Z"
   },
   {
    "duration": 11,
    "start_time": "2025-05-04T20:26:13.549Z"
   },
   {
    "duration": 6,
    "start_time": "2025-05-04T20:26:33.493Z"
   },
   {
    "duration": 4,
    "start_time": "2025-05-04T20:26:39.187Z"
   },
   {
    "duration": 4,
    "start_time": "2025-05-04T20:26:49.969Z"
   },
   {
    "duration": 3,
    "start_time": "2025-05-04T20:26:58.309Z"
   },
   {
    "duration": 4171,
    "start_time": "2025-05-04T20:27:18.187Z"
   },
   {
    "duration": 10,
    "start_time": "2025-05-04T20:27:35.125Z"
   },
   {
    "duration": 10,
    "start_time": "2025-05-04T20:27:51.335Z"
   },
   {
    "duration": 3,
    "start_time": "2025-05-04T20:28:08.001Z"
   },
   {
    "duration": 4001,
    "start_time": "2025-05-04T20:28:09.944Z"
   },
   {
    "duration": 11,
    "start_time": "2025-05-04T20:32:52.213Z"
   },
   {
    "duration": 249,
    "start_time": "2025-05-04T20:33:03.032Z"
   },
   {
    "duration": 101,
    "start_time": "2025-05-04T20:33:20.751Z"
   },
   {
    "duration": 10,
    "start_time": "2025-05-04T20:33:21.385Z"
   },
   {
    "duration": 3,
    "start_time": "2025-05-04T20:33:29.187Z"
   },
   {
    "duration": 3,
    "start_time": "2025-05-04T20:33:29.685Z"
   },
   {
    "duration": 3,
    "start_time": "2025-05-04T20:33:30.227Z"
   },
   {
    "duration": 3,
    "start_time": "2025-05-04T20:33:30.702Z"
   },
   {
    "duration": 7003,
    "start_time": "2025-05-04T20:33:31.132Z"
   },
   {
    "duration": 0,
    "start_time": "2025-05-04T20:33:38.136Z"
   },
   {
    "duration": 10,
    "start_time": "2025-05-04T20:33:57.472Z"
   },
   {
    "duration": 3,
    "start_time": "2025-05-04T20:35:20.537Z"
   },
   {
    "duration": 3,
    "start_time": "2025-05-04T20:35:24.299Z"
   },
   {
    "duration": 3,
    "start_time": "2025-05-04T20:35:24.799Z"
   },
   {
    "duration": 3,
    "start_time": "2025-05-04T20:35:29.215Z"
   },
   {
    "duration": 3,
    "start_time": "2025-05-04T20:35:29.915Z"
   },
   {
    "duration": 3,
    "start_time": "2025-05-04T20:35:30.455Z"
   },
   {
    "duration": 10,
    "start_time": "2025-05-04T20:35:31.727Z"
   },
   {
    "duration": 135353,
    "start_time": "2025-05-04T20:35:33.245Z"
   },
   {
    "duration": 0,
    "start_time": "2025-05-04T20:37:48.600Z"
   },
   {
    "duration": 1,
    "start_time": "2025-05-04T20:37:48.662Z"
   },
   {
    "duration": 12,
    "start_time": "2025-05-04T20:37:52.610Z"
   },
   {
    "duration": 12,
    "start_time": "2025-05-04T20:38:10.243Z"
   },
   {
    "duration": 6978,
    "start_time": "2025-05-04T20:38:18.059Z"
   },
   {
    "duration": 1693,
    "start_time": "2025-05-04T20:38:25.040Z"
   },
   {
    "duration": 2,
    "start_time": "2025-05-04T20:38:26.735Z"
   },
   {
    "duration": 836,
    "start_time": "2025-05-04T20:38:26.739Z"
   },
   {
    "duration": 581,
    "start_time": "2025-05-04T20:38:27.576Z"
   },
   {
    "duration": 68,
    "start_time": "2025-05-04T20:38:28.161Z"
   },
   {
    "duration": 50,
    "start_time": "2025-05-04T20:38:28.230Z"
   },
   {
    "duration": 738,
    "start_time": "2025-05-04T20:38:28.282Z"
   },
   {
    "duration": 117,
    "start_time": "2025-05-04T20:38:29.022Z"
   },
   {
    "duration": 13421,
    "start_time": "2025-05-04T20:38:29.141Z"
   },
   {
    "duration": 20,
    "start_time": "2025-05-04T20:38:42.564Z"
   },
   {
    "duration": 246,
    "start_time": "2025-05-04T20:38:42.585Z"
   },
   {
    "duration": 425,
    "start_time": "2025-05-04T20:38:42.833Z"
   },
   {
    "duration": 49,
    "start_time": "2025-05-04T20:38:43.262Z"
   },
   {
    "duration": 522,
    "start_time": "2025-05-04T20:38:43.312Z"
   },
   {
    "duration": 3898,
    "start_time": "2025-05-04T20:38:43.835Z"
   },
   {
    "duration": 50,
    "start_time": "2025-05-04T20:38:47.735Z"
   },
   {
    "duration": 6,
    "start_time": "2025-05-04T20:38:47.786Z"
   },
   {
    "duration": 5280,
    "start_time": "2025-05-04T20:38:47.793Z"
   },
   {
    "duration": 4,
    "start_time": "2025-05-04T20:38:53.075Z"
   },
   {
    "duration": 1761,
    "start_time": "2025-05-04T20:38:53.080Z"
   },
   {
    "duration": 4,
    "start_time": "2025-05-04T20:38:54.843Z"
   },
   {
    "duration": 20,
    "start_time": "2025-05-04T20:38:54.848Z"
   },
   {
    "duration": 79,
    "start_time": "2025-05-04T20:38:54.869Z"
   },
   {
    "duration": 12,
    "start_time": "2025-05-04T20:38:54.950Z"
   },
   {
    "duration": 4,
    "start_time": "2025-05-04T20:38:54.963Z"
   },
   {
    "duration": 5,
    "start_time": "2025-05-04T20:38:54.968Z"
   },
   {
    "duration": 3,
    "start_time": "2025-05-04T20:38:54.976Z"
   },
   {
    "duration": 4,
    "start_time": "2025-05-04T20:38:54.980Z"
   },
   {
    "duration": 3,
    "start_time": "2025-05-04T20:38:54.985Z"
   },
   {
    "duration": 3,
    "start_time": "2025-05-04T20:38:54.990Z"
   },
   {
    "duration": 13,
    "start_time": "2025-05-04T20:38:54.994Z"
   },
   {
    "duration": 46960,
    "start_time": "2025-05-04T20:38:55.008Z"
   },
   {
    "duration": 5,
    "start_time": "2025-05-04T20:39:41.970Z"
   },
   {
    "duration": 848,
    "start_time": "2025-05-04T20:39:41.976Z"
   },
   {
    "duration": 3,
    "start_time": "2025-05-04T20:39:42.826Z"
   },
   {
    "duration": 4,
    "start_time": "2025-05-04T20:39:42.831Z"
   },
   {
    "duration": 7,
    "start_time": "2025-05-04T20:39:42.836Z"
   },
   {
    "duration": 2,
    "start_time": "2025-05-04T20:39:42.863Z"
   },
   {
    "duration": 4,
    "start_time": "2025-05-04T20:39:42.867Z"
   },
   {
    "duration": 46994,
    "start_time": "2025-05-04T20:39:42.873Z"
   },
   {
    "duration": 3,
    "start_time": "2025-05-04T20:40:29.868Z"
   },
   {
    "duration": 689,
    "start_time": "2025-05-04T20:40:29.873Z"
   },
   {
    "duration": 3,
    "start_time": "2025-05-04T20:40:30.564Z"
   },
   {
    "duration": 55,
    "start_time": "2025-05-04T20:40:30.568Z"
   },
   {
    "duration": 4,
    "start_time": "2025-05-04T20:40:30.625Z"
   },
   {
    "duration": 122,
    "start_time": "2025-05-04T20:40:30.631Z"
   },
   {
    "duration": 0,
    "start_time": "2025-05-04T20:40:30.754Z"
   },
   {
    "duration": 0,
    "start_time": "2025-05-04T20:40:30.755Z"
   },
   {
    "duration": 6821,
    "start_time": "2025-05-04T20:40:54.711Z"
   },
   {
    "duration": 13,
    "start_time": "2025-05-04T20:43:34.876Z"
   },
   {
    "duration": 103101,
    "start_time": "2025-05-04T20:44:08.863Z"
   },
   {
    "duration": 2,
    "start_time": "2025-05-04T20:45:51.966Z"
   },
   {
    "duration": 1397,
    "start_time": "2025-05-04T20:45:51.970Z"
   },
   {
    "duration": 195998,
    "start_time": "2025-05-04T20:48:22.621Z"
   },
   {
    "duration": 4,
    "start_time": "2025-05-04T20:51:38.621Z"
   },
   {
    "duration": 948,
    "start_time": "2025-05-04T20:51:38.627Z"
   },
   {
    "duration": 3,
    "start_time": "2025-05-04T20:51:54.097Z"
   },
   {
    "duration": 3,
    "start_time": "2025-05-04T20:51:54.612Z"
   },
   {
    "duration": 3,
    "start_time": "2025-05-04T20:51:54.998Z"
   },
   {
    "duration": 94221,
    "start_time": "2025-05-04T20:51:55.411Z"
   },
   {
    "duration": 3,
    "start_time": "2025-05-04T20:53:54.796Z"
   },
   {
    "duration": 1234,
    "start_time": "2025-05-04T20:53:55.542Z"
   },
   {
    "duration": 14389,
    "start_time": "2025-05-05T16:56:25.935Z"
   },
   {
    "duration": 2096,
    "start_time": "2025-05-05T16:56:40.327Z"
   },
   {
    "duration": 2,
    "start_time": "2025-05-05T16:56:42.425Z"
   },
   {
    "duration": 1031,
    "start_time": "2025-05-05T16:56:42.430Z"
   },
   {
    "duration": 648,
    "start_time": "2025-05-05T16:56:43.463Z"
   },
   {
    "duration": 93,
    "start_time": "2025-05-05T16:56:44.113Z"
   },
   {
    "duration": 53,
    "start_time": "2025-05-05T16:56:44.208Z"
   },
   {
    "duration": 885,
    "start_time": "2025-05-05T16:56:44.263Z"
   },
   {
    "duration": 147,
    "start_time": "2025-05-05T16:56:45.150Z"
   },
   {
    "duration": 14976,
    "start_time": "2025-05-05T16:56:45.300Z"
   },
   {
    "duration": 21,
    "start_time": "2025-05-05T16:57:00.278Z"
   },
   {
    "duration": 290,
    "start_time": "2025-05-05T16:57:00.301Z"
   },
   {
    "duration": 494,
    "start_time": "2025-05-05T16:57:00.593Z"
   },
   {
    "duration": 55,
    "start_time": "2025-05-05T16:57:01.089Z"
   },
   {
    "duration": 552,
    "start_time": "2025-05-05T16:57:01.161Z"
   },
   {
    "duration": 4526,
    "start_time": "2025-05-05T16:57:01.715Z"
   },
   {
    "duration": 55,
    "start_time": "2025-05-05T16:57:06.243Z"
   },
   {
    "duration": 6,
    "start_time": "2025-05-05T16:57:06.300Z"
   },
   {
    "duration": 6114,
    "start_time": "2025-05-05T16:57:06.308Z"
   },
   {
    "duration": 4,
    "start_time": "2025-05-05T16:57:12.424Z"
   },
   {
    "duration": 2059,
    "start_time": "2025-05-05T16:57:12.430Z"
   },
   {
    "duration": 6,
    "start_time": "2025-05-05T16:57:14.491Z"
   },
   {
    "duration": 5,
    "start_time": "2025-05-05T16:57:14.499Z"
   },
   {
    "duration": 101,
    "start_time": "2025-05-05T16:57:14.506Z"
   },
   {
    "duration": 12,
    "start_time": "2025-05-05T16:57:14.608Z"
   },
   {
    "duration": 3,
    "start_time": "2025-05-05T16:57:14.623Z"
   },
   {
    "duration": 10,
    "start_time": "2025-05-05T16:57:14.628Z"
   },
   {
    "duration": 66,
    "start_time": "2025-05-05T16:57:14.660Z"
   },
   {
    "duration": 37,
    "start_time": "2025-05-05T16:57:14.728Z"
   },
   {
    "duration": 5,
    "start_time": "2025-05-05T16:57:14.767Z"
   },
   {
    "duration": 4,
    "start_time": "2025-05-05T16:57:14.774Z"
   },
   {
    "duration": 4,
    "start_time": "2025-05-05T16:57:14.780Z"
   },
   {
    "duration": 49881,
    "start_time": "2025-05-05T16:57:14.786Z"
   },
   {
    "duration": 92,
    "start_time": "2025-05-05T16:58:04.670Z"
   },
   {
    "duration": 852,
    "start_time": "2025-05-05T16:58:04.764Z"
   },
   {
    "duration": 4,
    "start_time": "2025-05-05T16:58:05.618Z"
   },
   {
    "duration": 7,
    "start_time": "2025-05-05T16:58:05.623Z"
   },
   {
    "duration": 12,
    "start_time": "2025-05-05T16:58:05.632Z"
   },
   {
    "duration": 15,
    "start_time": "2025-05-05T16:58:05.646Z"
   },
   {
    "duration": 10,
    "start_time": "2025-05-05T16:58:05.663Z"
   },
   {
    "duration": 239223,
    "start_time": "2025-05-05T16:58:05.675Z"
   },
   {
    "duration": 3,
    "start_time": "2025-05-05T17:02:04.900Z"
   },
   {
    "duration": 1163,
    "start_time": "2025-05-05T17:02:04.905Z"
   },
   {
    "duration": 114936,
    "start_time": "2025-05-05T17:02:06.070Z"
   },
   {
    "duration": 5,
    "start_time": "2025-05-05T17:04:01.008Z"
   },
   {
    "duration": 1428,
    "start_time": "2025-05-05T17:04:01.015Z"
   },
   {
    "duration": 170,
    "start_time": "2025-05-05T17:04:02.460Z"
   },
   {
    "duration": 0,
    "start_time": "2025-05-05T17:04:02.632Z"
   },
   {
    "duration": 0,
    "start_time": "2025-05-05T17:04:02.634Z"
   },
   {
    "duration": 32,
    "start_time": "2025-05-05T17:06:09.342Z"
   },
   {
    "duration": 6,
    "start_time": "2025-05-05T17:06:47.879Z"
   },
   {
    "duration": 6,
    "start_time": "2025-05-05T17:07:08.552Z"
   },
   {
    "duration": 45,
    "start_time": "2025-05-05T17:07:13.872Z"
   },
   {
    "duration": 31,
    "start_time": "2025-05-05T17:08:58.594Z"
   },
   {
    "duration": 3,
    "start_time": "2025-05-05T17:10:13.917Z"
   },
   {
    "duration": 3,
    "start_time": "2025-05-05T17:10:14.248Z"
   },
   {
    "duration": 3,
    "start_time": "2025-05-05T17:10:14.514Z"
   },
   {
    "duration": 4,
    "start_time": "2025-05-05T17:10:14.838Z"
   },
   {
    "duration": 3,
    "start_time": "2025-05-05T17:10:15.189Z"
   },
   {
    "duration": 2,
    "start_time": "2025-05-05T17:10:15.996Z"
   },
   {
    "duration": 50260,
    "start_time": "2025-05-05T17:10:17.007Z"
   },
   {
    "duration": 93,
    "start_time": "2025-05-05T17:11:07.270Z"
   },
   {
    "duration": 883,
    "start_time": "2025-05-05T17:11:07.365Z"
   },
   {
    "duration": 5,
    "start_time": "2025-05-05T17:13:22.236Z"
   },
   {
    "duration": 4,
    "start_time": "2025-05-05T17:13:47.555Z"
   },
   {
    "duration": 31,
    "start_time": "2025-05-05T17:13:47.973Z"
   },
   {
    "duration": 3,
    "start_time": "2025-05-05T17:14:09.548Z"
   },
   {
    "duration": 32,
    "start_time": "2025-05-05T17:14:10.063Z"
   },
   {
    "duration": 3,
    "start_time": "2025-05-05T17:15:57.525Z"
   },
   {
    "duration": 3,
    "start_time": "2025-05-05T17:15:57.874Z"
   },
   {
    "duration": 37,
    "start_time": "2025-05-05T17:15:58.205Z"
   },
   {
    "duration": 8236,
    "start_time": "2025-05-05T17:26:12.224Z"
   },
   {
    "duration": 1655,
    "start_time": "2025-05-05T17:26:20.463Z"
   },
   {
    "duration": 3,
    "start_time": "2025-05-05T17:26:22.120Z"
   },
   {
    "duration": 1064,
    "start_time": "2025-05-05T17:26:22.125Z"
   },
   {
    "duration": 726,
    "start_time": "2025-05-05T17:26:23.191Z"
   },
   {
    "duration": 94,
    "start_time": "2025-05-05T17:26:23.918Z"
   },
   {
    "duration": 54,
    "start_time": "2025-05-05T17:26:24.014Z"
   },
   {
    "duration": 808,
    "start_time": "2025-05-05T17:26:24.070Z"
   },
   {
    "duration": 141,
    "start_time": "2025-05-05T17:26:24.880Z"
   },
   {
    "duration": 14759,
    "start_time": "2025-05-05T17:26:25.024Z"
   },
   {
    "duration": 24,
    "start_time": "2025-05-05T17:26:39.785Z"
   },
   {
    "duration": 285,
    "start_time": "2025-05-05T17:26:39.811Z"
   },
   {
    "duration": 527,
    "start_time": "2025-05-05T17:26:40.098Z"
   },
   {
    "duration": 68,
    "start_time": "2025-05-05T17:26:40.627Z"
   },
   {
    "duration": 609,
    "start_time": "2025-05-05T17:26:40.697Z"
   },
   {
    "duration": 4693,
    "start_time": "2025-05-05T17:26:41.308Z"
   },
   {
    "duration": 54,
    "start_time": "2025-05-05T17:26:46.003Z"
   },
   {
    "duration": 6,
    "start_time": "2025-05-05T17:26:46.059Z"
   },
   {
    "duration": 6428,
    "start_time": "2025-05-05T17:26:46.067Z"
   },
   {
    "duration": 6,
    "start_time": "2025-05-05T17:26:52.497Z"
   },
   {
    "duration": 2138,
    "start_time": "2025-05-05T17:26:52.505Z"
   },
   {
    "duration": 5,
    "start_time": "2025-05-05T17:26:54.645Z"
   },
   {
    "duration": 6,
    "start_time": "2025-05-05T17:26:54.660Z"
   },
   {
    "duration": 111,
    "start_time": "2025-05-05T17:26:54.668Z"
   },
   {
    "duration": 13,
    "start_time": "2025-05-05T17:26:54.781Z"
   },
   {
    "duration": 27,
    "start_time": "2025-05-05T17:26:54.796Z"
   },
   {
    "duration": 16,
    "start_time": "2025-05-05T17:26:54.825Z"
   },
   {
    "duration": 16,
    "start_time": "2025-05-05T17:26:54.845Z"
   },
   {
    "duration": 19,
    "start_time": "2025-05-05T17:26:54.863Z"
   },
   {
    "duration": 5,
    "start_time": "2025-05-05T17:26:54.884Z"
   },
   {
    "duration": 83,
    "start_time": "2025-05-05T17:26:54.891Z"
   },
   {
    "duration": 49785,
    "start_time": "2025-05-05T17:26:54.977Z"
   },
   {
    "duration": 98,
    "start_time": "2025-05-05T17:27:44.765Z"
   },
   {
    "duration": 942,
    "start_time": "2025-05-05T17:27:44.865Z"
   },
   {
    "duration": 4,
    "start_time": "2025-05-05T17:27:45.810Z"
   },
   {
    "duration": 5,
    "start_time": "2025-05-05T17:27:45.817Z"
   },
   {
    "duration": 8241,
    "start_time": "2025-05-05T17:37:11.390Z"
   },
   {
    "duration": 1680,
    "start_time": "2025-05-05T17:37:19.634Z"
   },
   {
    "duration": 3,
    "start_time": "2025-05-05T17:37:21.316Z"
   },
   {
    "duration": 1104,
    "start_time": "2025-05-05T17:37:21.321Z"
   },
   {
    "duration": 699,
    "start_time": "2025-05-05T17:37:22.429Z"
   },
   {
    "duration": 100,
    "start_time": "2025-05-05T17:37:23.130Z"
   },
   {
    "duration": 60,
    "start_time": "2025-05-05T17:37:23.232Z"
   },
   {
    "duration": 809,
    "start_time": "2025-05-05T17:37:23.294Z"
   },
   {
    "duration": 143,
    "start_time": "2025-05-05T17:37:24.104Z"
   },
   {
    "duration": 15346,
    "start_time": "2025-05-05T17:37:24.249Z"
   },
   {
    "duration": 24,
    "start_time": "2025-05-05T17:37:39.597Z"
   },
   {
    "duration": 288,
    "start_time": "2025-05-05T17:37:39.623Z"
   },
   {
    "duration": 561,
    "start_time": "2025-05-05T17:37:39.913Z"
   },
   {
    "duration": 58,
    "start_time": "2025-05-05T17:37:40.477Z"
   },
   {
    "duration": 690,
    "start_time": "2025-05-05T17:37:40.537Z"
   },
   {
    "duration": 4684,
    "start_time": "2025-05-05T17:37:41.229Z"
   },
   {
    "duration": 57,
    "start_time": "2025-05-05T17:37:45.915Z"
   },
   {
    "duration": 8,
    "start_time": "2025-05-05T17:37:45.976Z"
   },
   {
    "duration": 6275,
    "start_time": "2025-05-05T17:37:45.986Z"
   },
   {
    "duration": 5,
    "start_time": "2025-05-05T17:37:52.262Z"
   },
   {
    "duration": 1993,
    "start_time": "2025-05-05T17:37:52.269Z"
   },
   {
    "duration": 6,
    "start_time": "2025-05-05T17:37:54.264Z"
   },
   {
    "duration": 5,
    "start_time": "2025-05-05T17:37:54.271Z"
   },
   {
    "duration": 116,
    "start_time": "2025-05-05T17:37:54.278Z"
   },
   {
    "duration": 11,
    "start_time": "2025-05-05T17:37:54.396Z"
   },
   {
    "duration": 5,
    "start_time": "2025-05-05T17:37:54.409Z"
   },
   {
    "duration": 4,
    "start_time": "2025-05-05T17:37:54.416Z"
   },
   {
    "duration": 4,
    "start_time": "2025-05-05T17:37:54.422Z"
   },
   {
    "duration": 166,
    "start_time": "2025-05-05T17:37:54.428Z"
   },
   {
    "duration": 3,
    "start_time": "2025-05-05T17:37:54.596Z"
   },
   {
    "duration": 7,
    "start_time": "2025-05-05T17:37:54.601Z"
   },
   {
    "duration": 4,
    "start_time": "2025-05-05T17:37:54.610Z"
   },
   {
    "duration": 49268,
    "start_time": "2025-05-05T17:37:54.615Z"
   },
   {
    "duration": 5,
    "start_time": "2025-05-05T17:38:43.885Z"
   },
   {
    "duration": 829,
    "start_time": "2025-05-05T17:38:43.893Z"
   },
   {
    "duration": 3,
    "start_time": "2025-05-05T17:38:44.724Z"
   },
   {
    "duration": 4,
    "start_time": "2025-05-05T17:38:44.729Z"
   },
   {
    "duration": 8562,
    "start_time": "2025-05-05T17:41:39.757Z"
   },
   {
    "duration": 1595,
    "start_time": "2025-05-05T17:41:48.322Z"
   },
   {
    "duration": 3,
    "start_time": "2025-05-05T17:41:49.919Z"
   },
   {
    "duration": 1116,
    "start_time": "2025-05-05T17:41:49.924Z"
   },
   {
    "duration": 717,
    "start_time": "2025-05-05T17:41:51.044Z"
   },
   {
    "duration": 97,
    "start_time": "2025-05-05T17:41:51.763Z"
   },
   {
    "duration": 46,
    "start_time": "2025-05-05T17:41:51.862Z"
   },
   {
    "duration": 807,
    "start_time": "2025-05-05T17:41:51.910Z"
   },
   {
    "duration": 136,
    "start_time": "2025-05-05T17:41:52.719Z"
   },
   {
    "duration": 15324,
    "start_time": "2025-05-05T17:41:52.857Z"
   },
   {
    "duration": 22,
    "start_time": "2025-05-05T17:42:08.183Z"
   },
   {
    "duration": 303,
    "start_time": "2025-05-05T17:42:08.207Z"
   },
   {
    "duration": 515,
    "start_time": "2025-05-05T17:42:08.512Z"
   },
   {
    "duration": 75,
    "start_time": "2025-05-05T17:42:09.032Z"
   },
   {
    "duration": 580,
    "start_time": "2025-05-05T17:42:09.110Z"
   },
   {
    "duration": 4612,
    "start_time": "2025-05-05T17:42:09.693Z"
   },
   {
    "duration": 55,
    "start_time": "2025-05-05T17:42:14.307Z"
   },
   {
    "duration": 7,
    "start_time": "2025-05-05T17:42:14.363Z"
   },
   {
    "duration": 6265,
    "start_time": "2025-05-05T17:42:14.373Z"
   },
   {
    "duration": 5,
    "start_time": "2025-05-05T17:42:20.639Z"
   },
   {
    "duration": 2016,
    "start_time": "2025-05-05T17:42:20.646Z"
   },
   {
    "duration": 6,
    "start_time": "2025-05-05T17:42:22.664Z"
   },
   {
    "duration": 15,
    "start_time": "2025-05-05T17:42:22.671Z"
   },
   {
    "duration": 143,
    "start_time": "2025-05-05T17:42:22.687Z"
   },
   {
    "duration": 11,
    "start_time": "2025-05-05T17:42:22.833Z"
   },
   {
    "duration": 48,
    "start_time": "2025-05-05T17:42:22.846Z"
   },
   {
    "duration": 6,
    "start_time": "2025-05-05T17:42:22.896Z"
   },
   {
    "duration": 7,
    "start_time": "2025-05-05T17:42:22.904Z"
   },
   {
    "duration": 147,
    "start_time": "2025-05-05T17:42:22.913Z"
   },
   {
    "duration": 4,
    "start_time": "2025-05-05T17:42:23.062Z"
   },
   {
    "duration": 6,
    "start_time": "2025-05-05T17:42:23.067Z"
   },
   {
    "duration": 4,
    "start_time": "2025-05-05T17:42:23.074Z"
   },
   {
    "duration": 49196,
    "start_time": "2025-05-05T17:42:23.080Z"
   },
   {
    "duration": 4,
    "start_time": "2025-05-05T17:43:12.278Z"
   },
   {
    "duration": 837,
    "start_time": "2025-05-05T17:43:12.284Z"
   },
   {
    "duration": 4,
    "start_time": "2025-05-05T17:43:13.123Z"
   },
   {
    "duration": 7,
    "start_time": "2025-05-05T17:43:13.129Z"
   },
   {
    "duration": 8372,
    "start_time": "2025-05-05T17:45:38.283Z"
   },
   {
    "duration": 1642,
    "start_time": "2025-05-05T17:45:46.661Z"
   },
   {
    "duration": 2,
    "start_time": "2025-05-05T17:45:48.305Z"
   },
   {
    "duration": 1125,
    "start_time": "2025-05-05T17:45:48.309Z"
   },
   {
    "duration": 677,
    "start_time": "2025-05-05T17:45:49.438Z"
   },
   {
    "duration": 96,
    "start_time": "2025-05-05T17:45:50.117Z"
   },
   {
    "duration": 54,
    "start_time": "2025-05-05T17:45:50.215Z"
   },
   {
    "duration": 797,
    "start_time": "2025-05-05T17:45:50.271Z"
   },
   {
    "duration": 136,
    "start_time": "2025-05-05T17:45:51.070Z"
   },
   {
    "duration": 14178,
    "start_time": "2025-05-05T17:45:51.208Z"
   },
   {
    "duration": 22,
    "start_time": "2025-05-05T17:46:05.388Z"
   },
   {
    "duration": 295,
    "start_time": "2025-05-05T17:46:05.412Z"
   },
   {
    "duration": 539,
    "start_time": "2025-05-05T17:46:05.709Z"
   },
   {
    "duration": 58,
    "start_time": "2025-05-05T17:46:06.252Z"
   },
   {
    "duration": 610,
    "start_time": "2025-05-05T17:46:06.312Z"
   },
   {
    "duration": 4585,
    "start_time": "2025-05-05T17:46:06.924Z"
   },
   {
    "duration": 53,
    "start_time": "2025-05-05T17:46:11.511Z"
   },
   {
    "duration": 7,
    "start_time": "2025-05-05T17:46:11.566Z"
   },
   {
    "duration": 6348,
    "start_time": "2025-05-05T17:46:11.576Z"
   },
   {
    "duration": 5,
    "start_time": "2025-05-05T17:46:17.925Z"
   },
   {
    "duration": 1989,
    "start_time": "2025-05-05T17:46:17.932Z"
   },
   {
    "duration": 5,
    "start_time": "2025-05-05T17:46:19.923Z"
   },
   {
    "duration": 5,
    "start_time": "2025-05-05T17:46:19.930Z"
   },
   {
    "duration": 128,
    "start_time": "2025-05-05T17:46:19.936Z"
   },
   {
    "duration": 12,
    "start_time": "2025-05-05T17:46:20.066Z"
   },
   {
    "duration": 3,
    "start_time": "2025-05-05T17:46:20.080Z"
   },
   {
    "duration": 4,
    "start_time": "2025-05-05T17:46:20.085Z"
   },
   {
    "duration": 3,
    "start_time": "2025-05-05T17:46:20.091Z"
   },
   {
    "duration": 154,
    "start_time": "2025-05-05T17:46:20.096Z"
   },
   {
    "duration": 9,
    "start_time": "2025-05-05T17:46:20.252Z"
   },
   {
    "duration": 4,
    "start_time": "2025-05-05T17:46:20.262Z"
   },
   {
    "duration": 12,
    "start_time": "2025-05-05T17:46:20.268Z"
   },
   {
    "duration": 51193,
    "start_time": "2025-05-05T17:46:20.282Z"
   },
   {
    "duration": 4,
    "start_time": "2025-05-05T17:47:11.478Z"
   },
   {
    "duration": 833,
    "start_time": "2025-05-05T17:47:11.484Z"
   },
   {
    "duration": 3,
    "start_time": "2025-05-05T17:47:12.319Z"
   },
   {
    "duration": 4,
    "start_time": "2025-05-05T17:47:12.324Z"
   },
   {
    "duration": 36788,
    "start_time": "2025-05-05T17:47:12.330Z"
   },
   {
    "duration": 25,
    "start_time": "2025-05-05T17:47:49.120Z"
   },
   {
    "duration": 0,
    "start_time": "2025-05-05T17:47:49.148Z"
   },
   {
    "duration": 0,
    "start_time": "2025-05-05T17:47:49.149Z"
   },
   {
    "duration": 0,
    "start_time": "2025-05-05T17:47:49.150Z"
   },
   {
    "duration": 0,
    "start_time": "2025-05-05T17:47:49.152Z"
   },
   {
    "duration": 46382,
    "start_time": "2025-05-05T17:47:57.987Z"
   },
   {
    "duration": 23,
    "start_time": "2025-05-05T17:49:58.709Z"
   },
   {
    "duration": 4,
    "start_time": "2025-05-05T17:50:24.537Z"
   },
   {
    "duration": 3,
    "start_time": "2025-05-05T17:50:25.251Z"
   },
   {
    "duration": 9375,
    "start_time": "2025-05-05T17:50:25.911Z"
   },
   {
    "duration": 15964,
    "start_time": "2025-05-05T17:50:42.101Z"
   },
   {
    "duration": 8234,
    "start_time": "2025-05-05T17:52:00.435Z"
   },
   {
    "duration": 1649,
    "start_time": "2025-05-05T17:52:08.673Z"
   },
   {
    "duration": 3,
    "start_time": "2025-05-05T17:52:10.324Z"
   },
   {
    "duration": 1067,
    "start_time": "2025-05-05T17:52:10.329Z"
   },
   {
    "duration": 686,
    "start_time": "2025-05-05T17:52:11.398Z"
   },
   {
    "duration": 99,
    "start_time": "2025-05-05T17:52:12.086Z"
   },
   {
    "duration": 46,
    "start_time": "2025-05-05T17:52:12.187Z"
   },
   {
    "duration": 825,
    "start_time": "2025-05-05T17:52:12.235Z"
   },
   {
    "duration": 136,
    "start_time": "2025-05-05T17:52:13.062Z"
   },
   {
    "duration": 14978,
    "start_time": "2025-05-05T17:52:13.201Z"
   },
   {
    "duration": 22,
    "start_time": "2025-05-05T17:52:28.182Z"
   },
   {
    "duration": 299,
    "start_time": "2025-05-05T17:52:28.206Z"
   },
   {
    "duration": 518,
    "start_time": "2025-05-05T17:52:28.507Z"
   },
   {
    "duration": 84,
    "start_time": "2025-05-05T17:52:29.027Z"
   },
   {
    "duration": 594,
    "start_time": "2025-05-05T17:52:29.113Z"
   },
   {
    "duration": 4628,
    "start_time": "2025-05-05T17:52:29.709Z"
   },
   {
    "duration": 55,
    "start_time": "2025-05-05T17:52:34.339Z"
   },
   {
    "duration": 6,
    "start_time": "2025-05-05T17:52:34.396Z"
   },
   {
    "duration": 6217,
    "start_time": "2025-05-05T17:52:34.404Z"
   },
   {
    "duration": 6,
    "start_time": "2025-05-05T17:52:40.623Z"
   },
   {
    "duration": 1978,
    "start_time": "2025-05-05T17:52:40.631Z"
   },
   {
    "duration": 6,
    "start_time": "2025-05-05T17:52:42.612Z"
   },
   {
    "duration": 6,
    "start_time": "2025-05-05T17:52:42.622Z"
   },
   {
    "duration": 137,
    "start_time": "2025-05-05T17:52:42.631Z"
   },
   {
    "duration": 13,
    "start_time": "2025-05-05T17:52:42.769Z"
   },
   {
    "duration": 14,
    "start_time": "2025-05-05T17:52:42.784Z"
   },
   {
    "duration": 6,
    "start_time": "2025-05-05T17:52:42.800Z"
   },
   {
    "duration": 17,
    "start_time": "2025-05-05T17:52:42.812Z"
   },
   {
    "duration": 24,
    "start_time": "2025-05-05T17:52:42.832Z"
   },
   {
    "duration": 4,
    "start_time": "2025-05-05T17:52:42.859Z"
   },
   {
    "duration": 19,
    "start_time": "2025-05-05T17:52:42.865Z"
   },
   {
    "duration": 4,
    "start_time": "2025-05-05T17:52:42.886Z"
   },
   {
    "duration": 45775,
    "start_time": "2025-05-05T17:52:42.893Z"
   },
   {
    "duration": 5,
    "start_time": "2025-05-05T17:53:28.669Z"
   },
   {
    "duration": 864,
    "start_time": "2025-05-05T17:53:28.676Z"
   },
   {
    "duration": 3,
    "start_time": "2025-05-05T17:53:29.543Z"
   },
   {
    "duration": 21,
    "start_time": "2025-05-05T17:53:29.560Z"
   },
   {
    "duration": 65027,
    "start_time": "2025-05-05T17:53:29.583Z"
   },
   {
    "duration": 23,
    "start_time": "2025-05-05T17:54:34.612Z"
   },
   {
    "duration": 1,
    "start_time": "2025-05-05T17:54:34.637Z"
   },
   {
    "duration": 0,
    "start_time": "2025-05-05T17:54:34.639Z"
   },
   {
    "duration": 0,
    "start_time": "2025-05-05T17:54:34.641Z"
   },
   {
    "duration": 0,
    "start_time": "2025-05-05T17:54:34.642Z"
   },
   {
    "duration": 0,
    "start_time": "2025-05-05T17:54:34.643Z"
   },
   {
    "duration": 0,
    "start_time": "2025-05-05T17:54:34.644Z"
   },
   {
    "duration": 12,
    "start_time": "2025-05-05T17:54:50.687Z"
   },
   {
    "duration": 26,
    "start_time": "2025-05-05T17:54:54.432Z"
   },
   {
    "duration": 38369,
    "start_time": "2025-05-05T17:55:08.081Z"
   },
   {
    "duration": 9,
    "start_time": "2025-05-05T17:55:46.452Z"
   },
   {
    "duration": 1243,
    "start_time": "2025-05-05T17:55:46.463Z"
   },
   {
    "duration": 4,
    "start_time": "2025-05-05T17:55:48.035Z"
   },
   {
    "duration": 794,
    "start_time": "2025-05-05T17:55:48.245Z"
   },
   {
    "duration": 3,
    "start_time": "2025-05-05T17:58:26.920Z"
   },
   {
    "duration": 3,
    "start_time": "2025-05-05T17:58:27.195Z"
   },
   {
    "duration": 114,
    "start_time": "2025-05-05T17:58:27.424Z"
   },
   {
    "duration": 7,
    "start_time": "2025-05-05T18:01:24.914Z"
   },
   {
    "duration": 3,
    "start_time": "2025-05-05T18:02:08.973Z"
   },
   {
    "duration": 3,
    "start_time": "2025-05-05T18:02:09.835Z"
   },
   {
    "duration": 282360,
    "start_time": "2025-05-05T18:02:31.856Z"
   },
   {
    "duration": 35,
    "start_time": "2025-05-05T18:07:15.584Z"
   },
   {
    "duration": 35,
    "start_time": "2025-05-05T18:07:22.518Z"
   },
   {
    "duration": 169524,
    "start_time": "2025-05-05T18:07:27.848Z"
   },
   {
    "duration": 19,
    "start_time": "2025-05-05T18:10:17.375Z"
   },
   {
    "duration": 0,
    "start_time": "2025-05-05T18:10:17.396Z"
   },
   {
    "duration": 41170,
    "start_time": "2025-05-05T18:10:18.848Z"
   },
   {
    "duration": 21309,
    "start_time": "2025-05-05T18:11:09.443Z"
   },
   {
    "duration": 4,
    "start_time": "2025-05-05T18:11:33.433Z"
   },
   {
    "duration": 3,
    "start_time": "2025-05-05T18:11:33.843Z"
   },
   {
    "duration": 3,
    "start_time": "2025-05-05T18:11:34.047Z"
   },
   {
    "duration": 3,
    "start_time": "2025-05-05T18:11:34.265Z"
   },
   {
    "duration": 46404,
    "start_time": "2025-05-05T18:11:34.469Z"
   },
   {
    "duration": 6,
    "start_time": "2025-05-05T18:12:20.876Z"
   },
   {
    "duration": 931,
    "start_time": "2025-05-05T18:12:20.884Z"
   },
   {
    "duration": 3,
    "start_time": "2025-05-05T18:12:21.818Z"
   },
   {
    "duration": 6,
    "start_time": "2025-05-05T18:12:21.822Z"
   },
   {
    "duration": 8120,
    "start_time": "2025-05-05T18:16:20.168Z"
   },
   {
    "duration": 1628,
    "start_time": "2025-05-05T18:16:28.291Z"
   },
   {
    "duration": 3,
    "start_time": "2025-05-05T18:16:29.921Z"
   },
   {
    "duration": 1145,
    "start_time": "2025-05-05T18:16:29.926Z"
   },
   {
    "duration": 700,
    "start_time": "2025-05-05T18:16:31.073Z"
   },
   {
    "duration": 95,
    "start_time": "2025-05-05T18:16:31.774Z"
   },
   {
    "duration": 46,
    "start_time": "2025-05-05T18:16:31.870Z"
   },
   {
    "duration": 813,
    "start_time": "2025-05-05T18:16:31.918Z"
   },
   {
    "duration": 136,
    "start_time": "2025-05-05T18:16:32.732Z"
   },
   {
    "duration": 16249,
    "start_time": "2025-05-05T18:16:32.870Z"
   },
   {
    "duration": 28,
    "start_time": "2025-05-05T18:16:49.122Z"
   },
   {
    "duration": 283,
    "start_time": "2025-05-05T18:16:49.160Z"
   },
   {
    "duration": 523,
    "start_time": "2025-05-05T18:16:49.445Z"
   },
   {
    "duration": 58,
    "start_time": "2025-05-05T18:16:49.971Z"
   },
   {
    "duration": 564,
    "start_time": "2025-05-05T18:16:50.031Z"
   },
   {
    "duration": 4508,
    "start_time": "2025-05-05T18:16:50.597Z"
   },
   {
    "duration": 73,
    "start_time": "2025-05-05T18:16:55.107Z"
   },
   {
    "duration": 7,
    "start_time": "2025-05-05T18:16:55.182Z"
   },
   {
    "duration": 6374,
    "start_time": "2025-05-05T18:16:55.192Z"
   },
   {
    "duration": 5,
    "start_time": "2025-05-05T18:17:01.568Z"
   },
   {
    "duration": 2097,
    "start_time": "2025-05-05T18:17:01.575Z"
   },
   {
    "duration": 5,
    "start_time": "2025-05-05T18:17:03.674Z"
   },
   {
    "duration": 10,
    "start_time": "2025-05-05T18:17:03.681Z"
   },
   {
    "duration": 119,
    "start_time": "2025-05-05T18:17:03.693Z"
   },
   {
    "duration": 12,
    "start_time": "2025-05-05T18:17:03.815Z"
   },
   {
    "duration": 14,
    "start_time": "2025-05-05T18:17:03.829Z"
   },
   {
    "duration": 16,
    "start_time": "2025-05-05T18:17:03.845Z"
   },
   {
    "duration": 5,
    "start_time": "2025-05-05T18:17:03.863Z"
   },
   {
    "duration": 149,
    "start_time": "2025-05-05T18:17:03.870Z"
   },
   {
    "duration": 13,
    "start_time": "2025-05-05T18:17:04.021Z"
   },
   {
    "duration": 13,
    "start_time": "2025-05-05T18:17:04.036Z"
   },
   {
    "duration": 8,
    "start_time": "2025-05-05T18:17:04.052Z"
   },
   {
    "duration": 49416,
    "start_time": "2025-05-05T18:17:04.063Z"
   },
   {
    "duration": 5,
    "start_time": "2025-05-05T18:17:53.480Z"
   },
   {
    "duration": 838,
    "start_time": "2025-05-05T18:17:53.487Z"
   },
   {
    "duration": 3,
    "start_time": "2025-05-05T18:17:54.327Z"
   },
   {
    "duration": 6,
    "start_time": "2025-05-05T18:17:54.332Z"
   },
   {
    "duration": 257115,
    "start_time": "2025-05-05T18:17:54.340Z"
   },
   {
    "duration": 28,
    "start_time": "2025-05-05T18:22:11.457Z"
   },
   {
    "duration": 0,
    "start_time": "2025-05-05T18:22:11.486Z"
   },
   {
    "duration": 0,
    "start_time": "2025-05-05T18:22:11.488Z"
   },
   {
    "duration": 0,
    "start_time": "2025-05-05T18:22:11.489Z"
   },
   {
    "duration": 0,
    "start_time": "2025-05-05T18:22:11.490Z"
   },
   {
    "duration": 13,
    "start_time": "2025-05-05T18:22:20.672Z"
   },
   {
    "duration": 3,
    "start_time": "2025-05-05T18:22:26.765Z"
   },
   {
    "duration": 2,
    "start_time": "2025-05-05T18:22:27.556Z"
   },
   {
    "duration": 479627,
    "start_time": "2025-05-05T18:22:28.324Z"
   },
   {
    "duration": 4,
    "start_time": "2025-05-05T18:30:27.961Z"
   },
   {
    "duration": 970,
    "start_time": "2025-05-05T18:30:27.966Z"
   },
   {
    "duration": 1537,
    "start_time": "2025-05-05T18:31:31.577Z"
   },
   {
    "duration": 8078,
    "start_time": "2025-05-05T18:39:32.547Z"
   },
   {
    "duration": 1605,
    "start_time": "2025-05-05T18:39:40.628Z"
   },
   {
    "duration": 3,
    "start_time": "2025-05-05T18:39:42.234Z"
   },
   {
    "duration": 1079,
    "start_time": "2025-05-05T18:39:42.239Z"
   },
   {
    "duration": 698,
    "start_time": "2025-05-05T18:39:43.321Z"
   },
   {
    "duration": 88,
    "start_time": "2025-05-05T18:39:44.021Z"
   },
   {
    "duration": 57,
    "start_time": "2025-05-05T18:39:44.111Z"
   },
   {
    "duration": 799,
    "start_time": "2025-05-05T18:39:44.170Z"
   },
   {
    "duration": 156,
    "start_time": "2025-05-05T18:39:44.971Z"
   },
   {
    "duration": 15358,
    "start_time": "2025-05-05T18:39:45.129Z"
   },
   {
    "duration": 23,
    "start_time": "2025-05-05T18:40:00.490Z"
   },
   {
    "duration": 289,
    "start_time": "2025-05-05T18:40:00.515Z"
   },
   {
    "duration": 506,
    "start_time": "2025-05-05T18:40:00.806Z"
   },
   {
    "duration": 64,
    "start_time": "2025-05-05T18:40:01.316Z"
   },
   {
    "duration": 608,
    "start_time": "2025-05-05T18:40:01.382Z"
   },
   {
    "duration": 4633,
    "start_time": "2025-05-05T18:40:01.992Z"
   },
   {
    "duration": 72,
    "start_time": "2025-05-05T18:40:06.627Z"
   },
   {
    "duration": 10,
    "start_time": "2025-05-05T18:40:06.701Z"
   },
   {
    "duration": 6250,
    "start_time": "2025-05-05T18:40:06.713Z"
   },
   {
    "duration": 5,
    "start_time": "2025-05-05T18:40:12.966Z"
   },
   {
    "duration": 2084,
    "start_time": "2025-05-05T18:40:12.974Z"
   },
   {
    "duration": 5,
    "start_time": "2025-05-05T18:40:15.061Z"
   },
   {
    "duration": 124,
    "start_time": "2025-05-05T18:40:15.069Z"
   },
   {
    "duration": 115,
    "start_time": "2025-05-05T18:40:15.195Z"
   },
   {
    "duration": 12,
    "start_time": "2025-05-05T18:40:15.312Z"
   },
   {
    "duration": 8,
    "start_time": "2025-05-05T18:40:15.326Z"
   },
   {
    "duration": 3,
    "start_time": "2025-05-05T18:40:15.336Z"
   },
   {
    "duration": 20,
    "start_time": "2025-05-05T18:40:15.341Z"
   },
   {
    "duration": 153,
    "start_time": "2025-05-05T18:40:15.363Z"
   },
   {
    "duration": 12,
    "start_time": "2025-05-05T18:40:15.518Z"
   },
   {
    "duration": 5,
    "start_time": "2025-05-05T18:40:15.532Z"
   },
   {
    "duration": 23,
    "start_time": "2025-05-05T18:40:15.538Z"
   },
   {
    "duration": 51817,
    "start_time": "2025-05-05T18:40:15.563Z"
   },
   {
    "duration": 5,
    "start_time": "2025-05-05T18:41:07.382Z"
   },
   {
    "duration": 832,
    "start_time": "2025-05-05T18:41:07.389Z"
   },
   {
    "duration": 4,
    "start_time": "2025-05-05T18:41:08.224Z"
   },
   {
    "duration": 15,
    "start_time": "2025-05-05T18:41:08.230Z"
   },
   {
    "duration": 15527,
    "start_time": "2025-05-05T18:41:08.247Z"
   },
   {
    "duration": 21,
    "start_time": "2025-05-05T18:41:23.776Z"
   },
   {
    "duration": 0,
    "start_time": "2025-05-05T18:41:23.799Z"
   },
   {
    "duration": 0,
    "start_time": "2025-05-05T18:41:23.800Z"
   },
   {
    "duration": 0,
    "start_time": "2025-05-05T18:41:23.801Z"
   },
   {
    "duration": 0,
    "start_time": "2025-05-05T18:41:23.803Z"
   },
   {
    "duration": 82,
    "start_time": "2025-05-05T18:41:25.272Z"
   },
   {
    "duration": 11,
    "start_time": "2025-05-05T18:41:25.601Z"
   },
   {
    "duration": 18,
    "start_time": "2025-05-05T18:41:26.615Z"
   },
   {
    "duration": 242794,
    "start_time": "2025-05-05T18:41:31.580Z"
   },
   {
    "duration": 20,
    "start_time": "2025-05-05T18:45:34.376Z"
   },
   {
    "duration": 0,
    "start_time": "2025-05-05T18:45:34.398Z"
   },
   {
    "duration": 0,
    "start_time": "2025-05-05T18:45:34.399Z"
   },
   {
    "duration": 0,
    "start_time": "2025-05-05T18:45:34.400Z"
   },
   {
    "duration": 0,
    "start_time": "2025-05-05T18:45:34.402Z"
   },
   {
    "duration": 3,
    "start_time": "2025-05-05T18:45:45.508Z"
   },
   {
    "duration": 110,
    "start_time": "2025-05-05T18:45:54.735Z"
   },
   {
    "duration": 13,
    "start_time": "2025-05-05T18:45:55.013Z"
   },
   {
    "duration": 3,
    "start_time": "2025-05-05T18:45:55.216Z"
   },
   {
    "duration": 4,
    "start_time": "2025-05-05T18:45:55.423Z"
   },
   {
    "duration": 3,
    "start_time": "2025-05-05T18:45:55.620Z"
   },
   {
    "duration": 3,
    "start_time": "2025-05-05T18:45:55.829Z"
   },
   {
    "duration": 4,
    "start_time": "2025-05-05T18:45:56.070Z"
   },
   {
    "duration": 3,
    "start_time": "2025-05-05T18:45:56.307Z"
   },
   {
    "duration": 3,
    "start_time": "2025-05-05T18:45:56.531Z"
   },
   {
    "duration": 34235,
    "start_time": "2025-05-05T18:45:56.737Z"
   },
   {
    "duration": 5,
    "start_time": "2025-05-05T18:46:30.974Z"
   },
   {
    "duration": 1119,
    "start_time": "2025-05-05T18:46:30.982Z"
   },
   {
    "duration": 3,
    "start_time": "2025-05-05T18:46:32.104Z"
   },
   {
    "duration": 21,
    "start_time": "2025-05-05T18:46:32.109Z"
   },
   {
    "duration": 24203,
    "start_time": "2025-05-05T18:46:32.132Z"
   },
   {
    "duration": 20,
    "start_time": "2025-05-05T18:46:56.337Z"
   },
   {
    "duration": 0,
    "start_time": "2025-05-05T18:46:56.358Z"
   },
   {
    "duration": 5,
    "start_time": "2025-05-05T18:47:08.573Z"
   },
   {
    "duration": 3,
    "start_time": "2025-05-05T18:47:26.131Z"
   },
   {
    "duration": 108,
    "start_time": "2025-05-05T18:47:34.940Z"
   },
   {
    "duration": 6,
    "start_time": "2025-05-05T18:47:43.647Z"
   },
   {
    "duration": 4,
    "start_time": "2025-05-05T18:47:44.779Z"
   },
   {
    "duration": 3,
    "start_time": "2025-05-05T18:47:45.031Z"
   },
   {
    "duration": 4,
    "start_time": "2025-05-05T18:47:45.240Z"
   },
   {
    "duration": 3,
    "start_time": "2025-05-05T18:47:45.426Z"
   },
   {
    "duration": 3,
    "start_time": "2025-05-05T18:47:45.626Z"
   },
   {
    "duration": 4,
    "start_time": "2025-05-05T18:47:45.821Z"
   },
   {
    "duration": 4,
    "start_time": "2025-05-05T18:47:46.010Z"
   },
   {
    "duration": 20185,
    "start_time": "2025-05-05T18:47:46.186Z"
   },
   {
    "duration": 5,
    "start_time": "2025-05-05T18:48:06.373Z"
   },
   {
    "duration": 1372,
    "start_time": "2025-05-05T18:48:06.380Z"
   },
   {
    "duration": 9,
    "start_time": "2025-05-05T18:48:07.754Z"
   },
   {
    "duration": 5,
    "start_time": "2025-05-05T18:48:07.765Z"
   },
   {
    "duration": 6,
    "start_time": "2025-05-05T18:48:07.772Z"
   },
   {
    "duration": 15282,
    "start_time": "2025-05-06T05:05:25.209Z"
   },
   {
    "duration": 1747,
    "start_time": "2025-05-06T05:05:40.494Z"
   },
   {
    "duration": 3,
    "start_time": "2025-05-06T05:05:42.243Z"
   },
   {
    "duration": 996,
    "start_time": "2025-05-06T05:05:42.248Z"
   },
   {
    "duration": 641,
    "start_time": "2025-05-06T05:05:43.245Z"
   },
   {
    "duration": 88,
    "start_time": "2025-05-06T05:05:43.888Z"
   },
   {
    "duration": 56,
    "start_time": "2025-05-06T05:05:43.978Z"
   },
   {
    "duration": 817,
    "start_time": "2025-05-06T05:05:44.036Z"
   },
   {
    "duration": 145,
    "start_time": "2025-05-06T05:05:44.855Z"
   },
   {
    "duration": 13556,
    "start_time": "2025-05-06T05:05:45.003Z"
   },
   {
    "duration": 18,
    "start_time": "2025-05-06T05:05:58.562Z"
   },
   {
    "duration": 289,
    "start_time": "2025-05-06T05:05:58.582Z"
   },
   {
    "duration": 504,
    "start_time": "2025-05-06T05:05:58.872Z"
   },
   {
    "duration": 78,
    "start_time": "2025-05-06T05:05:59.378Z"
   },
   {
    "duration": 582,
    "start_time": "2025-05-06T05:05:59.457Z"
   },
   {
    "duration": 4477,
    "start_time": "2025-05-06T05:06:00.041Z"
   },
   {
    "duration": 51,
    "start_time": "2025-05-06T05:06:04.521Z"
   },
   {
    "duration": 6,
    "start_time": "2025-05-06T05:06:04.574Z"
   },
   {
    "duration": 6493,
    "start_time": "2025-05-06T05:06:04.582Z"
   },
   {
    "duration": 4,
    "start_time": "2025-05-06T05:06:11.077Z"
   },
   {
    "duration": 2088,
    "start_time": "2025-05-06T05:06:11.083Z"
   },
   {
    "duration": 5,
    "start_time": "2025-05-06T05:06:13.172Z"
   },
   {
    "duration": 6,
    "start_time": "2025-05-06T05:06:13.180Z"
   },
   {
    "duration": 105,
    "start_time": "2025-05-06T05:06:13.188Z"
   },
   {
    "duration": 12,
    "start_time": "2025-05-06T05:06:13.295Z"
   },
   {
    "duration": 10,
    "start_time": "2025-05-06T05:06:13.309Z"
   },
   {
    "duration": 9,
    "start_time": "2025-05-06T05:06:13.322Z"
   },
   {
    "duration": 14,
    "start_time": "2025-05-06T05:06:13.334Z"
   },
   {
    "duration": 24,
    "start_time": "2025-05-06T05:06:13.350Z"
   },
   {
    "duration": 26,
    "start_time": "2025-05-06T05:06:13.375Z"
   },
   {
    "duration": 97,
    "start_time": "2025-05-06T05:06:13.403Z"
   },
   {
    "duration": 5,
    "start_time": "2025-05-06T05:06:13.501Z"
   },
   {
    "duration": 32727,
    "start_time": "2025-05-06T05:06:13.509Z"
   },
   {
    "duration": 4,
    "start_time": "2025-05-06T05:06:46.238Z"
   },
   {
    "duration": 1511,
    "start_time": "2025-05-06T05:06:46.245Z"
   },
   {
    "duration": 3,
    "start_time": "2025-05-06T05:06:47.758Z"
   },
   {
    "duration": 21,
    "start_time": "2025-05-06T05:06:47.763Z"
   },
   {
    "duration": 217214,
    "start_time": "2025-05-06T05:06:47.786Z"
   },
   {
    "duration": 15,
    "start_time": "2025-05-06T05:10:25.002Z"
   },
   {
    "duration": 0,
    "start_time": "2025-05-06T05:10:25.020Z"
   },
   {
    "duration": 0,
    "start_time": "2025-05-06T05:10:25.022Z"
   },
   {
    "duration": 0,
    "start_time": "2025-05-06T05:10:25.025Z"
   },
   {
    "duration": 0,
    "start_time": "2025-05-06T05:10:25.027Z"
   },
   {
    "duration": 2,
    "start_time": "2025-05-06T05:11:39.583Z"
   },
   {
    "duration": 11,
    "start_time": "2025-05-06T05:17:13.888Z"
   },
   {
    "duration": 6,
    "start_time": "2025-05-06T05:17:16.718Z"
   },
   {
    "duration": 3,
    "start_time": "2025-05-06T05:17:22.216Z"
   },
   {
    "duration": 4,
    "start_time": "2025-05-06T05:17:22.590Z"
   },
   {
    "duration": 121278,
    "start_time": "2025-05-06T05:17:23.255Z"
   },
   {
    "duration": 17,
    "start_time": "2025-05-06T05:19:24.536Z"
   },
   {
    "duration": 0,
    "start_time": "2025-05-06T05:19:24.555Z"
   },
   {
    "duration": 3,
    "start_time": "2025-05-06T05:19:27.518Z"
   },
   {
    "duration": 93,
    "start_time": "2025-05-06T05:19:33.687Z"
   },
   {
    "duration": 4,
    "start_time": "2025-05-06T05:19:34.022Z"
   },
   {
    "duration": 3,
    "start_time": "2025-05-06T05:19:34.678Z"
   },
   {
    "duration": 3,
    "start_time": "2025-05-06T05:19:35.110Z"
   },
   {
    "duration": 3,
    "start_time": "2025-05-06T05:19:35.558Z"
   },
   {
    "duration": 3,
    "start_time": "2025-05-06T05:19:35.902Z"
   },
   {
    "duration": 3,
    "start_time": "2025-05-06T05:19:36.294Z"
   },
   {
    "duration": 3,
    "start_time": "2025-05-06T05:19:36.614Z"
   },
   {
    "duration": 3,
    "start_time": "2025-05-06T05:19:37.878Z"
   },
   {
    "duration": 11026,
    "start_time": "2025-05-06T05:19:38.687Z"
   },
   {
    "duration": 4,
    "start_time": "2025-05-06T05:19:49.715Z"
   },
   {
    "duration": 1428,
    "start_time": "2025-05-06T05:19:49.720Z"
   },
   {
    "duration": 5,
    "start_time": "2025-05-06T05:19:55.750Z"
   },
   {
    "duration": 4,
    "start_time": "2025-05-06T05:19:56.238Z"
   },
   {
    "duration": 266290,
    "start_time": "2025-05-06T05:19:56.871Z"
   },
   {
    "duration": 11,
    "start_time": "2025-05-06T05:24:23.163Z"
   },
   {
    "duration": 0,
    "start_time": "2025-05-06T05:24:23.176Z"
   },
   {
    "duration": 3,
    "start_time": "2025-05-06T05:24:30.095Z"
   },
   {
    "duration": 2,
    "start_time": "2025-05-06T05:24:35.358Z"
   },
   {
    "duration": 4,
    "start_time": "2025-05-06T05:25:10.414Z"
   },
   {
    "duration": 5,
    "start_time": "2025-05-06T05:25:48.567Z"
   },
   {
    "duration": 7,
    "start_time": "2025-05-06T05:26:01.727Z"
   },
   {
    "duration": 5,
    "start_time": "2025-05-06T05:26:02.222Z"
   },
   {
    "duration": 95,
    "start_time": "2025-05-06T05:26:03.022Z"
   },
   {
    "duration": 104,
    "start_time": "2025-05-06T05:27:57.742Z"
   },
   {
    "duration": 4,
    "start_time": "2025-05-06T05:27:57.974Z"
   },
   {
    "duration": 12,
    "start_time": "2025-05-06T05:28:26.023Z"
   },
   {
    "duration": 7,
    "start_time": "2025-05-06T05:28:29.534Z"
   },
   {
    "duration": 935,
    "start_time": "2025-05-06T05:28:29.894Z"
   },
   {
    "duration": 83,
    "start_time": "2025-05-06T05:28:45.071Z"
   },
   {
    "duration": 869,
    "start_time": "2025-05-06T05:30:13.326Z"
   },
   {
    "duration": 525,
    "start_time": "2025-05-06T05:30:14.197Z"
   },
   {
    "duration": 83,
    "start_time": "2025-05-06T05:30:14.724Z"
   },
   {
    "duration": 59,
    "start_time": "2025-05-06T05:30:15.191Z"
   },
   {
    "duration": 792,
    "start_time": "2025-05-06T05:30:16.919Z"
   },
   {
    "duration": 142,
    "start_time": "2025-05-06T05:30:17.716Z"
   },
   {
    "duration": 13153,
    "start_time": "2025-05-06T05:30:17.860Z"
   },
   {
    "duration": 19,
    "start_time": "2025-05-06T05:30:31.017Z"
   },
   {
    "duration": 331,
    "start_time": "2025-05-06T05:30:31.038Z"
   },
   {
    "duration": 479,
    "start_time": "2025-05-06T05:30:31.371Z"
   },
   {
    "duration": 68,
    "start_time": "2025-05-06T05:30:31.852Z"
   },
   {
    "duration": 55,
    "start_time": "2025-05-06T05:30:43.437Z"
   },
   {
    "duration": 987,
    "start_time": "2025-05-06T05:32:26.006Z"
   },
   {
    "duration": 579,
    "start_time": "2025-05-06T05:32:26.995Z"
   },
   {
    "duration": 80,
    "start_time": "2025-05-06T05:32:27.773Z"
   },
   {
    "duration": 62,
    "start_time": "2025-05-06T05:32:28.302Z"
   },
   {
    "duration": 853,
    "start_time": "2025-05-06T05:32:28.957Z"
   },
   {
    "duration": 152,
    "start_time": "2025-05-06T05:32:30.214Z"
   },
   {
    "duration": 13155,
    "start_time": "2025-05-06T05:32:30.741Z"
   },
   {
    "duration": 25,
    "start_time": "2025-05-06T05:32:43.904Z"
   },
   {
    "duration": 336,
    "start_time": "2025-05-06T05:32:43.931Z"
   },
   {
    "duration": 545,
    "start_time": "2025-05-06T05:32:44.269Z"
   },
   {
    "duration": 59,
    "start_time": "2025-05-06T05:32:44.817Z"
   },
   {
    "duration": 2153,
    "start_time": "2025-05-06T05:34:05.094Z"
   },
   {
    "duration": 2052,
    "start_time": "2025-05-06T05:34:16.662Z"
   },
   {
    "duration": 1080,
    "start_time": "2025-05-06T05:34:29.797Z"
   },
   {
    "duration": 89,
    "start_time": "2025-05-06T05:40:02.782Z"
   },
   {
    "duration": 43,
    "start_time": "2025-05-06T05:40:11.806Z"
   },
   {
    "duration": 41,
    "start_time": "2025-05-06T05:40:17.061Z"
   },
   {
    "duration": 88,
    "start_time": "2025-05-06T05:41:19.549Z"
   },
   {
    "duration": 53,
    "start_time": "2025-05-06T05:41:24.612Z"
   },
   {
    "duration": 57,
    "start_time": "2025-05-06T05:41:47.013Z"
   },
   {
    "duration": 973,
    "start_time": "2025-05-06T05:42:12.422Z"
   },
   {
    "duration": 610,
    "start_time": "2025-05-06T05:42:13.397Z"
   },
   {
    "duration": 1147,
    "start_time": "2025-05-06T05:42:16.621Z"
   },
   {
    "duration": 44,
    "start_time": "2025-05-06T05:42:25.701Z"
   },
   {
    "duration": 869,
    "start_time": "2025-05-06T05:42:26.020Z"
   },
   {
    "duration": 158,
    "start_time": "2025-05-06T05:42:26.891Z"
   },
   {
    "duration": 13358,
    "start_time": "2025-05-06T05:42:27.051Z"
   },
   {
    "duration": 21,
    "start_time": "2025-05-06T05:42:40.413Z"
   },
   {
    "duration": 349,
    "start_time": "2025-05-06T05:42:40.436Z"
   },
   {
    "duration": 486,
    "start_time": "2025-05-06T05:42:40.788Z"
   },
   {
    "duration": 65,
    "start_time": "2025-05-06T05:42:41.277Z"
   },
   {
    "duration": 535,
    "start_time": "2025-05-06T05:42:41.345Z"
   },
   {
    "duration": 19,
    "start_time": "2025-05-06T05:44:36.909Z"
   },
   {
    "duration": 1126,
    "start_time": "2025-05-06T05:44:38.348Z"
   },
   {
    "duration": 55,
    "start_time": "2025-05-06T05:44:47.526Z"
   },
   {
    "duration": 83,
    "start_time": "2025-05-06T05:46:18.540Z"
   },
   {
    "duration": 1180,
    "start_time": "2025-05-06T05:46:19.565Z"
   },
   {
    "duration": 880,
    "start_time": "2025-05-06T05:46:39.910Z"
   },
   {
    "duration": 506,
    "start_time": "2025-05-06T05:46:40.792Z"
   },
   {
    "duration": 72,
    "start_time": "2025-05-06T05:46:41.300Z"
   },
   {
    "duration": 1212,
    "start_time": "2025-05-06T05:46:41.374Z"
   },
   {
    "duration": 45,
    "start_time": "2025-05-06T05:46:43.293Z"
   },
   {
    "duration": 847,
    "start_time": "2025-05-06T05:46:45.534Z"
   },
   {
    "duration": 156,
    "start_time": "2025-05-06T05:46:46.796Z"
   },
   {
    "duration": 13689,
    "start_time": "2025-05-06T05:46:47.516Z"
   },
   {
    "duration": 23,
    "start_time": "2025-05-06T05:47:01.209Z"
   },
   {
    "duration": 363,
    "start_time": "2025-05-06T05:47:01.233Z"
   },
   {
    "duration": 553,
    "start_time": "2025-05-06T05:47:01.598Z"
   },
   {
    "duration": 76,
    "start_time": "2025-05-06T05:47:02.153Z"
   },
   {
    "duration": 143,
    "start_time": "2025-05-06T05:47:44.326Z"
   },
   {
    "duration": 45,
    "start_time": "2025-05-06T05:47:44.572Z"
   },
   {
    "duration": 1118,
    "start_time": "2025-05-06T05:47:44.836Z"
   },
   {
    "duration": 848,
    "start_time": "2025-05-06T05:47:47.293Z"
   },
   {
    "duration": 540,
    "start_time": "2025-05-06T05:47:48.143Z"
   },
   {
    "duration": 80,
    "start_time": "2025-05-06T05:47:48.685Z"
   },
   {
    "duration": 1142,
    "start_time": "2025-05-06T05:47:48.768Z"
   },
   {
    "duration": 46,
    "start_time": "2025-05-06T05:47:49.911Z"
   },
   {
    "duration": 893,
    "start_time": "2025-05-06T05:47:49.958Z"
   },
   {
    "duration": 141,
    "start_time": "2025-05-06T05:47:50.853Z"
   },
   {
    "duration": 14093,
    "start_time": "2025-05-06T05:47:50.996Z"
   },
   {
    "duration": 24,
    "start_time": "2025-05-06T05:48:05.091Z"
   },
   {
    "duration": 348,
    "start_time": "2025-05-06T05:48:05.118Z"
   },
   {
    "duration": 521,
    "start_time": "2025-05-06T05:48:05.468Z"
   },
   {
    "duration": 63,
    "start_time": "2025-05-06T05:48:05.991Z"
   },
   {
    "duration": 589,
    "start_time": "2025-05-06T05:48:28.123Z"
   },
   {
    "duration": 4991,
    "start_time": "2025-05-06T05:48:29.844Z"
   },
   {
    "duration": 51,
    "start_time": "2025-05-06T05:48:40.324Z"
   },
   {
    "duration": 7,
    "start_time": "2025-05-06T05:48:40.724Z"
   },
   {
    "duration": 6433,
    "start_time": "2025-05-06T05:48:41.067Z"
   },
   {
    "duration": 1987,
    "start_time": "2025-05-06T05:48:47.502Z"
   },
   {
    "duration": 21,
    "start_time": "2025-05-06T05:48:49.490Z"
   },
   {
    "duration": 16,
    "start_time": "2025-05-06T05:48:49.515Z"
   },
   {
    "duration": 107,
    "start_time": "2025-05-06T05:48:49.532Z"
   },
   {
    "duration": 5,
    "start_time": "2025-05-06T05:48:49.641Z"
   },
   {
    "duration": 9,
    "start_time": "2025-05-06T05:48:49.648Z"
   },
   {
    "duration": 6,
    "start_time": "2025-05-06T05:48:49.658Z"
   },
   {
    "duration": 3,
    "start_time": "2025-05-06T05:48:49.665Z"
   },
   {
    "duration": 3,
    "start_time": "2025-05-06T05:48:49.672Z"
   },
   {
    "duration": 3,
    "start_time": "2025-05-06T05:48:49.676Z"
   },
   {
    "duration": 26,
    "start_time": "2025-05-06T05:48:49.681Z"
   },
   {
    "duration": 4,
    "start_time": "2025-05-06T05:48:49.709Z"
   },
   {
    "duration": 40103,
    "start_time": "2025-05-06T05:48:49.716Z"
   },
   {
    "duration": 6,
    "start_time": "2025-05-06T05:49:29.821Z"
   },
   {
    "duration": 805,
    "start_time": "2025-05-06T05:49:29.829Z"
   },
   {
    "duration": 4,
    "start_time": "2025-05-06T05:49:38.339Z"
   },
   {
    "duration": 974,
    "start_time": "2025-05-06T05:49:39.917Z"
   },
   {
    "duration": 5,
    "start_time": "2025-05-06T05:49:45.796Z"
   },
   {
    "duration": 849,
    "start_time": "2025-05-06T05:49:47.180Z"
   },
   {
    "duration": 29,
    "start_time": "2025-05-06T05:49:48.700Z"
   },
   {
    "duration": 72,
    "start_time": "2025-05-06T05:49:52.814Z"
   },
   {
    "duration": 1557,
    "start_time": "2025-05-06T06:00:49.051Z"
   },
   {
    "duration": 820,
    "start_time": "2025-05-06T06:01:07.522Z"
   },
   {
    "duration": 1510,
    "start_time": "2025-05-06T06:01:49.699Z"
   },
   {
    "duration": 785,
    "start_time": "2025-05-06T06:01:51.305Z"
   },
   {
    "duration": 2136,
    "start_time": "2025-05-06T06:02:04.875Z"
   },
   {
    "duration": 862,
    "start_time": "2025-05-06T06:02:07.014Z"
   },
   {
    "duration": 5945,
    "start_time": "2025-05-06T06:02:32.387Z"
   },
   {
    "duration": 754,
    "start_time": "2025-05-06T06:02:38.334Z"
   },
   {
    "duration": 5820,
    "start_time": "2025-05-06T06:02:52.099Z"
   },
   {
    "duration": 864,
    "start_time": "2025-05-06T06:02:57.920Z"
   },
   {
    "duration": 52297,
    "start_time": "2025-05-06T06:05:59.723Z"
   },
   {
    "duration": 1173,
    "start_time": "2025-05-06T06:07:39.190Z"
   },
   {
    "duration": 802,
    "start_time": "2025-05-06T06:07:40.365Z"
   },
   {
    "duration": 21419,
    "start_time": "2025-05-06T06:08:35.698Z"
   },
   {
    "duration": 7386,
    "start_time": "2025-05-06T06:08:58.124Z"
   },
   {
    "duration": 962,
    "start_time": "2025-05-06T06:09:05.512Z"
   },
   {
    "duration": 2535,
    "start_time": "2025-05-06T06:09:33.075Z"
   },
   {
    "duration": 876,
    "start_time": "2025-05-06T06:09:35.614Z"
   },
   {
    "duration": 1573,
    "start_time": "2025-05-06T06:09:57.835Z"
   },
   {
    "duration": 906,
    "start_time": "2025-05-06T06:09:59.411Z"
   },
   {
    "duration": 392670,
    "start_time": "2025-05-06T06:10:17.314Z"
   },
   {
    "duration": 1528,
    "start_time": "2025-05-06T06:16:49.986Z"
   },
   {
    "duration": 821,
    "start_time": "2025-05-06T06:16:51.606Z"
   },
   {
    "duration": 11,
    "start_time": "2025-05-06T06:16:52.430Z"
   },
   {
    "duration": 1590,
    "start_time": "2025-05-06T06:17:02.621Z"
   },
   {
    "duration": 967,
    "start_time": "2025-05-06T06:17:04.218Z"
   },
   {
    "duration": 1621,
    "start_time": "2025-05-06T06:17:15.387Z"
   },
   {
    "duration": 956,
    "start_time": "2025-05-06T06:17:17.010Z"
   },
   {
    "duration": 82351,
    "start_time": "2025-05-06T06:17:26.034Z"
   },
   {
    "duration": 10,
    "start_time": "2025-05-06T06:18:48.387Z"
   },
   {
    "duration": 644463,
    "start_time": "2025-05-06T06:18:59.994Z"
   },
   {
    "duration": 3,
    "start_time": "2025-05-06T06:29:44.458Z"
   },
   {
    "duration": 62,
    "start_time": "2025-05-06T06:29:44.462Z"
   },
   {
    "duration": 120378,
    "start_time": "2025-05-06T06:29:56.505Z"
   },
   {
    "duration": 2,
    "start_time": "2025-05-06T06:31:56.906Z"
   },
   {
    "duration": 44,
    "start_time": "2025-05-06T06:31:56.910Z"
   },
   {
    "duration": 9978,
    "start_time": "2025-05-06T06:31:57.929Z"
   },
   {
    "duration": 1423,
    "start_time": "2025-05-06T06:32:12.922Z"
   },
   {
    "duration": 8039,
    "start_time": "2025-05-06T06:37:03.161Z"
   },
   {
    "duration": 2372,
    "start_time": "2025-05-06T06:37:11.202Z"
   },
   {
    "duration": 3,
    "start_time": "2025-05-06T06:37:13.575Z"
   },
   {
    "duration": 981,
    "start_time": "2025-05-06T06:37:13.580Z"
   },
   {
    "duration": 668,
    "start_time": "2025-05-06T06:37:14.563Z"
   },
   {
    "duration": 87,
    "start_time": "2025-05-06T06:37:15.233Z"
   },
   {
    "duration": 1109,
    "start_time": "2025-05-06T06:37:15.322Z"
   },
   {
    "duration": 44,
    "start_time": "2025-05-06T06:37:16.433Z"
   },
   {
    "duration": 952,
    "start_time": "2025-05-06T06:37:16.479Z"
   },
   {
    "duration": 130,
    "start_time": "2025-05-06T06:37:17.435Z"
   },
   {
    "duration": 15038,
    "start_time": "2025-05-06T06:37:17.567Z"
   },
   {
    "duration": 21,
    "start_time": "2025-05-06T06:37:32.607Z"
   },
   {
    "duration": 291,
    "start_time": "2025-05-06T06:37:32.630Z"
   },
   {
    "duration": 491,
    "start_time": "2025-05-06T06:37:32.923Z"
   },
   {
    "duration": 52,
    "start_time": "2025-05-06T06:37:33.416Z"
   },
   {
    "duration": 569,
    "start_time": "2025-05-06T06:37:33.469Z"
   },
   {
    "duration": 4386,
    "start_time": "2025-05-06T06:37:34.040Z"
   },
   {
    "duration": 50,
    "start_time": "2025-05-06T06:37:38.428Z"
   },
   {
    "duration": 6,
    "start_time": "2025-05-06T06:37:38.480Z"
   },
   {
    "duration": 6046,
    "start_time": "2025-05-06T06:37:38.487Z"
   },
   {
    "duration": 1948,
    "start_time": "2025-05-06T06:37:44.535Z"
   },
   {
    "duration": 6,
    "start_time": "2025-05-06T06:37:46.485Z"
   },
   {
    "duration": 14,
    "start_time": "2025-05-06T06:37:46.492Z"
   },
   {
    "duration": 92,
    "start_time": "2025-05-06T06:37:46.508Z"
   },
   {
    "duration": 3,
    "start_time": "2025-05-06T06:37:46.602Z"
   },
   {
    "duration": 21,
    "start_time": "2025-05-06T06:37:46.607Z"
   },
   {
    "duration": 7,
    "start_time": "2025-05-06T06:37:46.630Z"
   },
   {
    "duration": 6,
    "start_time": "2025-05-06T06:37:46.640Z"
   },
   {
    "duration": 9,
    "start_time": "2025-05-06T06:37:46.648Z"
   },
   {
    "duration": 10,
    "start_time": "2025-05-06T06:37:46.659Z"
   },
   {
    "duration": 12,
    "start_time": "2025-05-06T06:37:46.670Z"
   },
   {
    "duration": 5,
    "start_time": "2025-05-06T06:37:46.684Z"
   },
   {
    "duration": 36225,
    "start_time": "2025-05-06T06:37:46.691Z"
   },
   {
    "duration": 5,
    "start_time": "2025-05-06T06:38:22.917Z"
   },
   {
    "duration": 819,
    "start_time": "2025-05-06T06:38:22.924Z"
   },
   {
    "duration": 7,
    "start_time": "2025-05-06T06:38:23.745Z"
   },
   {
    "duration": 847,
    "start_time": "2025-05-06T06:38:23.753Z"
   },
   {
    "duration": 1603,
    "start_time": "2025-05-06T06:38:24.604Z"
   },
   {
    "duration": 863,
    "start_time": "2025-05-06T06:38:26.210Z"
   },
   {
    "duration": 272,
    "start_time": "2025-05-06T06:39:01.209Z"
   },
   {
    "duration": 778,
    "start_time": "2025-05-06T06:39:13.769Z"
   },
   {
    "duration": 1027,
    "start_time": "2025-05-06T06:39:26.697Z"
   },
   {
    "duration": 52,
    "start_time": "2025-05-06T06:39:33.513Z"
   },
   {
    "duration": 7701,
    "start_time": "2025-05-06T06:40:16.337Z"
   },
   {
    "duration": 2622,
    "start_time": "2025-05-06T06:40:24.041Z"
   },
   {
    "duration": 3,
    "start_time": "2025-05-06T06:40:26.664Z"
   },
   {
    "duration": 987,
    "start_time": "2025-05-06T06:40:26.669Z"
   },
   {
    "duration": 667,
    "start_time": "2025-05-06T06:40:27.658Z"
   },
   {
    "duration": 91,
    "start_time": "2025-05-06T06:40:28.327Z"
   },
   {
    "duration": 1155,
    "start_time": "2025-05-06T06:40:28.420Z"
   },
   {
    "duration": 53,
    "start_time": "2025-05-06T06:40:29.577Z"
   },
   {
    "duration": 956,
    "start_time": "2025-05-06T06:40:29.632Z"
   },
   {
    "duration": 134,
    "start_time": "2025-05-06T06:40:30.591Z"
   },
   {
    "duration": 14792,
    "start_time": "2025-05-06T06:40:30.727Z"
   },
   {
    "duration": 23,
    "start_time": "2025-05-06T06:40:45.521Z"
   },
   {
    "duration": 287,
    "start_time": "2025-05-06T06:40:45.546Z"
   },
   {
    "duration": 515,
    "start_time": "2025-05-06T06:40:45.835Z"
   },
   {
    "duration": 69,
    "start_time": "2025-05-06T06:40:46.352Z"
   },
   {
    "duration": 542,
    "start_time": "2025-05-06T06:40:46.423Z"
   },
   {
    "duration": 4319,
    "start_time": "2025-05-06T06:40:46.967Z"
   },
   {
    "duration": 50,
    "start_time": "2025-05-06T06:40:51.288Z"
   },
   {
    "duration": 6,
    "start_time": "2025-05-06T06:40:51.340Z"
   },
   {
    "duration": 6008,
    "start_time": "2025-05-06T06:40:51.349Z"
   },
   {
    "duration": 1894,
    "start_time": "2025-05-06T06:40:57.359Z"
   },
   {
    "duration": 5,
    "start_time": "2025-05-06T06:40:59.254Z"
   },
   {
    "duration": 34,
    "start_time": "2025-05-06T06:40:59.261Z"
   },
   {
    "duration": 88,
    "start_time": "2025-05-06T06:40:59.297Z"
   },
   {
    "duration": 4,
    "start_time": "2025-05-06T06:40:59.387Z"
   },
   {
    "duration": 25,
    "start_time": "2025-05-06T06:40:59.393Z"
   },
   {
    "duration": 13,
    "start_time": "2025-05-06T06:40:59.420Z"
   },
   {
    "duration": 10,
    "start_time": "2025-05-06T06:40:59.437Z"
   },
   {
    "duration": 11,
    "start_time": "2025-05-06T06:40:59.449Z"
   },
   {
    "duration": 52,
    "start_time": "2025-05-06T06:40:59.462Z"
   },
   {
    "duration": 43,
    "start_time": "2025-05-06T06:40:59.516Z"
   },
   {
    "duration": 7,
    "start_time": "2025-05-06T06:40:59.561Z"
   },
   {
    "duration": 36315,
    "start_time": "2025-05-06T06:40:59.570Z"
   },
   {
    "duration": 4,
    "start_time": "2025-05-06T06:41:35.887Z"
   },
   {
    "duration": 830,
    "start_time": "2025-05-06T06:41:35.892Z"
   },
   {
    "duration": 6,
    "start_time": "2025-05-06T06:41:36.724Z"
   },
   {
    "duration": 876,
    "start_time": "2025-05-06T06:41:36.732Z"
   },
   {
    "duration": 1600,
    "start_time": "2025-05-06T06:41:37.610Z"
   },
   {
    "duration": 875,
    "start_time": "2025-05-06T06:41:39.216Z"
   },
   {
    "duration": 1030,
    "start_time": "2025-05-06T06:41:40.093Z"
   },
   {
    "duration": 22608,
    "start_time": "2025-05-06T06:41:41.124Z"
   },
   {
    "duration": 157,
    "start_time": "2025-05-06T06:42:03.733Z"
   },
   {
    "duration": 0,
    "start_time": "2025-05-06T06:42:03.892Z"
   },
   {
    "duration": 0,
    "start_time": "2025-05-06T06:42:03.894Z"
   },
   {
    "duration": 77,
    "start_time": "2025-05-06T06:42:52.317Z"
   },
   {
    "duration": 10,
    "start_time": "2025-05-06T06:42:52.621Z"
   },
   {
    "duration": 22,
    "start_time": "2025-05-06T06:43:09.151Z"
   },
   {
    "duration": 7791,
    "start_time": "2025-05-06T06:43:31.836Z"
   },
   {
    "duration": 1559,
    "start_time": "2025-05-06T06:43:39.630Z"
   },
   {
    "duration": 2,
    "start_time": "2025-05-06T06:43:41.191Z"
   },
   {
    "duration": 971,
    "start_time": "2025-05-06T06:43:41.195Z"
   },
   {
    "duration": 617,
    "start_time": "2025-05-06T06:43:42.168Z"
   },
   {
    "duration": 79,
    "start_time": "2025-05-06T06:43:42.787Z"
   },
   {
    "duration": 1097,
    "start_time": "2025-05-06T06:43:42.867Z"
   },
   {
    "duration": 54,
    "start_time": "2025-05-06T06:43:43.966Z"
   },
   {
    "duration": 981,
    "start_time": "2025-05-06T06:43:44.022Z"
   },
   {
    "duration": 136,
    "start_time": "2025-05-06T06:43:45.004Z"
   },
   {
    "duration": 14582,
    "start_time": "2025-05-06T06:43:45.142Z"
   },
   {
    "duration": 23,
    "start_time": "2025-05-06T06:43:59.726Z"
   },
   {
    "duration": 281,
    "start_time": "2025-05-06T06:43:59.750Z"
   },
   {
    "duration": 482,
    "start_time": "2025-05-06T06:44:00.034Z"
   },
   {
    "duration": 52,
    "start_time": "2025-05-06T06:44:00.518Z"
   },
   {
    "duration": 547,
    "start_time": "2025-05-06T06:44:00.572Z"
   },
   {
    "duration": 4353,
    "start_time": "2025-05-06T06:44:01.121Z"
   },
   {
    "duration": 48,
    "start_time": "2025-05-06T06:44:05.476Z"
   },
   {
    "duration": 6,
    "start_time": "2025-05-06T06:44:05.526Z"
   },
   {
    "duration": 5980,
    "start_time": "2025-05-06T06:44:05.533Z"
   },
   {
    "duration": 1877,
    "start_time": "2025-05-06T06:44:11.515Z"
   },
   {
    "duration": 13,
    "start_time": "2025-05-06T06:44:13.395Z"
   },
   {
    "duration": 17,
    "start_time": "2025-05-06T06:44:13.410Z"
   },
   {
    "duration": 77,
    "start_time": "2025-05-06T06:44:13.429Z"
   },
   {
    "duration": 4,
    "start_time": "2025-05-06T06:44:13.507Z"
   },
   {
    "duration": 14,
    "start_time": "2025-05-06T06:44:13.513Z"
   },
   {
    "duration": 35,
    "start_time": "2025-05-06T06:44:13.529Z"
   },
   {
    "duration": 33,
    "start_time": "2025-05-06T06:44:13.565Z"
   },
   {
    "duration": 42,
    "start_time": "2025-05-06T06:44:13.600Z"
   },
   {
    "duration": 49,
    "start_time": "2025-05-06T06:44:13.644Z"
   },
   {
    "duration": 22,
    "start_time": "2025-05-06T06:44:13.695Z"
   },
   {
    "duration": 36,
    "start_time": "2025-05-06T06:44:13.719Z"
   },
   {
    "duration": 35663,
    "start_time": "2025-05-06T06:44:13.756Z"
   },
   {
    "duration": 6,
    "start_time": "2025-05-06T06:44:49.421Z"
   },
   {
    "duration": 800,
    "start_time": "2025-05-06T06:44:49.428Z"
   },
   {
    "duration": 6,
    "start_time": "2025-05-06T06:44:50.230Z"
   },
   {
    "duration": 860,
    "start_time": "2025-05-06T06:44:50.237Z"
   },
   {
    "duration": 1609,
    "start_time": "2025-05-06T06:44:51.098Z"
   },
   {
    "duration": 897,
    "start_time": "2025-05-06T06:44:52.710Z"
   },
   {
    "duration": 1048,
    "start_time": "2025-05-06T06:44:53.609Z"
   },
   {
    "duration": 23768,
    "start_time": "2025-05-06T06:44:54.661Z"
   },
   {
    "duration": 180,
    "start_time": "2025-05-06T06:45:18.431Z"
   },
   {
    "duration": 0,
    "start_time": "2025-05-06T06:45:18.613Z"
   },
   {
    "duration": 0,
    "start_time": "2025-05-06T06:45:18.615Z"
   },
   {
    "duration": 105,
    "start_time": "2025-05-06T06:50:46.157Z"
   },
   {
    "duration": 758,
    "start_time": "2025-05-06T06:50:56.340Z"
   },
   {
    "duration": 86,
    "start_time": "2025-05-06T06:51:24.381Z"
   },
   {
    "duration": 4,
    "start_time": "2025-05-06T06:51:34.317Z"
   },
   {
    "duration": 7,
    "start_time": "2025-05-06T06:52:00.044Z"
   },
   {
    "duration": 9848,
    "start_time": "2025-05-06T06:52:06.967Z"
   },
   {
    "duration": 1447,
    "start_time": "2025-05-06T06:52:16.817Z"
   },
   {
    "duration": 821,
    "start_time": "2025-05-06T06:54:39.509Z"
   },
   {
    "duration": 860,
    "start_time": "2025-05-06T06:55:26.045Z"
   },
   {
    "duration": 6432,
    "start_time": "2025-05-06T06:55:41.813Z"
   },
   {
    "duration": 23397,
    "start_time": "2025-05-06T06:56:08.828Z"
   },
   {
    "duration": 1625,
    "start_time": "2025-05-06T06:56:38.580Z"
   },
   {
    "duration": 10814,
    "start_time": "2025-05-06T06:57:00.300Z"
   },
   {
    "duration": 1573,
    "start_time": "2025-05-06T06:57:11.116Z"
   },
   {
    "duration": 9977,
    "start_time": "2025-05-06T06:57:35.036Z"
   },
   {
    "duration": 1432,
    "start_time": "2025-05-06T06:57:47.932Z"
   },
   {
    "duration": 22192,
    "start_time": "2025-05-06T06:58:05.629Z"
   },
   {
    "duration": 2955,
    "start_time": "2025-05-06T07:00:20.801Z"
   },
   {
    "duration": 43902,
    "start_time": "2025-05-06T07:01:16.404Z"
   },
   {
    "duration": 14,
    "start_time": "2025-05-06T07:02:07.612Z"
   },
   {
    "duration": 2965,
    "start_time": "2025-05-06T07:02:15.140Z"
   },
   {
    "duration": 23231,
    "start_time": "2025-05-06T07:02:40.179Z"
   },
   {
    "duration": 3196,
    "start_time": "2025-05-06T07:03:03.412Z"
   },
   {
    "duration": 16,
    "start_time": "2025-05-06T07:16:27.212Z"
   },
   {
    "duration": 5,
    "start_time": "2025-05-06T07:16:31.963Z"
   },
   {
    "duration": 3,
    "start_time": "2025-05-06T07:16:43.155Z"
   },
   {
    "duration": 19,
    "start_time": "2025-05-06T07:17:10.883Z"
   },
   {
    "duration": 3,
    "start_time": "2025-05-06T07:26:59.898Z"
   },
   {
    "duration": 91,
    "start_time": "2025-05-06T07:35:27.530Z"
   },
   {
    "duration": 97,
    "start_time": "2025-05-06T07:36:59.945Z"
   },
   {
    "duration": 15,
    "start_time": "2025-05-06T07:37:04.625Z"
   },
   {
    "duration": 35,
    "start_time": "2025-05-06T07:37:21.233Z"
   },
   {
    "duration": 36,
    "start_time": "2025-05-06T07:37:36.441Z"
   },
   {
    "duration": 38,
    "start_time": "2025-05-06T07:37:46.594Z"
   },
   {
    "duration": 516,
    "start_time": "2025-05-06T07:38:13.778Z"
   },
   {
    "duration": 51,
    "start_time": "2025-05-06T07:38:25.778Z"
   },
   {
    "duration": 166,
    "start_time": "2025-05-06T07:38:48.138Z"
   },
   {
    "duration": 42,
    "start_time": "2025-05-06T08:23:42.830Z"
   },
   {
    "duration": 5,
    "start_time": "2025-05-06T08:23:49.384Z"
   },
   {
    "duration": 4,
    "start_time": "2025-05-06T08:24:51.718Z"
   },
   {
    "duration": 1540,
    "start_time": "2025-05-06T08:25:06.366Z"
   },
   {
    "duration": 12,
    "start_time": "2025-05-06T08:26:10.430Z"
   },
   {
    "duration": 5,
    "start_time": "2025-05-06T08:26:17.398Z"
   },
   {
    "duration": 32,
    "start_time": "2025-05-06T08:26:23.694Z"
   },
   {
    "duration": 83,
    "start_time": "2025-05-06T08:26:38.222Z"
   },
   {
    "duration": 16,
    "start_time": "2025-05-06T08:26:42.102Z"
   },
   {
    "duration": 5,
    "start_time": "2025-05-06T08:26:55.862Z"
   },
   {
    "duration": 18,
    "start_time": "2025-05-06T08:27:18.078Z"
   },
   {
    "duration": 32,
    "start_time": "2025-05-06T08:27:19.695Z"
   },
   {
    "duration": 510,
    "start_time": "2025-05-06T08:27:50.166Z"
   },
   {
    "duration": 1562,
    "start_time": "2025-05-06T08:28:30.846Z"
   },
   {
    "duration": 906,
    "start_time": "2025-05-06T08:28:32.410Z"
   },
   {
    "duration": 743,
    "start_time": "2025-05-06T08:29:03.597Z"
   },
   {
    "duration": 15180,
    "start_time": "2025-05-06T08:29:04.342Z"
   },
   {
    "duration": 789,
    "start_time": "2025-05-06T08:29:19.524Z"
   },
   {
    "duration": 22867,
    "start_time": "2025-05-06T08:29:26.446Z"
   },
   {
    "duration": 3104,
    "start_time": "2025-05-06T08:29:49.315Z"
   },
   {
    "duration": 31,
    "start_time": "2025-05-06T08:30:08.537Z"
   },
   {
    "duration": 3,
    "start_time": "2025-05-06T08:30:15.149Z"
   },
   {
    "duration": 3,
    "start_time": "2025-05-06T08:30:15.678Z"
   },
   {
    "duration": 83,
    "start_time": "2025-05-06T08:30:17.694Z"
   },
   {
    "duration": 4,
    "start_time": "2025-05-06T08:30:17.950Z"
   },
   {
    "duration": 733,
    "start_time": "2025-05-06T08:30:21.334Z"
   },
   {
    "duration": 1537,
    "start_time": "2025-05-06T08:30:22.070Z"
   },
   {
    "duration": 878,
    "start_time": "2025-05-06T08:30:23.610Z"
   },
   {
    "duration": 1015,
    "start_time": "2025-05-06T08:30:24.490Z"
   },
   {
    "duration": 21720,
    "start_time": "2025-05-06T08:30:25.506Z"
   },
   {
    "duration": 844,
    "start_time": "2025-05-06T08:30:47.228Z"
   },
   {
    "duration": 24940,
    "start_time": "2025-05-06T08:30:48.074Z"
   },
   {
    "duration": 2990,
    "start_time": "2025-05-06T08:31:13.016Z"
   },
   {
    "duration": 83,
    "start_time": "2025-05-06T08:32:50.629Z"
   },
   {
    "duration": 7963,
    "start_time": "2025-05-06T08:57:00.654Z"
   },
   {
    "duration": 1490,
    "start_time": "2025-05-06T08:57:08.620Z"
   },
   {
    "duration": 2,
    "start_time": "2025-05-06T08:57:10.112Z"
   },
   {
    "duration": 991,
    "start_time": "2025-05-06T08:57:10.117Z"
   },
   {
    "duration": 631,
    "start_time": "2025-05-06T08:57:11.110Z"
   },
   {
    "duration": 85,
    "start_time": "2025-05-06T08:57:11.743Z"
   },
   {
    "duration": 1127,
    "start_time": "2025-05-06T08:57:11.829Z"
   },
   {
    "duration": 53,
    "start_time": "2025-05-06T08:57:12.958Z"
   },
   {
    "duration": 938,
    "start_time": "2025-05-06T08:57:13.012Z"
   },
   {
    "duration": 134,
    "start_time": "2025-05-06T08:57:13.953Z"
   },
   {
    "duration": 14834,
    "start_time": "2025-05-06T08:57:14.089Z"
   },
   {
    "duration": 20,
    "start_time": "2025-05-06T08:57:28.925Z"
   },
   {
    "duration": 286,
    "start_time": "2025-05-06T08:57:28.947Z"
   },
   {
    "duration": 544,
    "start_time": "2025-05-06T08:57:29.235Z"
   },
   {
    "duration": 67,
    "start_time": "2025-05-06T08:57:29.781Z"
   },
   {
    "duration": 571,
    "start_time": "2025-05-06T08:57:29.850Z"
   },
   {
    "duration": 4375,
    "start_time": "2025-05-06T08:57:30.423Z"
   },
   {
    "duration": 48,
    "start_time": "2025-05-06T08:57:34.800Z"
   },
   {
    "duration": 6,
    "start_time": "2025-05-06T08:57:34.850Z"
   },
   {
    "duration": 5900,
    "start_time": "2025-05-06T08:57:34.857Z"
   },
   {
    "duration": 1887,
    "start_time": "2025-05-06T08:57:40.759Z"
   },
   {
    "duration": 6,
    "start_time": "2025-05-06T08:57:42.648Z"
   },
   {
    "duration": 8,
    "start_time": "2025-05-06T08:57:42.656Z"
   },
   {
    "duration": 99,
    "start_time": "2025-05-06T08:57:42.666Z"
   },
   {
    "duration": 6,
    "start_time": "2025-05-06T08:57:42.767Z"
   },
   {
    "duration": 6,
    "start_time": "2025-05-06T08:57:42.775Z"
   },
   {
    "duration": 23,
    "start_time": "2025-05-06T08:57:42.782Z"
   },
   {
    "duration": 4,
    "start_time": "2025-05-06T08:57:42.810Z"
   },
   {
    "duration": 4,
    "start_time": "2025-05-06T08:57:42.816Z"
   },
   {
    "duration": 6,
    "start_time": "2025-05-06T08:57:42.821Z"
   },
   {
    "duration": 3,
    "start_time": "2025-05-06T08:57:42.829Z"
   },
   {
    "duration": 7,
    "start_time": "2025-05-06T08:57:42.833Z"
   },
   {
    "duration": 35974,
    "start_time": "2025-05-06T08:57:42.842Z"
   },
   {
    "duration": 4,
    "start_time": "2025-05-06T08:58:18.818Z"
   },
   {
    "duration": 805,
    "start_time": "2025-05-06T08:58:18.824Z"
   },
   {
    "duration": 6,
    "start_time": "2025-05-06T08:58:19.631Z"
   },
   {
    "duration": 817,
    "start_time": "2025-05-06T08:58:19.639Z"
   },
   {
    "duration": 1549,
    "start_time": "2025-05-06T08:58:20.458Z"
   },
   {
    "duration": 903,
    "start_time": "2025-05-06T08:58:22.010Z"
   },
   {
    "duration": 1016,
    "start_time": "2025-05-06T08:58:22.914Z"
   },
   {
    "duration": 22590,
    "start_time": "2025-05-06T08:58:23.933Z"
   },
   {
    "duration": 822,
    "start_time": "2025-05-06T08:58:46.525Z"
   },
   {
    "duration": 26072,
    "start_time": "2025-05-06T08:58:47.349Z"
   },
   {
    "duration": 2760,
    "start_time": "2025-05-06T08:59:13.423Z"
   },
   {
    "duration": 13169,
    "start_time": "2025-05-06T11:07:56.881Z"
   },
   {
    "duration": 112063,
    "start_time": "2025-05-06T11:08:10.052Z"
   },
   {
    "duration": 3,
    "start_time": "2025-05-06T11:10:02.116Z"
   },
   {
    "duration": 1080,
    "start_time": "2025-05-06T11:10:02.121Z"
   },
   {
    "duration": 649,
    "start_time": "2025-05-06T11:10:03.202Z"
   },
   {
    "duration": 86,
    "start_time": "2025-05-06T11:10:03.853Z"
   },
   {
    "duration": 1168,
    "start_time": "2025-05-06T11:10:03.941Z"
   },
   {
    "duration": 52,
    "start_time": "2025-05-06T11:10:05.110Z"
   },
   {
    "duration": 25,
    "start_time": "2025-05-06T11:27:06.154Z"
   },
   {
    "duration": 1204,
    "start_time": "2025-05-06T11:27:10.291Z"
   },
   {
    "duration": 54,
    "start_time": "2025-05-06T11:27:11.497Z"
   },
   {
    "duration": 867,
    "start_time": "2025-05-06T11:27:13.244Z"
   },
   {
    "duration": 120,
    "start_time": "2025-05-06T11:27:15.415Z"
   },
   {
    "duration": 14479,
    "start_time": "2025-05-06T11:27:17.052Z"
   },
   {
    "duration": 17,
    "start_time": "2025-05-06T11:27:31.540Z"
   },
   {
    "duration": 18,
    "start_time": "2025-05-06T11:27:35.219Z"
   },
   {
    "duration": 15879,
    "start_time": "2025-05-06T13:26:56.934Z"
   },
   {
    "duration": 2020,
    "start_time": "2025-05-06T13:27:12.816Z"
   },
   {
    "duration": 4,
    "start_time": "2025-05-06T13:27:14.838Z"
   },
   {
    "duration": 1035,
    "start_time": "2025-05-06T13:27:14.844Z"
   },
   {
    "duration": 671,
    "start_time": "2025-05-06T13:27:15.881Z"
   },
   {
    "duration": 97,
    "start_time": "2025-05-06T13:27:16.553Z"
   },
   {
    "duration": 1426,
    "start_time": "2025-05-06T13:27:16.652Z"
   },
   {
    "duration": 57,
    "start_time": "2025-05-06T13:27:18.080Z"
   },
   {
    "duration": 1430,
    "start_time": "2025-05-06T13:27:18.139Z"
   },
   {
    "duration": 159,
    "start_time": "2025-05-06T13:27:19.574Z"
   },
   {
    "duration": 12337,
    "start_time": "2025-05-06T13:27:19.735Z"
   },
   {
    "duration": 20,
    "start_time": "2025-05-06T13:27:32.074Z"
   },
   {
    "duration": 354,
    "start_time": "2025-05-06T13:27:32.104Z"
   },
   {
    "duration": 556,
    "start_time": "2025-05-06T13:27:32.460Z"
   },
   {
    "duration": 58,
    "start_time": "2025-05-06T13:27:33.018Z"
   },
   {
    "duration": 561,
    "start_time": "2025-05-06T13:27:33.078Z"
   },
   {
    "duration": 5720,
    "start_time": "2025-05-06T13:27:33.641Z"
   },
   {
    "duration": 61,
    "start_time": "2025-05-06T13:27:39.363Z"
   },
   {
    "duration": 6,
    "start_time": "2025-05-06T13:27:39.426Z"
   },
   {
    "duration": 6445,
    "start_time": "2025-05-06T13:27:39.433Z"
   },
   {
    "duration": 2143,
    "start_time": "2025-05-06T13:27:45.880Z"
   },
   {
    "duration": 7,
    "start_time": "2025-05-06T13:27:48.026Z"
   },
   {
    "duration": 33,
    "start_time": "2025-05-06T13:27:48.036Z"
   },
   {
    "duration": 108,
    "start_time": "2025-05-06T13:27:48.071Z"
   },
   {
    "duration": 5,
    "start_time": "2025-05-06T13:27:48.181Z"
   },
   {
    "duration": 16,
    "start_time": "2025-05-06T13:27:48.188Z"
   },
   {
    "duration": 4,
    "start_time": "2025-05-06T13:27:48.207Z"
   },
   {
    "duration": 25,
    "start_time": "2025-05-06T13:27:48.216Z"
   },
   {
    "duration": 84,
    "start_time": "2025-05-06T13:27:48.244Z"
   },
   {
    "duration": 63,
    "start_time": "2025-05-06T13:27:48.331Z"
   },
   {
    "duration": 22,
    "start_time": "2025-05-06T13:27:48.396Z"
   },
   {
    "duration": 25,
    "start_time": "2025-05-06T13:27:48.420Z"
   },
   {
    "duration": 45374,
    "start_time": "2025-05-06T13:27:48.447Z"
   },
   {
    "duration": 5,
    "start_time": "2025-05-06T13:28:33.824Z"
   },
   {
    "duration": 1026,
    "start_time": "2025-05-06T13:28:33.831Z"
   },
   {
    "duration": 8,
    "start_time": "2025-05-06T13:28:54.223Z"
   },
   {
    "duration": 975,
    "start_time": "2025-05-06T13:28:54.903Z"
   },
   {
    "duration": 1756,
    "start_time": "2025-05-06T13:28:55.880Z"
   },
   {
    "duration": 1002,
    "start_time": "2025-05-06T13:28:57.638Z"
   },
   {
    "duration": 1148,
    "start_time": "2025-05-06T13:29:04.389Z"
   },
   {
    "duration": 29884,
    "start_time": "2025-05-06T13:29:05.539Z"
   },
   {
    "duration": 881,
    "start_time": "2025-05-06T13:29:35.426Z"
   },
   {
    "duration": 1168011,
    "start_time": "2025-05-06T13:29:48.709Z"
   },
   {
    "duration": 3205,
    "start_time": "2025-05-06T13:49:16.722Z"
   },
   {
    "duration": 3,
    "start_time": "2025-05-06T13:49:19.929Z"
   },
   {
    "duration": 934,
    "start_time": "2025-05-06T13:49:19.934Z"
   },
   {
    "duration": 562,
    "start_time": "2025-05-06T13:49:20.871Z"
   },
   {
    "duration": 1941,
    "start_time": "2025-05-09T05:57:35.153Z"
   },
   {
    "duration": 14412,
    "start_time": "2025-05-09T05:57:39.097Z"
   },
   {
    "duration": 324,
    "start_time": "2025-05-09T05:57:53.512Z"
   },
   {
    "duration": 0,
    "start_time": "2025-05-09T05:57:53.838Z"
   },
   {
    "duration": 0,
    "start_time": "2025-05-09T05:57:53.840Z"
   },
   {
    "duration": 10602,
    "start_time": "2025-05-09T05:58:41.541Z"
   },
   {
    "duration": 286,
    "start_time": "2025-05-09T05:58:52.146Z"
   },
   {
    "duration": 0,
    "start_time": "2025-05-09T05:58:52.435Z"
   },
   {
    "duration": 0,
    "start_time": "2025-05-09T05:58:52.436Z"
   },
   {
    "duration": 0,
    "start_time": "2025-05-09T05:58:52.438Z"
   },
   {
    "duration": 296,
    "start_time": "2025-05-09T05:59:26.710Z"
   },
   {
    "duration": 276,
    "start_time": "2025-05-09T06:00:50.765Z"
   },
   {
    "duration": 10619,
    "start_time": "2025-05-09T06:01:47.896Z"
   },
   {
    "duration": 263,
    "start_time": "2025-05-09T06:01:58.518Z"
   },
   {
    "duration": 8093,
    "start_time": "2025-05-09T06:02:03.724Z"
   },
   {
    "duration": 282,
    "start_time": "2025-05-09T06:02:11.819Z"
   },
   {
    "duration": 8495,
    "start_time": "2025-05-09T06:02:33.742Z"
   },
   {
    "duration": 12009,
    "start_time": "2025-05-09T06:02:51.432Z"
   },
   {
    "duration": 273,
    "start_time": "2025-05-09T06:03:07.571Z"
   },
   {
    "duration": 7386,
    "start_time": "2025-05-09T06:03:10.464Z"
   },
   {
    "duration": 5475,
    "start_time": "2025-05-09T06:03:18.586Z"
   },
   {
    "duration": 35,
    "start_time": "2025-05-09T06:03:24.064Z"
   },
   {
    "duration": 20,
    "start_time": "2025-05-09T06:06:11.718Z"
   },
   {
    "duration": 7,
    "start_time": "2025-05-09T06:06:22.990Z"
   },
   {
    "duration": 12,
    "start_time": "2025-05-09T06:06:28.279Z"
   },
   {
    "duration": 15,
    "start_time": "2025-05-09T06:06:33.026Z"
   },
   {
    "duration": 14,
    "start_time": "2025-05-09T06:06:43.437Z"
   },
   {
    "duration": 32,
    "start_time": "2025-05-09T06:06:56.384Z"
   },
   {
    "duration": 20,
    "start_time": "2025-05-09T06:07:10.102Z"
   },
   {
    "duration": 18,
    "start_time": "2025-05-09T06:07:28.801Z"
   },
   {
    "duration": 13,
    "start_time": "2025-05-09T06:07:39.322Z"
   },
   {
    "duration": 12,
    "start_time": "2025-05-09T06:07:42.954Z"
   },
   {
    "duration": 5,
    "start_time": "2025-05-09T06:07:46.558Z"
   },
   {
    "duration": 21,
    "start_time": "2025-05-09T06:07:52.002Z"
   },
   {
    "duration": 19,
    "start_time": "2025-05-09T06:08:06.838Z"
   },
   {
    "duration": 3,
    "start_time": "2025-05-09T06:08:22.567Z"
   },
   {
    "duration": 3,
    "start_time": "2025-05-09T06:08:23.759Z"
   },
   {
    "duration": 1061,
    "start_time": "2025-05-09T06:08:24.347Z"
   },
   {
    "duration": 686,
    "start_time": "2025-05-09T06:08:31.614Z"
   },
   {
    "duration": 998,
    "start_time": "2025-05-09T06:08:42.622Z"
   },
   {
    "duration": 534,
    "start_time": "2025-05-09T06:08:52.521Z"
   },
   {
    "duration": 91,
    "start_time": "2025-05-09T06:08:57.658Z"
   },
   {
    "duration": 1369,
    "start_time": "2025-05-09T06:09:15.759Z"
   },
   {
    "duration": 60,
    "start_time": "2025-05-09T06:09:35.042Z"
   },
   {
    "duration": 1142,
    "start_time": "2025-05-09T06:09:37.023Z"
   },
   {
    "duration": 7185,
    "start_time": "2025-05-09T08:49:09.976Z"
   },
   {
    "duration": 6970,
    "start_time": "2025-05-09T08:49:19.465Z"
   },
   {
    "duration": 5135,
    "start_time": "2025-05-09T08:49:26.438Z"
   },
   {
    "duration": 8,
    "start_time": "2025-05-09T08:49:31.575Z"
   },
   {
    "duration": 17,
    "start_time": "2025-05-09T08:49:31.585Z"
   },
   {
    "duration": 971,
    "start_time": "2025-05-09T08:49:31.604Z"
   },
   {
    "duration": 536,
    "start_time": "2025-05-09T08:49:32.576Z"
   },
   {
    "duration": 87,
    "start_time": "2025-05-09T08:49:33.114Z"
   },
   {
    "duration": 1290,
    "start_time": "2025-05-09T08:49:33.203Z"
   },
   {
    "duration": 49,
    "start_time": "2025-05-09T08:49:34.495Z"
   },
   {
    "duration": 1064,
    "start_time": "2025-05-09T08:49:34.547Z"
   },
   {
    "duration": 100,
    "start_time": "2025-05-09T08:49:57.493Z"
   },
   {
    "duration": 22,
    "start_time": "2025-05-09T08:51:59.014Z"
   },
   {
    "duration": 164,
    "start_time": "2025-05-09T08:52:12.599Z"
   },
   {
    "duration": 31,
    "start_time": "2025-05-09T08:52:19.753Z"
   },
   {
    "duration": 11,
    "start_time": "2025-05-09T08:54:46.402Z"
   },
   {
    "duration": 46,
    "start_time": "2025-05-09T08:54:51.757Z"
   },
   {
    "duration": 50,
    "start_time": "2025-05-09T08:54:55.401Z"
   },
   {
    "duration": 25,
    "start_time": "2025-05-09T08:54:57.855Z"
   },
   {
    "duration": 81,
    "start_time": "2025-05-09T08:55:17.273Z"
   },
   {
    "duration": 70,
    "start_time": "2025-05-09T08:55:29.953Z"
   },
   {
    "duration": 17,
    "start_time": "2025-05-09T08:55:33.535Z"
   },
   {
    "duration": 802,
    "start_time": "2025-05-09T08:55:39.895Z"
   },
   {
    "duration": 11161,
    "start_time": "2025-05-09T08:59:50.729Z"
   },
   {
    "duration": 1434,
    "start_time": "2025-05-09T09:00:01.895Z"
   },
   {
    "duration": 3,
    "start_time": "2025-05-09T09:00:03.332Z"
   },
   {
    "duration": 970,
    "start_time": "2025-05-09T09:00:03.336Z"
   },
   {
    "duration": 609,
    "start_time": "2025-05-09T09:00:04.309Z"
   },
   {
    "duration": 92,
    "start_time": "2025-05-09T09:00:04.920Z"
   },
   {
    "duration": 1220,
    "start_time": "2025-05-09T09:00:05.013Z"
   },
   {
    "duration": 64,
    "start_time": "2025-05-09T09:00:06.235Z"
   },
   {
    "duration": 1127,
    "start_time": "2025-05-09T09:00:06.301Z"
   },
   {
    "duration": 2,
    "start_time": "2025-05-09T09:00:27.321Z"
   },
   {
    "duration": 3,
    "start_time": "2025-05-09T09:00:28.811Z"
   },
   {
    "duration": 43,
    "start_time": "2025-05-09T09:00:36.845Z"
   },
   {
    "duration": 4,
    "start_time": "2025-05-09T09:00:41.888Z"
   },
   {
    "duration": 568,
    "start_time": "2025-05-09T09:00:42.035Z"
   },
   {
    "duration": 58,
    "start_time": "2025-05-09T09:00:59.889Z"
   },
   {
    "duration": 505,
    "start_time": "2025-05-09T09:01:29.086Z"
   },
   {
    "duration": 124,
    "start_time": "2025-05-09T09:01:48.642Z"
   },
   {
    "duration": 12,
    "start_time": "2025-05-09T09:01:51.151Z"
   },
   {
    "duration": 46,
    "start_time": "2025-05-09T09:02:21.925Z"
   },
   {
    "duration": 5449,
    "start_time": "2025-05-09T09:02:38.072Z"
   },
   {
    "duration": 1266,
    "start_time": "2025-05-09T09:11:53.973Z"
   },
   {
    "duration": 4,
    "start_time": "2025-05-09T09:13:02.236Z"
   },
   {
    "duration": 116,
    "start_time": "2025-05-09T09:14:10.645Z"
   },
   {
    "duration": 3,
    "start_time": "2025-05-09T09:14:38.000Z"
   },
   {
    "duration": 2,
    "start_time": "2025-05-09T09:14:38.470Z"
   },
   {
    "duration": 974,
    "start_time": "2025-05-09T09:14:38.733Z"
   },
   {
    "duration": 608,
    "start_time": "2025-05-09T09:14:39.709Z"
   },
   {
    "duration": 89,
    "start_time": "2025-05-09T09:14:40.319Z"
   },
   {
    "duration": 1225,
    "start_time": "2025-05-09T09:14:40.410Z"
   },
   {
    "duration": 69,
    "start_time": "2025-05-09T09:14:41.637Z"
   },
   {
    "duration": 1139,
    "start_time": "2025-05-09T09:14:41.744Z"
   },
   {
    "duration": 114,
    "start_time": "2025-05-09T09:14:42.935Z"
   },
   {
    "duration": 129,
    "start_time": "2025-05-09T09:18:22.986Z"
   },
   {
    "duration": 87,
    "start_time": "2025-05-09T09:20:06.833Z"
   },
   {
    "duration": 179,
    "start_time": "2025-05-09T09:20:09.309Z"
   },
   {
    "duration": 50742,
    "start_time": "2025-05-09T09:20:26.572Z"
   },
   {
    "duration": 645,
    "start_time": "2025-05-09T09:21:31.198Z"
   },
   {
    "duration": 69,
    "start_time": "2025-05-09T09:24:47.956Z"
   },
   {
    "duration": 29,
    "start_time": "2025-05-09T09:42:17.458Z"
   },
   {
    "duration": 32,
    "start_time": "2025-05-09T09:42:35.514Z"
   },
   {
    "duration": 57,
    "start_time": "2025-05-09T09:44:20.753Z"
   },
   {
    "duration": 815,
    "start_time": "2025-05-09T09:44:36.023Z"
   },
   {
    "duration": 20,
    "start_time": "2025-05-09T09:46:40.343Z"
   },
   {
    "duration": 26,
    "start_time": "2025-05-09T09:46:58.941Z"
   },
   {
    "duration": 40,
    "start_time": "2025-05-09T09:48:06.715Z"
   },
   {
    "duration": 33,
    "start_time": "2025-05-09T09:49:11.754Z"
   },
   {
    "duration": 977,
    "start_time": "2025-05-09T09:49:21.141Z"
   },
   {
    "duration": 35,
    "start_time": "2025-05-09T09:49:49.910Z"
   },
   {
    "duration": 676,
    "start_time": "2025-05-09T09:51:11.978Z"
   },
   {
    "duration": 1120,
    "start_time": "2025-05-09T09:51:22.281Z"
   },
   {
    "duration": 536,
    "start_time": "2025-05-09T09:52:29.520Z"
   },
   {
    "duration": 593,
    "start_time": "2025-05-09T09:52:41.337Z"
   },
   {
    "duration": 27,
    "start_time": "2025-05-09T09:53:00.461Z"
   },
   {
    "duration": 13,
    "start_time": "2025-05-09T09:53:39.904Z"
   },
   {
    "duration": 347,
    "start_time": "2025-05-09T09:55:38.309Z"
   },
   {
    "duration": 585,
    "start_time": "2025-05-09T09:55:46.851Z"
   },
   {
    "duration": 16,
    "start_time": "2025-05-09T09:56:55.785Z"
   },
   {
    "duration": 11,
    "start_time": "2025-05-09T09:57:14.019Z"
   },
   {
    "duration": 22,
    "start_time": "2025-05-09T09:57:26.579Z"
   },
   {
    "duration": 12,
    "start_time": "2025-05-09T09:57:32.248Z"
   },
   {
    "duration": 4,
    "start_time": "2025-05-09T09:57:36.045Z"
   },
   {
    "duration": 4,
    "start_time": "2025-05-09T09:57:37.899Z"
   },
   {
    "duration": 9,
    "start_time": "2025-05-09T09:58:31.814Z"
   },
   {
    "duration": 10,
    "start_time": "2025-05-09T09:58:35.731Z"
   },
   {
    "duration": 11,
    "start_time": "2025-05-09T09:58:41.589Z"
   },
   {
    "duration": 9,
    "start_time": "2025-05-09T09:59:10.445Z"
   },
   {
    "duration": 12,
    "start_time": "2025-05-09T10:00:10.491Z"
   },
   {
    "duration": 72,
    "start_time": "2025-05-09T10:00:17.257Z"
   },
   {
    "duration": 5,
    "start_time": "2025-05-09T10:00:22.186Z"
   },
   {
    "duration": 9366,
    "start_time": "2025-05-09T10:00:52.030Z"
   },
   {
    "duration": 4,
    "start_time": "2025-05-09T10:02:50.105Z"
   },
   {
    "duration": 78,
    "start_time": "2025-05-09T10:03:03.291Z"
   },
   {
    "duration": 5,
    "start_time": "2025-05-09T10:03:08.330Z"
   },
   {
    "duration": 5,
    "start_time": "2025-05-09T10:03:17.326Z"
   },
   {
    "duration": 11313,
    "start_time": "2025-05-09T10:03:41.532Z"
   },
   {
    "duration": 2,
    "start_time": "2025-05-09T10:04:34.352Z"
   },
   {
    "duration": 920,
    "start_time": "2025-05-09T10:04:34.560Z"
   },
   {
    "duration": 587,
    "start_time": "2025-05-09T10:04:35.482Z"
   },
   {
    "duration": 82,
    "start_time": "2025-05-09T10:04:36.071Z"
   },
   {
    "duration": 1628,
    "start_time": "2025-05-09T10:04:36.302Z"
   },
   {
    "duration": 61,
    "start_time": "2025-05-09T10:04:37.932Z"
   },
   {
    "duration": 1081,
    "start_time": "2025-05-09T10:04:37.995Z"
   },
   {
    "duration": 5,
    "start_time": "2025-05-09T10:04:39.078Z"
   },
   {
    "duration": 4,
    "start_time": "2025-05-09T10:04:39.085Z"
   },
   {
    "duration": 30,
    "start_time": "2025-05-09T10:04:40.477Z"
   },
   {
    "duration": 3,
    "start_time": "2025-05-09T10:04:42.324Z"
   },
   {
    "duration": 494,
    "start_time": "2025-05-09T10:04:43.011Z"
   },
   {
    "duration": 52,
    "start_time": "2025-05-09T10:04:43.916Z"
   },
   {
    "duration": 18,
    "start_time": "2025-05-09T10:04:44.572Z"
   },
   {
    "duration": 490,
    "start_time": "2025-05-09T10:04:49.204Z"
   },
   {
    "duration": 5054,
    "start_time": "2025-05-09T10:04:55.809Z"
   },
   {
    "duration": 12,
    "start_time": "2025-05-09T10:05:52.948Z"
   },
   {
    "duration": 4220,
    "start_time": "2025-05-09T10:05:58.932Z"
   },
   {
    "duration": 8,
    "start_time": "2025-05-09T10:06:22.995Z"
   },
   {
    "duration": 6350,
    "start_time": "2025-05-09T10:06:23.261Z"
   },
   {
    "duration": 2169,
    "start_time": "2025-05-09T10:06:29.613Z"
   },
   {
    "duration": 1174,
    "start_time": "2025-05-09T10:06:56.950Z"
   },
   {
    "duration": 6,
    "start_time": "2025-05-09T10:07:16.545Z"
   },
   {
    "duration": 5,
    "start_time": "2025-05-09T10:07:17.021Z"
   },
   {
    "duration": 19,
    "start_time": "2025-05-09T10:07:19.056Z"
   },
   {
    "duration": 21,
    "start_time": "2025-05-09T10:08:33.986Z"
   },
   {
    "duration": 4,
    "start_time": "2025-05-09T10:08:42.565Z"
   },
   {
    "duration": 65,
    "start_time": "2025-05-09T10:08:52.373Z"
   },
   {
    "duration": 3,
    "start_time": "2025-05-09T10:08:55.962Z"
   },
   {
    "duration": 10,
    "start_time": "2025-05-09T10:12:53.266Z"
   },
   {
    "duration": 21,
    "start_time": "2025-05-09T10:13:25.189Z"
   },
   {
    "duration": 12,
    "start_time": "2025-05-09T10:13:40.169Z"
   },
   {
    "duration": 4,
    "start_time": "2025-05-09T10:14:32.195Z"
   },
   {
    "duration": 3,
    "start_time": "2025-05-09T10:14:39.899Z"
   },
   {
    "duration": 10,
    "start_time": "2025-05-09T10:14:40.705Z"
   },
   {
    "duration": 4,
    "start_time": "2025-05-09T10:14:49.654Z"
   },
   {
    "duration": 3,
    "start_time": "2025-05-09T10:14:52.979Z"
   },
   {
    "duration": 10,
    "start_time": "2025-05-09T10:14:53.932Z"
   },
   {
    "duration": 5,
    "start_time": "2025-05-09T10:15:25.234Z"
   },
   {
    "duration": 11,
    "start_time": "2025-05-09T10:15:31.071Z"
   },
   {
    "duration": 4,
    "start_time": "2025-05-09T10:15:35.677Z"
   },
   {
    "duration": 3,
    "start_time": "2025-05-09T10:15:36.110Z"
   },
   {
    "duration": 3,
    "start_time": "2025-05-09T10:15:36.461Z"
   },
   {
    "duration": 3,
    "start_time": "2025-05-09T10:15:40.452Z"
   },
   {
    "duration": 10,
    "start_time": "2025-05-09T10:15:41.229Z"
   },
   {
    "duration": 100,
    "start_time": "2025-05-09T10:16:25.034Z"
   },
   {
    "duration": 4,
    "start_time": "2025-05-09T10:16:28.695Z"
   },
   {
    "duration": 5,
    "start_time": "2025-05-09T10:16:42.009Z"
   },
   {
    "duration": 4,
    "start_time": "2025-05-09T10:16:53.419Z"
   },
   {
    "duration": 4,
    "start_time": "2025-05-09T10:17:05.645Z"
   },
   {
    "duration": 12,
    "start_time": "2025-05-09T10:17:06.610Z"
   },
   {
    "duration": 93,
    "start_time": "2025-05-09T10:17:07.327Z"
   },
   {
    "duration": 5,
    "start_time": "2025-05-09T10:17:32.995Z"
   },
   {
    "duration": 4,
    "start_time": "2025-05-09T10:21:13.146Z"
   },
   {
    "duration": 14,
    "start_time": "2025-05-09T10:21:22.021Z"
   },
   {
    "duration": 4,
    "start_time": "2025-05-09T10:21:48.741Z"
   },
   {
    "duration": 3,
    "start_time": "2025-05-09T10:21:56.825Z"
   },
   {
    "duration": 266887,
    "start_time": "2025-05-09T10:21:57.978Z"
   },
   {
    "duration": 18,
    "start_time": "2025-05-09T10:26:24.867Z"
   },
   {
    "duration": 838,
    "start_time": "2025-05-09T10:26:24.886Z"
   },
   {
    "duration": 7414,
    "start_time": "2025-05-09T10:53:03.102Z"
   },
   {
    "duration": 11,
    "start_time": "2025-05-09T10:53:10.519Z"
   },
   {
    "duration": 3,
    "start_time": "2025-05-09T10:53:20.626Z"
   },
   {
    "duration": 863,
    "start_time": "2025-05-09T10:53:20.878Z"
   },
   {
    "duration": 588,
    "start_time": "2025-05-09T10:53:21.743Z"
   },
   {
    "duration": 80,
    "start_time": "2025-05-09T10:53:23.240Z"
   },
   {
    "duration": 1232,
    "start_time": "2025-05-09T10:53:24.269Z"
   },
   {
    "duration": 47,
    "start_time": "2025-05-09T10:53:25.504Z"
   },
   {
    "duration": 997,
    "start_time": "2025-05-09T10:53:26.598Z"
   },
   {
    "duration": 18,
    "start_time": "2025-05-09T10:55:30.347Z"
   },
   {
    "duration": 11,
    "start_time": "2025-05-09T10:55:41.666Z"
   },
   {
    "duration": 11,
    "start_time": "2025-05-09T10:55:48.126Z"
   },
   {
    "duration": 802,
    "start_time": "2025-05-09T10:56:08.946Z"
   },
   {
    "duration": 732,
    "start_time": "2025-05-09T10:56:16.926Z"
   },
   {
    "duration": 23,
    "start_time": "2025-05-09T10:56:24.497Z"
   },
   {
    "duration": 772,
    "start_time": "2025-05-09T10:56:56.166Z"
   },
   {
    "duration": 66,
    "start_time": "2025-05-09T10:57:29.714Z"
   },
   {
    "duration": 22,
    "start_time": "2025-05-09T10:57:37.112Z"
   },
   {
    "duration": 758,
    "start_time": "2025-05-09T10:57:44.912Z"
   },
   {
    "duration": 76,
    "start_time": "2025-05-09T10:57:46.119Z"
   },
   {
    "duration": 23,
    "start_time": "2025-05-09T10:57:47.130Z"
   },
   {
    "duration": 207,
    "start_time": "2025-05-09T10:58:05.075Z"
   },
   {
    "duration": 54,
    "start_time": "2025-05-09T10:58:13.613Z"
   },
   {
    "duration": 108,
    "start_time": "2025-05-09T10:58:18.314Z"
   },
   {
    "duration": 644,
    "start_time": "2025-05-09T10:58:20.175Z"
   },
   {
    "duration": 55,
    "start_time": "2025-05-09T10:58:26.837Z"
   },
   {
    "duration": 501,
    "start_time": "2025-05-09T10:58:28.067Z"
   },
   {
    "duration": 5532,
    "start_time": "2025-05-09T10:58:30.989Z"
   },
   {
    "duration": 4,
    "start_time": "2025-05-09T10:58:53.384Z"
   },
   {
    "duration": 1244,
    "start_time": "2025-05-09T10:58:59.628Z"
   },
   {
    "duration": 3,
    "start_time": "2025-05-09T10:59:40.655Z"
   },
   {
    "duration": 84,
    "start_time": "2025-05-09T10:59:42.874Z"
   },
   {
    "duration": 4,
    "start_time": "2025-05-09T10:59:43.181Z"
   },
   {
    "duration": 3,
    "start_time": "2025-05-09T10:59:43.587Z"
   },
   {
    "duration": 2,
    "start_time": "2025-05-09T10:59:43.959Z"
   },
   {
    "duration": 3,
    "start_time": "2025-05-09T10:59:44.340Z"
   },
   {
    "duration": 4,
    "start_time": "2025-05-09T10:59:45.119Z"
   },
   {
    "duration": 2,
    "start_time": "2025-05-09T10:59:45.742Z"
   },
   {
    "duration": 3,
    "start_time": "2025-05-09T10:59:46.122Z"
   },
   {
    "duration": 4,
    "start_time": "2025-05-09T10:59:46.502Z"
   },
   {
    "duration": 64066,
    "start_time": "2025-05-09T10:59:47.078Z"
   },
   {
    "duration": 12,
    "start_time": "2025-05-09T11:00:51.145Z"
   },
   {
    "duration": 0,
    "start_time": "2025-05-09T11:00:51.159Z"
   },
   {
    "duration": 0,
    "start_time": "2025-05-09T11:00:51.160Z"
   },
   {
    "duration": 18,
    "start_time": "2025-05-09T11:00:52.776Z"
   },
   {
    "duration": 4,
    "start_time": "2025-05-09T11:01:06.563Z"
   },
   {
    "duration": 19,
    "start_time": "2025-05-09T11:01:30.706Z"
   },
   {
    "duration": 5,
    "start_time": "2025-05-09T11:01:42.413Z"
   },
   {
    "duration": 15,
    "start_time": "2025-05-09T11:01:51.917Z"
   },
   {
    "duration": 75,
    "start_time": "2025-05-09T11:01:57.527Z"
   },
   {
    "duration": 3,
    "start_time": "2025-05-09T11:02:00.220Z"
   },
   {
    "duration": 3,
    "start_time": "2025-05-09T11:02:01.347Z"
   },
   {
    "duration": 3,
    "start_time": "2025-05-09T11:02:02.841Z"
   },
   {
    "duration": 3,
    "start_time": "2025-05-09T11:02:03.883Z"
   },
   {
    "duration": 3,
    "start_time": "2025-05-09T11:02:04.251Z"
   },
   {
    "duration": 3,
    "start_time": "2025-05-09T11:02:04.487Z"
   },
   {
    "duration": 3,
    "start_time": "2025-05-09T11:02:04.672Z"
   },
   {
    "duration": 13814,
    "start_time": "2025-05-09T11:02:05.484Z"
   },
   {
    "duration": 4,
    "start_time": "2025-05-09T11:02:21.863Z"
   },
   {
    "duration": 922,
    "start_time": "2025-05-09T11:02:25.723Z"
   },
   {
    "duration": 4,
    "start_time": "2025-05-09T11:09:03.645Z"
   },
   {
    "duration": 3,
    "start_time": "2025-05-09T11:09:04.250Z"
   },
   {
    "duration": 805,
    "start_time": "2025-05-09T11:09:04.619Z"
   },
   {
    "duration": 548,
    "start_time": "2025-05-09T11:09:05.427Z"
   },
   {
    "duration": 77,
    "start_time": "2025-05-09T11:09:07.625Z"
   },
   {
    "duration": 1266,
    "start_time": "2025-05-09T11:09:07.864Z"
   },
   {
    "duration": 61,
    "start_time": "2025-05-09T11:09:09.131Z"
   },
   {
    "duration": 950,
    "start_time": "2025-05-09T11:09:09.360Z"
   },
   {
    "duration": 71,
    "start_time": "2025-05-09T11:09:34.857Z"
   },
   {
    "duration": 13,
    "start_time": "2025-05-09T11:09:45.548Z"
   },
   {
    "duration": 61,
    "start_time": "2025-05-09T11:09:59.174Z"
   },
   {
    "duration": 115,
    "start_time": "2025-05-09T11:10:05.554Z"
   },
   {
    "duration": 614,
    "start_time": "2025-05-09T11:10:16.176Z"
   },
   {
    "duration": 9554,
    "start_time": "2025-05-09T11:10:20.136Z"
   },
   {
    "duration": 513,
    "start_time": "2025-05-09T11:10:57.968Z"
   },
   {
    "duration": 60,
    "start_time": "2025-05-09T11:11:19.188Z"
   },
   {
    "duration": 153,
    "start_time": "2025-05-09T11:11:25.295Z"
   },
   {
    "duration": 57,
    "start_time": "2025-05-09T11:11:29.946Z"
   },
   {
    "duration": 13,
    "start_time": "2025-05-09T11:11:54.253Z"
   },
   {
    "duration": 14,
    "start_time": "2025-05-09T11:11:58.237Z"
   },
   {
    "duration": 3,
    "start_time": "2025-05-09T11:12:02.124Z"
   },
   {
    "duration": 3751,
    "start_time": "2025-05-09T11:12:33.996Z"
   },
   {
    "duration": 8267,
    "start_time": "2025-05-09T11:12:55.932Z"
   },
   {
    "duration": 3,
    "start_time": "2025-05-09T11:13:24.224Z"
   },
   {
    "duration": 55,
    "start_time": "2025-05-09T11:13:26.640Z"
   },
   {
    "duration": 3,
    "start_time": "2025-05-09T11:13:27.144Z"
   },
   {
    "duration": 3,
    "start_time": "2025-05-09T11:13:27.666Z"
   },
   {
    "duration": 4,
    "start_time": "2025-05-09T11:13:28.285Z"
   },
   {
    "duration": 3,
    "start_time": "2025-05-09T11:13:29.137Z"
   },
   {
    "duration": 3,
    "start_time": "2025-05-09T11:13:29.423Z"
   },
   {
    "duration": 3,
    "start_time": "2025-05-09T11:13:29.750Z"
   },
   {
    "duration": 3,
    "start_time": "2025-05-09T11:13:30.118Z"
   },
   {
    "duration": 11780,
    "start_time": "2025-05-09T11:13:30.775Z"
   },
   {
    "duration": 4,
    "start_time": "2025-05-09T11:13:42.557Z"
   },
   {
    "duration": 942,
    "start_time": "2025-05-09T11:13:42.562Z"
   },
   {
    "duration": 4,
    "start_time": "2025-05-09T11:14:03.321Z"
   },
   {
    "duration": 2,
    "start_time": "2025-05-09T11:14:03.619Z"
   },
   {
    "duration": 3,
    "start_time": "2025-05-09T11:14:03.860Z"
   },
   {
    "duration": 2,
    "start_time": "2025-05-09T11:14:04.398Z"
   },
   {
    "duration": 3,
    "start_time": "2025-05-09T11:14:04.670Z"
   },
   {
    "duration": 3,
    "start_time": "2025-05-09T11:14:04.911Z"
   },
   {
    "duration": 3,
    "start_time": "2025-05-09T11:14:05.173Z"
   },
   {
    "duration": 177354,
    "start_time": "2025-05-09T11:14:05.635Z"
   },
   {
    "duration": 4,
    "start_time": "2025-05-09T11:17:02.992Z"
   },
   {
    "duration": 840,
    "start_time": "2025-05-09T11:17:02.998Z"
   },
   {
    "duration": 6,
    "start_time": "2025-05-09T11:18:44.615Z"
   },
   {
    "duration": 8131,
    "start_time": "2025-05-09T11:18:45.194Z"
   },
   {
    "duration": 5,
    "start_time": "2025-05-09T11:19:11.579Z"
   },
   {
    "duration": 6,
    "start_time": "2025-05-09T11:19:18.670Z"
   },
   {
    "duration": 7675,
    "start_time": "2025-05-09T11:19:19.264Z"
   },
   {
    "duration": 6,
    "start_time": "2025-05-09T11:21:01.273Z"
   },
   {
    "duration": 30,
    "start_time": "2025-05-09T11:21:01.674Z"
   },
   {
    "duration": 7,
    "start_time": "2025-05-09T11:21:07.481Z"
   },
   {
    "duration": 663,
    "start_time": "2025-05-09T11:21:07.971Z"
   },
   {
    "duration": 16407,
    "start_time": "2025-05-09T11:21:12.872Z"
   },
   {
    "duration": 905,
    "start_time": "2025-05-09T11:21:29.282Z"
   },
   {
    "duration": 6,
    "start_time": "2025-05-09T11:22:31.019Z"
   },
   {
    "duration": 7379,
    "start_time": "2025-05-09T11:23:23.811Z"
   },
   {
    "duration": 2442,
    "start_time": "2025-05-09T11:23:31.192Z"
   },
   {
    "duration": 3,
    "start_time": "2025-05-09T11:23:33.636Z"
   },
   {
    "duration": 1028,
    "start_time": "2025-05-09T11:23:33.640Z"
   },
   {
    "duration": 651,
    "start_time": "2025-05-09T11:23:34.670Z"
   },
   {
    "duration": 93,
    "start_time": "2025-05-09T11:23:35.322Z"
   },
   {
    "duration": 1180,
    "start_time": "2025-05-09T11:23:35.416Z"
   },
   {
    "duration": 47,
    "start_time": "2025-05-09T11:23:36.598Z"
   },
   {
    "duration": 1141,
    "start_time": "2025-05-09T11:23:36.646Z"
   },
   {
    "duration": 2,
    "start_time": "2025-05-09T11:23:37.789Z"
   },
   {
    "duration": 7,
    "start_time": "2025-05-09T11:23:37.793Z"
   },
   {
    "duration": 85,
    "start_time": "2025-05-09T11:23:37.801Z"
   },
   {
    "duration": 61,
    "start_time": "2025-05-09T11:23:37.887Z"
   },
   {
    "duration": 199,
    "start_time": "2025-05-09T11:23:37.952Z"
   },
   {
    "duration": 2,
    "start_time": "2025-05-09T11:23:38.153Z"
   },
   {
    "duration": 473,
    "start_time": "2025-05-09T11:23:38.156Z"
   },
   {
    "duration": 69,
    "start_time": "2025-05-09T11:23:38.631Z"
   },
   {
    "duration": 621,
    "start_time": "2025-05-09T11:23:38.702Z"
   },
   {
    "duration": 3720,
    "start_time": "2025-05-09T11:23:39.325Z"
   },
   {
    "duration": 63,
    "start_time": "2025-05-09T11:23:43.047Z"
   },
   {
    "duration": 5,
    "start_time": "2025-05-09T11:23:43.112Z"
   },
   {
    "duration": 8289,
    "start_time": "2025-05-09T11:23:43.118Z"
   },
   {
    "duration": 1135,
    "start_time": "2025-05-09T11:23:51.409Z"
   },
   {
    "duration": 5,
    "start_time": "2025-05-09T11:23:52.545Z"
   },
   {
    "duration": 35,
    "start_time": "2025-05-09T11:23:52.551Z"
   },
   {
    "duration": 80,
    "start_time": "2025-05-09T11:23:52.588Z"
   },
   {
    "duration": 3,
    "start_time": "2025-05-09T11:23:52.670Z"
   },
   {
    "duration": 10,
    "start_time": "2025-05-09T11:23:52.674Z"
   },
   {
    "duration": 16,
    "start_time": "2025-05-09T11:23:52.686Z"
   },
   {
    "duration": 13,
    "start_time": "2025-05-09T11:23:52.703Z"
   },
   {
    "duration": 9,
    "start_time": "2025-05-09T11:23:52.718Z"
   },
   {
    "duration": 8,
    "start_time": "2025-05-09T11:23:52.729Z"
   },
   {
    "duration": 14,
    "start_time": "2025-05-09T11:23:52.739Z"
   },
   {
    "duration": 12633,
    "start_time": "2025-05-09T11:23:52.754Z"
   },
   {
    "duration": 5,
    "start_time": "2025-05-09T11:24:05.390Z"
   },
   {
    "duration": 886,
    "start_time": "2025-05-09T11:24:05.396Z"
   },
   {
    "duration": 6,
    "start_time": "2025-05-09T11:24:06.284Z"
   },
   {
    "duration": 415,
    "start_time": "2025-05-09T11:24:06.292Z"
   },
   {
    "duration": 1111,
    "start_time": "2025-05-09T11:24:06.709Z"
   },
   {
    "duration": 803,
    "start_time": "2025-05-09T11:24:07.878Z"
   },
   {
    "duration": 188,
    "start_time": "2025-05-09T11:24:14.238Z"
   },
   {
    "duration": 31,
    "start_time": "2025-05-09T11:25:46.759Z"
   },
   {
    "duration": 625679,
    "start_time": "2025-05-09T11:25:51.421Z"
   },
   {
    "duration": 2942,
    "start_time": "2025-05-09T11:36:17.177Z"
   },
   {
    "duration": 94,
    "start_time": "2025-05-09T11:44:44.287Z"
   },
   {
    "duration": 69,
    "start_time": "2025-05-09T11:44:55.813Z"
   },
   {
    "duration": 3,
    "start_time": "2025-05-09T11:46:15.304Z"
   },
   {
    "duration": 89,
    "start_time": "2025-05-09T11:48:13.526Z"
   },
   {
    "duration": 4,
    "start_time": "2025-05-09T11:48:44.478Z"
   },
   {
    "duration": 57,
    "start_time": "2025-05-09T11:48:46.933Z"
   },
   {
    "duration": 3,
    "start_time": "2025-05-09T11:48:47.389Z"
   },
   {
    "duration": 4,
    "start_time": "2025-05-09T11:48:47.834Z"
   },
   {
    "duration": 2,
    "start_time": "2025-05-09T11:48:53.454Z"
   },
   {
    "duration": 4,
    "start_time": "2025-05-09T11:48:56.505Z"
   },
   {
    "duration": 3,
    "start_time": "2025-05-09T11:48:58.966Z"
   },
   {
    "duration": 3,
    "start_time": "2025-05-09T11:49:01.384Z"
   },
   {
    "duration": 5,
    "start_time": "2025-05-09T11:49:49.890Z"
   },
   {
    "duration": 4,
    "start_time": "2025-05-09T11:50:02.669Z"
   },
   {
    "duration": 23,
    "start_time": "2025-05-09T11:50:20.658Z"
   },
   {
    "duration": 4,
    "start_time": "2025-05-09T11:51:42.598Z"
   },
   {
    "duration": 4,
    "start_time": "2025-05-09T11:51:49.237Z"
   },
   {
    "duration": 3,
    "start_time": "2025-05-09T11:54:07.354Z"
   },
   {
    "duration": 4,
    "start_time": "2025-05-09T11:54:07.793Z"
   },
   {
    "duration": 3,
    "start_time": "2025-05-09T11:58:08.797Z"
   },
   {
    "duration": 3,
    "start_time": "2025-05-09T11:58:09.258Z"
   },
   {
    "duration": 5,
    "start_time": "2025-05-09T11:58:09.678Z"
   },
   {
    "duration": 107,
    "start_time": "2025-05-09T11:58:11.631Z"
   },
   {
    "duration": 8555,
    "start_time": "2025-05-09T11:58:17.758Z"
   },
   {
    "duration": 5,
    "start_time": "2025-05-09T11:58:34.102Z"
   },
   {
    "duration": 890,
    "start_time": "2025-05-09T11:58:36.214Z"
   },
   {
    "duration": 3,
    "start_time": "2025-05-09T11:59:21.474Z"
   },
   {
    "duration": 3,
    "start_time": "2025-05-09T11:59:23.216Z"
   },
   {
    "duration": 3,
    "start_time": "2025-05-09T11:59:23.843Z"
   },
   {
    "duration": 3,
    "start_time": "2025-05-09T11:59:24.779Z"
   },
   {
    "duration": 2,
    "start_time": "2025-05-09T11:59:25.105Z"
   },
   {
    "duration": 3,
    "start_time": "2025-05-09T11:59:25.376Z"
   },
   {
    "duration": 2,
    "start_time": "2025-05-09T11:59:26.005Z"
   },
   {
    "duration": 3,
    "start_time": "2025-05-09T11:59:26.326Z"
   },
   {
    "duration": 3,
    "start_time": "2025-05-09T11:59:26.654Z"
   },
   {
    "duration": 3,
    "start_time": "2025-05-09T11:59:27.047Z"
   },
   {
    "duration": 7896,
    "start_time": "2025-05-09T11:59:27.534Z"
   },
   {
    "duration": 46,
    "start_time": "2025-05-09T11:59:35.431Z"
   },
   {
    "duration": 1058,
    "start_time": "2025-05-09T11:59:35.479Z"
   },
   {
    "duration": 4,
    "start_time": "2025-05-09T12:00:11.237Z"
   },
   {
    "duration": 2,
    "start_time": "2025-05-09T12:00:11.708Z"
   },
   {
    "duration": 3,
    "start_time": "2025-05-09T12:00:11.921Z"
   },
   {
    "duration": 2,
    "start_time": "2025-05-09T12:00:12.488Z"
   },
   {
    "duration": 2,
    "start_time": "2025-05-09T12:00:12.788Z"
   },
   {
    "duration": 3,
    "start_time": "2025-05-09T12:00:13.077Z"
   },
   {
    "duration": 4,
    "start_time": "2025-05-09T12:00:13.280Z"
   },
   {
    "duration": 42708,
    "start_time": "2025-05-09T12:00:13.534Z"
   },
   {
    "duration": 4,
    "start_time": "2025-05-09T12:00:56.244Z"
   },
   {
    "duration": 831,
    "start_time": "2025-05-09T12:00:56.250Z"
   },
   {
    "duration": 4,
    "start_time": "2025-05-09T12:01:14.086Z"
   },
   {
    "duration": 2,
    "start_time": "2025-05-09T12:01:14.302Z"
   },
   {
    "duration": 2,
    "start_time": "2025-05-09T12:01:14.542Z"
   },
   {
    "duration": 3,
    "start_time": "2025-05-09T12:01:15.020Z"
   },
   {
    "duration": 3,
    "start_time": "2025-05-09T12:01:16.203Z"
   },
   {
    "duration": 3,
    "start_time": "2025-05-09T12:01:16.423Z"
   },
   {
    "duration": 3,
    "start_time": "2025-05-09T12:01:16.603Z"
   },
   {
    "duration": 7733,
    "start_time": "2025-05-09T12:01:16.806Z"
   },
   {
    "duration": 5,
    "start_time": "2025-05-09T12:01:24.541Z"
   },
   {
    "duration": 904,
    "start_time": "2025-05-09T12:01:24.547Z"
   },
   {
    "duration": 4,
    "start_time": "2025-05-09T12:02:41.706Z"
   },
   {
    "duration": 59,
    "start_time": "2025-05-09T12:02:43.204Z"
   },
   {
    "duration": 16,
    "start_time": "2025-05-09T12:02:43.626Z"
   },
   {
    "duration": 3,
    "start_time": "2025-05-09T12:02:43.945Z"
   },
   {
    "duration": 3,
    "start_time": "2025-05-09T12:02:44.390Z"
   },
   {
    "duration": 3,
    "start_time": "2025-05-09T12:02:44.801Z"
   },
   {
    "duration": 3,
    "start_time": "2025-05-09T12:02:44.994Z"
   },
   {
    "duration": 2,
    "start_time": "2025-05-09T12:02:45.228Z"
   },
   {
    "duration": 3,
    "start_time": "2025-05-09T12:02:45.572Z"
   },
   {
    "duration": 2,
    "start_time": "2025-05-09T12:02:46.221Z"
   },
   {
    "duration": 3,
    "start_time": "2025-05-09T12:02:46.626Z"
   },
   {
    "duration": 2,
    "start_time": "2025-05-09T12:02:46.972Z"
   },
   {
    "duration": 4,
    "start_time": "2025-05-09T12:02:47.518Z"
   },
   {
    "duration": 7644,
    "start_time": "2025-05-09T12:02:48.168Z"
   },
   {
    "duration": 4,
    "start_time": "2025-05-09T12:02:58.879Z"
   },
   {
    "duration": 982,
    "start_time": "2025-05-09T12:03:00.978Z"
   },
   {
    "duration": 4,
    "start_time": "2025-05-09T12:03:29.890Z"
   },
   {
    "duration": 2,
    "start_time": "2025-05-09T12:03:30.913Z"
   },
   {
    "duration": 3,
    "start_time": "2025-05-09T12:03:32.893Z"
   },
   {
    "duration": 3,
    "start_time": "2025-05-09T12:03:33.357Z"
   },
   {
    "duration": 3,
    "start_time": "2025-05-09T12:03:33.570Z"
   },
   {
    "duration": 3,
    "start_time": "2025-05-09T12:03:33.802Z"
   },
   {
    "duration": 2,
    "start_time": "2025-05-09T12:03:34.057Z"
   },
   {
    "duration": 7644,
    "start_time": "2025-05-09T12:03:34.494Z"
   },
   {
    "duration": 5,
    "start_time": "2025-05-09T12:03:42.140Z"
   },
   {
    "duration": 903,
    "start_time": "2025-05-09T12:03:42.147Z"
   },
   {
    "duration": 7741,
    "start_time": "2025-05-09T12:05:18.324Z"
   },
   {
    "duration": 6,
    "start_time": "2025-05-09T12:05:26.067Z"
   },
   {
    "duration": 9,
    "start_time": "2025-05-09T12:05:26.074Z"
   },
   {
    "duration": 929,
    "start_time": "2025-05-09T12:05:26.086Z"
   },
   {
    "duration": 519,
    "start_time": "2025-05-09T12:05:27.017Z"
   },
   {
    "duration": 81,
    "start_time": "2025-05-09T12:05:27.538Z"
   },
   {
    "duration": 1168,
    "start_time": "2025-05-09T12:05:27.621Z"
   },
   {
    "duration": 53,
    "start_time": "2025-05-09T12:05:28.790Z"
   },
   {
    "duration": 1179,
    "start_time": "2025-05-09T12:05:28.845Z"
   },
   {
    "duration": 2,
    "start_time": "2025-05-09T12:05:30.026Z"
   },
   {
    "duration": 48,
    "start_time": "2025-05-09T12:05:30.030Z"
   },
   {
    "duration": 106,
    "start_time": "2025-05-09T12:05:30.080Z"
   },
   {
    "duration": 60,
    "start_time": "2025-05-09T12:05:30.188Z"
   },
   {
    "duration": 127,
    "start_time": "2025-05-09T12:05:30.250Z"
   },
   {
    "duration": 3,
    "start_time": "2025-05-09T12:05:30.378Z"
   },
   {
    "duration": 475,
    "start_time": "2025-05-09T12:05:30.382Z"
   },
   {
    "duration": 70,
    "start_time": "2025-05-09T12:05:30.859Z"
   },
   {
    "duration": 600,
    "start_time": "2025-05-09T12:05:30.932Z"
   },
   {
    "duration": 3877,
    "start_time": "2025-05-09T12:05:31.533Z"
   },
   {
    "duration": 80,
    "start_time": "2025-05-09T12:05:35.412Z"
   },
   {
    "duration": 5,
    "start_time": "2025-05-09T12:05:35.494Z"
   },
   {
    "duration": 7980,
    "start_time": "2025-05-09T12:05:35.501Z"
   },
   {
    "duration": 1102,
    "start_time": "2025-05-09T12:05:43.483Z"
   },
   {
    "duration": 6,
    "start_time": "2025-05-09T12:05:44.588Z"
   },
   {
    "duration": 10,
    "start_time": "2025-05-09T12:05:44.596Z"
   },
   {
    "duration": 71,
    "start_time": "2025-05-09T12:05:44.608Z"
   },
   {
    "duration": 3,
    "start_time": "2025-05-09T12:05:44.681Z"
   },
   {
    "duration": 84,
    "start_time": "2025-05-09T12:05:44.687Z"
   },
   {
    "duration": 8,
    "start_time": "2025-05-09T12:05:44.773Z"
   },
   {
    "duration": 12,
    "start_time": "2025-05-09T12:05:44.782Z"
   },
   {
    "duration": 6,
    "start_time": "2025-05-09T12:05:44.796Z"
   },
   {
    "duration": 14,
    "start_time": "2025-05-09T12:05:44.804Z"
   },
   {
    "duration": 4,
    "start_time": "2025-05-09T12:05:44.820Z"
   },
   {
    "duration": 8344,
    "start_time": "2025-05-09T12:05:44.826Z"
   },
   {
    "duration": 5,
    "start_time": "2025-05-09T12:05:53.177Z"
   },
   {
    "duration": 939,
    "start_time": "2025-05-09T12:05:53.184Z"
   },
   {
    "duration": 852,
    "start_time": "2025-05-09T12:06:43.511Z"
   },
   {
    "duration": 7618,
    "start_time": "2025-05-09T12:07:09.293Z"
   },
   {
    "duration": 1462,
    "start_time": "2025-05-09T12:07:16.913Z"
   },
   {
    "duration": 3,
    "start_time": "2025-05-09T12:07:18.377Z"
   },
   {
    "duration": 1104,
    "start_time": "2025-05-09T12:07:18.383Z"
   },
   {
    "duration": 610,
    "start_time": "2025-05-09T12:07:19.490Z"
   },
   {
    "duration": 86,
    "start_time": "2025-05-09T12:07:20.101Z"
   },
   {
    "duration": 1163,
    "start_time": "2025-05-09T12:07:20.189Z"
   },
   {
    "duration": 77,
    "start_time": "2025-05-09T12:07:21.354Z"
   },
   {
    "duration": 1131,
    "start_time": "2025-05-09T12:07:21.432Z"
   },
   {
    "duration": 3,
    "start_time": "2025-05-09T12:07:22.565Z"
   },
   {
    "duration": 14,
    "start_time": "2025-05-09T12:07:22.576Z"
   },
   {
    "duration": 86,
    "start_time": "2025-05-09T12:07:22.592Z"
   },
   {
    "duration": 116,
    "start_time": "2025-05-09T12:07:22.679Z"
   },
   {
    "duration": 145,
    "start_time": "2025-05-09T12:07:22.798Z"
   },
   {
    "duration": 3,
    "start_time": "2025-05-09T12:07:22.945Z"
   },
   {
    "duration": 495,
    "start_time": "2025-05-09T12:07:22.951Z"
   },
   {
    "duration": 63,
    "start_time": "2025-05-09T12:07:23.448Z"
   },
   {
    "duration": 626,
    "start_time": "2025-05-09T12:07:23.513Z"
   },
   {
    "duration": 4200,
    "start_time": "2025-05-09T12:07:24.141Z"
   },
   {
    "duration": 77,
    "start_time": "2025-05-09T12:07:28.343Z"
   },
   {
    "duration": 6,
    "start_time": "2025-05-09T12:07:28.422Z"
   },
   {
    "duration": 8793,
    "start_time": "2025-05-09T12:07:28.429Z"
   },
   {
    "duration": 1200,
    "start_time": "2025-05-09T12:07:37.225Z"
   },
   {
    "duration": 6,
    "start_time": "2025-05-09T12:07:38.428Z"
   },
   {
    "duration": 17,
    "start_time": "2025-05-09T12:07:38.436Z"
   },
   {
    "duration": 88,
    "start_time": "2025-05-09T12:07:38.455Z"
   },
   {
    "duration": 3,
    "start_time": "2025-05-09T12:07:38.545Z"
   },
   {
    "duration": 18,
    "start_time": "2025-05-09T12:07:38.551Z"
   },
   {
    "duration": 30,
    "start_time": "2025-05-09T12:07:38.570Z"
   },
   {
    "duration": 10,
    "start_time": "2025-05-09T12:07:38.602Z"
   },
   {
    "duration": 21,
    "start_time": "2025-05-09T12:07:38.614Z"
   },
   {
    "duration": 5,
    "start_time": "2025-05-09T12:07:38.637Z"
   },
   {
    "duration": 32,
    "start_time": "2025-05-09T12:07:38.643Z"
   },
   {
    "duration": 8998,
    "start_time": "2025-05-09T12:07:38.677Z"
   },
   {
    "duration": 6,
    "start_time": "2025-05-09T12:07:47.677Z"
   },
   {
    "duration": 942,
    "start_time": "2025-05-09T12:07:47.685Z"
   },
   {
    "duration": 6,
    "start_time": "2025-05-09T12:07:48.629Z"
   },
   {
    "duration": 450,
    "start_time": "2025-05-09T12:07:48.636Z"
   },
   {
    "duration": 1097,
    "start_time": "2025-05-09T12:07:49.088Z"
   },
   {
    "duration": 860,
    "start_time": "2025-05-09T12:07:50.197Z"
   },
   {
    "duration": 3,
    "start_time": "2025-05-09T12:07:51.058Z"
   },
   {
    "duration": 30,
    "start_time": "2025-05-09T12:07:51.063Z"
   },
   {
    "duration": 957,
    "start_time": "2025-05-09T12:09:14.938Z"
   },
   {
    "duration": 582,
    "start_time": "2025-05-09T12:09:15.900Z"
   },
   {
    "duration": 83,
    "start_time": "2025-05-09T12:09:16.484Z"
   },
   {
    "duration": 1265,
    "start_time": "2025-05-09T12:09:16.575Z"
   },
   {
    "duration": 62,
    "start_time": "2025-05-09T12:09:17.842Z"
   },
   {
    "duration": 1220,
    "start_time": "2025-05-09T12:09:17.906Z"
   },
   {
    "duration": 2,
    "start_time": "2025-05-09T12:09:19.129Z"
   },
   {
    "duration": 4,
    "start_time": "2025-05-09T12:09:19.134Z"
   },
   {
    "duration": 157,
    "start_time": "2025-05-09T12:09:19.807Z"
   },
   {
    "duration": 1281,
    "start_time": "2025-05-09T12:09:20.042Z"
   },
   {
    "duration": 0,
    "start_time": "2025-05-09T12:09:21.325Z"
   },
   {
    "duration": 69,
    "start_time": "2025-05-09T12:09:44.092Z"
   },
   {
    "duration": 148,
    "start_time": "2025-05-09T12:09:49.060Z"
   },
   {
    "duration": 3,
    "start_time": "2025-05-09T12:09:50.435Z"
   },
   {
    "duration": 372,
    "start_time": "2025-05-09T12:09:50.664Z"
   },
   {
    "duration": 1236,
    "start_time": "2025-05-09T12:09:51.120Z"
   },
   {
    "duration": 0,
    "start_time": "2025-05-09T12:09:52.358Z"
   },
   {
    "duration": 47,
    "start_time": "2025-05-09T12:10:01.417Z"
   },
   {
    "duration": 623,
    "start_time": "2025-05-09T12:10:14.443Z"
   },
   {
    "duration": 3499,
    "start_time": "2025-05-09T12:10:17.714Z"
   },
   {
    "duration": 5,
    "start_time": "2025-05-09T12:10:38.028Z"
   },
   {
    "duration": 5,
    "start_time": "2025-05-09T12:10:38.277Z"
   },
   {
    "duration": 49,
    "start_time": "2025-05-09T12:10:39.786Z"
   },
   {
    "duration": 4,
    "start_time": "2025-05-09T12:10:48.478Z"
   },
   {
    "duration": 3,
    "start_time": "2025-05-09T12:10:48.810Z"
   },
   {
    "duration": 3,
    "start_time": "2025-05-09T12:10:49.367Z"
   },
   {
    "duration": 4,
    "start_time": "2025-05-09T12:10:50.112Z"
   },
   {
    "duration": 2,
    "start_time": "2025-05-09T12:10:50.538Z"
   },
   {
    "duration": 4,
    "start_time": "2025-05-09T12:10:50.991Z"
   },
   {
    "duration": 3,
    "start_time": "2025-05-09T12:10:51.806Z"
   },
   {
    "duration": 94437,
    "start_time": "2025-05-09T12:10:52.400Z"
   },
   {
    "duration": 4,
    "start_time": "2025-05-09T12:12:26.842Z"
   },
   {
    "duration": 894,
    "start_time": "2025-05-09T12:12:26.848Z"
   },
   {
    "duration": 3,
    "start_time": "2025-05-09T12:13:16.187Z"
   },
   {
    "duration": 850,
    "start_time": "2025-05-09T12:13:16.696Z"
   },
   {
    "duration": 562,
    "start_time": "2025-05-09T12:13:17.547Z"
   },
   {
    "duration": 95,
    "start_time": "2025-05-09T12:13:18.112Z"
   },
   {
    "duration": 1194,
    "start_time": "2025-05-09T12:13:18.210Z"
   },
   {
    "duration": 51,
    "start_time": "2025-05-09T12:13:19.406Z"
   },
   {
    "duration": 1053,
    "start_time": "2025-05-09T12:13:19.459Z"
   },
   {
    "duration": 3,
    "start_time": "2025-05-09T12:13:20.514Z"
   },
   {
    "duration": 72,
    "start_time": "2025-05-09T12:13:20.521Z"
   },
   {
    "duration": 73,
    "start_time": "2025-05-09T12:13:21.338Z"
   },
   {
    "duration": 62,
    "start_time": "2025-05-09T12:13:21.901Z"
   },
   {
    "duration": 128,
    "start_time": "2025-05-09T12:13:34.140Z"
   },
   {
    "duration": 2,
    "start_time": "2025-05-09T12:13:34.904Z"
   },
   {
    "duration": 396,
    "start_time": "2025-05-09T12:13:35.145Z"
   },
   {
    "duration": 69,
    "start_time": "2025-05-09T12:13:36.056Z"
   },
   {
    "duration": 16,
    "start_time": "2025-05-09T12:13:36.538Z"
   },
   {
    "duration": 3962,
    "start_time": "2025-05-09T12:13:37.105Z"
   },
   {
    "duration": 596,
    "start_time": "2025-05-09T12:13:43.933Z"
   },
   {
    "duration": 8,
    "start_time": "2025-05-09T12:14:05.991Z"
   },
   {
    "duration": 9,
    "start_time": "2025-05-09T12:14:06.386Z"
   },
   {
    "duration": 6,
    "start_time": "2025-05-09T12:14:06.696Z"
   },
   {
    "duration": 3,
    "start_time": "2025-05-09T12:14:07.484Z"
   },
   {
    "duration": 6,
    "start_time": "2025-05-09T12:14:07.786Z"
   },
   {
    "duration": 3,
    "start_time": "2025-05-09T12:14:08.208Z"
   },
   {
    "duration": 3,
    "start_time": "2025-05-09T12:14:09.062Z"
   },
   {
    "duration": 1651,
    "start_time": "2025-05-09T12:14:12.204Z"
   },
   {
    "duration": 55,
    "start_time": "2025-05-09T12:14:39.233Z"
   },
   {
    "duration": 3,
    "start_time": "2025-05-09T12:14:39.522Z"
   },
   {
    "duration": 3,
    "start_time": "2025-05-09T12:14:39.739Z"
   },
   {
    "duration": 3,
    "start_time": "2025-05-09T12:14:39.935Z"
   },
   {
    "duration": 3,
    "start_time": "2025-05-09T12:14:40.360Z"
   },
   {
    "duration": 3,
    "start_time": "2025-05-09T12:14:40.606Z"
   },
   {
    "duration": 3,
    "start_time": "2025-05-09T12:14:40.880Z"
   },
   {
    "duration": 3,
    "start_time": "2025-05-09T12:14:41.105Z"
   },
   {
    "duration": 168795,
    "start_time": "2025-05-09T12:14:41.887Z"
   },
   {
    "duration": 5,
    "start_time": "2025-05-09T12:17:30.685Z"
   },
   {
    "duration": 730,
    "start_time": "2025-05-09T12:17:30.692Z"
   },
   {
    "duration": 6,
    "start_time": "2025-05-09T12:22:50.280Z"
   },
   {
    "duration": 4,
    "start_time": "2025-05-09T12:23:06.741Z"
   },
   {
    "duration": 3,
    "start_time": "2025-05-09T12:23:22.358Z"
   },
   {
    "duration": 139579,
    "start_time": "2025-05-09T12:24:42.460Z"
   },
   {
    "duration": 0,
    "start_time": "2025-05-09T12:27:02.059Z"
   },
   {
    "duration": 0,
    "start_time": "2025-05-09T12:27:02.078Z"
   },
   {
    "duration": 157,
    "start_time": "2025-05-09T12:27:03.458Z"
   },
   {
    "duration": 141392,
    "start_time": "2025-05-09T12:27:10.047Z"
   },
   {
    "duration": 4,
    "start_time": "2025-05-09T12:29:31.442Z"
   },
   {
    "duration": 1006,
    "start_time": "2025-05-09T12:29:31.447Z"
   },
   {
    "duration": 17,
    "start_time": "2025-05-09T12:30:14.267Z"
   },
   {
    "duration": 26,
    "start_time": "2025-05-09T12:34:30.265Z"
   },
   {
    "duration": 13,
    "start_time": "2025-05-09T12:34:35.556Z"
   },
   {
    "duration": 5,
    "start_time": "2025-05-09T12:35:48.835Z"
   },
   {
    "duration": 11,
    "start_time": "2025-05-09T12:35:58.197Z"
   },
   {
    "duration": 893,
    "start_time": "2025-05-09T12:36:00.358Z"
   },
   {
    "duration": 13,
    "start_time": "2025-05-09T12:36:03.226Z"
   },
   {
    "duration": 24,
    "start_time": "2025-05-09T12:36:06.769Z"
   },
   {
    "duration": 4,
    "start_time": "2025-05-09T12:36:20.670Z"
   },
   {
    "duration": 137452,
    "start_time": "2025-05-09T12:36:28.336Z"
   },
   {
    "duration": 9,
    "start_time": "2025-05-09T12:38:45.794Z"
   },
   {
    "duration": 1000,
    "start_time": "2025-05-09T12:38:45.808Z"
   },
   {
    "duration": 15,
    "start_time": "2025-05-09T12:38:46.810Z"
   },
   {
    "duration": 109,
    "start_time": "2025-05-09T12:38:46.827Z"
   },
   {
    "duration": 86,
    "start_time": "2025-05-09T12:38:54.598Z"
   },
   {
    "duration": 23,
    "start_time": "2025-05-09T12:38:58.990Z"
   },
   {
    "duration": 13,
    "start_time": "2025-05-09T12:42:38.499Z"
   },
   {
    "duration": 9,
    "start_time": "2025-05-09T12:42:57.549Z"
   },
   {
    "duration": 4,
    "start_time": "2025-05-09T12:43:20.522Z"
   },
   {
    "duration": 10,
    "start_time": "2025-05-09T12:43:22.908Z"
   },
   {
    "duration": 671,
    "start_time": "2025-05-09T12:43:26.390Z"
   },
   {
    "duration": 559,
    "start_time": "2025-05-09T12:44:02.479Z"
   },
   {
    "duration": 80,
    "start_time": "2025-05-09T13:08:09.594Z"
   },
   {
    "duration": 708,
    "start_time": "2025-05-09T13:08:35.218Z"
   },
   {
    "duration": 2,
    "start_time": "2025-05-09T13:12:19.063Z"
   },
   {
    "duration": 806,
    "start_time": "2025-05-09T13:12:19.242Z"
   },
   {
    "duration": 508,
    "start_time": "2025-05-09T13:12:20.050Z"
   },
   {
    "duration": 75,
    "start_time": "2025-05-09T13:12:20.560Z"
   },
   {
    "duration": 1118,
    "start_time": "2025-05-09T13:12:20.637Z"
   },
   {
    "duration": 53,
    "start_time": "2025-05-09T13:12:21.757Z"
   },
   {
    "duration": 1045,
    "start_time": "2025-05-09T13:12:21.812Z"
   },
   {
    "duration": 3,
    "start_time": "2025-05-09T13:12:23.258Z"
   },
   {
    "duration": 3,
    "start_time": "2025-05-09T13:12:23.870Z"
   },
   {
    "duration": 65,
    "start_time": "2025-05-09T13:12:25.227Z"
   },
   {
    "duration": 59,
    "start_time": "2025-05-09T13:12:25.567Z"
   },
   {
    "duration": 62,
    "start_time": "2025-05-09T13:12:28.386Z"
   },
   {
    "duration": 3,
    "start_time": "2025-05-09T13:12:47.313Z"
   },
   {
    "duration": 832,
    "start_time": "2025-05-09T13:12:47.533Z"
   },
   {
    "duration": 493,
    "start_time": "2025-05-09T13:12:48.366Z"
   },
   {
    "duration": 79,
    "start_time": "2025-05-09T13:12:48.861Z"
   },
   {
    "duration": 1193,
    "start_time": "2025-05-09T13:12:48.942Z"
   },
   {
    "duration": 62,
    "start_time": "2025-05-09T13:12:50.137Z"
   },
   {
    "duration": 1208,
    "start_time": "2025-05-09T13:12:50.201Z"
   },
   {
    "duration": 2,
    "start_time": "2025-05-09T13:12:51.411Z"
   },
   {
    "duration": 118,
    "start_time": "2025-05-09T13:12:51.415Z"
   },
   {
    "duration": 71,
    "start_time": "2025-05-09T13:12:51.793Z"
   },
   {
    "duration": 92,
    "start_time": "2025-05-09T13:12:52.033Z"
   },
   {
    "duration": 63,
    "start_time": "2025-05-09T13:12:56.531Z"
   },
   {
    "duration": 115,
    "start_time": "2025-05-09T13:12:57.728Z"
   },
   {
    "duration": 3,
    "start_time": "2025-05-09T13:12:58.706Z"
   },
   {
    "duration": 430,
    "start_time": "2025-05-09T13:12:58.995Z"
   },
   {
    "duration": 66,
    "start_time": "2025-05-09T13:12:59.427Z"
   },
   {
    "duration": 597,
    "start_time": "2025-05-09T13:13:00.535Z"
   },
   {
    "duration": 4268,
    "start_time": "2025-05-09T13:13:05.872Z"
   },
   {
    "duration": 16,
    "start_time": "2025-05-09T13:13:47.737Z"
   },
   {
    "duration": 63,
    "start_time": "2025-05-09T13:13:55.939Z"
   },
   {
    "duration": 6,
    "start_time": "2025-05-09T13:13:57.580Z"
   },
   {
    "duration": 7855,
    "start_time": "2025-05-09T13:13:57.924Z"
   },
   {
    "duration": 1119,
    "start_time": "2025-05-09T13:14:08.211Z"
   },
   {
    "duration": 6,
    "start_time": "2025-05-09T13:14:10.983Z"
   },
   {
    "duration": 3,
    "start_time": "2025-05-09T13:14:11.411Z"
   },
   {
    "duration": 2,
    "start_time": "2025-05-09T13:14:11.754Z"
   },
   {
    "duration": 86,
    "start_time": "2025-05-09T13:14:12.039Z"
   },
   {
    "duration": 2,
    "start_time": "2025-05-09T13:14:12.328Z"
   },
   {
    "duration": 3,
    "start_time": "2025-05-09T13:14:12.595Z"
   },
   {
    "duration": 3,
    "start_time": "2025-05-09T13:14:13.125Z"
   },
   {
    "duration": 3,
    "start_time": "2025-05-09T13:14:13.406Z"
   },
   {
    "duration": 3,
    "start_time": "2025-05-09T13:14:13.662Z"
   },
   {
    "duration": 4,
    "start_time": "2025-05-09T13:14:13.955Z"
   },
   {
    "duration": 30465,
    "start_time": "2025-05-09T13:14:14.730Z"
   },
   {
    "duration": 4,
    "start_time": "2025-05-09T13:14:45.197Z"
   },
   {
    "duration": 732,
    "start_time": "2025-05-09T13:14:45.203Z"
   },
   {
    "duration": 3224,
    "start_time": "2025-05-09T13:16:52.513Z"
   },
   {
    "duration": 69,
    "start_time": "2025-05-09T13:21:06.872Z"
   },
   {
    "duration": 89,
    "start_time": "2025-05-09T13:21:14.093Z"
   },
   {
    "duration": 3,
    "start_time": "2025-05-09T13:21:21.322Z"
   },
   {
    "duration": 3,
    "start_time": "2025-05-09T13:21:22.153Z"
   },
   {
    "duration": 16825,
    "start_time": "2025-05-09T13:21:22.701Z"
   },
   {
    "duration": 10,
    "start_time": "2025-05-09T13:21:55.706Z"
   },
   {
    "duration": 14,
    "start_time": "2025-05-09T13:21:56.918Z"
   },
   {
    "duration": 3,
    "start_time": "2025-05-09T13:22:13.046Z"
   },
   {
    "duration": 4,
    "start_time": "2025-05-09T13:22:13.497Z"
   },
   {
    "duration": 82270,
    "start_time": "2025-05-09T13:22:13.899Z"
   },
   {
    "duration": 5,
    "start_time": "2025-05-09T13:24:03.980Z"
   },
   {
    "duration": 688,
    "start_time": "2025-05-09T13:24:06.210Z"
   },
   {
    "duration": 4,
    "start_time": "2025-05-09T13:26:26.348Z"
   },
   {
    "duration": 3,
    "start_time": "2025-05-09T13:26:33.631Z"
   },
   {
    "duration": 3,
    "start_time": "2025-05-09T13:26:34.058Z"
   },
   {
    "duration": 3,
    "start_time": "2025-05-09T13:26:34.423Z"
   },
   {
    "duration": 83360,
    "start_time": "2025-05-09T13:26:35.325Z"
   },
   {
    "duration": 5,
    "start_time": "2025-05-09T13:27:58.688Z"
   },
   {
    "duration": 689,
    "start_time": "2025-05-09T13:27:58.695Z"
   },
   {
    "duration": 5,
    "start_time": "2025-05-09T13:32:53.821Z"
   },
   {
    "duration": 3,
    "start_time": "2025-05-09T13:33:06.153Z"
   },
   {
    "duration": 2,
    "start_time": "2025-05-09T13:33:06.433Z"
   },
   {
    "duration": 3,
    "start_time": "2025-05-09T13:33:06.631Z"
   },
   {
    "duration": 3,
    "start_time": "2025-05-09T13:33:06.883Z"
   },
   {
    "duration": 79520,
    "start_time": "2025-05-09T13:33:07.251Z"
   },
   {
    "duration": 6,
    "start_time": "2025-05-09T13:34:26.776Z"
   },
   {
    "duration": 705,
    "start_time": "2025-05-09T13:34:26.784Z"
   },
   {
    "duration": 4,
    "start_time": "2025-05-09T13:34:46.883Z"
   },
   {
    "duration": 3,
    "start_time": "2025-05-09T13:34:47.560Z"
   },
   {
    "duration": 3,
    "start_time": "2025-05-09T13:34:47.871Z"
   },
   {
    "duration": 81903,
    "start_time": "2025-05-09T13:34:48.153Z"
   },
   {
    "duration": 4,
    "start_time": "2025-05-09T13:36:10.058Z"
   },
   {
    "duration": 741,
    "start_time": "2025-05-09T13:36:10.064Z"
   },
   {
    "duration": 4,
    "start_time": "2025-05-09T13:36:17.568Z"
   },
   {
    "duration": 659,
    "start_time": "2025-05-09T13:36:18.439Z"
   },
   {
    "duration": 4,
    "start_time": "2025-05-09T13:40:42.617Z"
   },
   {
    "duration": 3,
    "start_time": "2025-05-09T13:40:43.888Z"
   },
   {
    "duration": 28995,
    "start_time": "2025-05-09T13:40:44.523Z"
   },
   {
    "duration": 10,
    "start_time": "2025-05-09T13:41:13.520Z"
   },
   {
    "duration": 0,
    "start_time": "2025-05-09T13:41:13.531Z"
   },
   {
    "duration": 4,
    "start_time": "2025-05-09T13:42:52.474Z"
   },
   {
    "duration": 4,
    "start_time": "2025-05-09T13:42:53.019Z"
   },
   {
    "duration": 3967751,
    "start_time": "2025-05-09T13:42:53.710Z"
   },
   {
    "duration": 10,
    "start_time": "2025-05-09T14:49:01.463Z"
   },
   {
    "duration": 0,
    "start_time": "2025-05-09T14:49:01.474Z"
   },
   {
    "duration": 4,
    "start_time": "2025-05-09T14:49:20.057Z"
   },
   {
    "duration": 6,
    "start_time": "2025-05-09T14:49:20.373Z"
   },
   {
    "duration": 156820,
    "start_time": "2025-05-09T14:49:20.973Z"
   },
   {
    "duration": 6,
    "start_time": "2025-05-09T14:51:57.799Z"
   },
   {
    "duration": 743,
    "start_time": "2025-05-09T14:51:57.807Z"
   },
   {
    "duration": 3,
    "start_time": "2025-05-09T14:54:06.750Z"
   },
   {
    "duration": 3,
    "start_time": "2025-05-09T14:54:07.098Z"
   },
   {
    "duration": 3,
    "start_time": "2025-05-09T14:54:07.454Z"
   },
   {
    "duration": 3,
    "start_time": "2025-05-09T14:54:30.408Z"
   },
   {
    "duration": 3,
    "start_time": "2025-05-09T14:54:30.738Z"
   },
   {
    "duration": 3,
    "start_time": "2025-05-09T14:54:30.981Z"
   },
   {
    "duration": 3,
    "start_time": "2025-05-09T14:54:31.279Z"
   },
   {
    "duration": 72845,
    "start_time": "2025-05-09T14:54:31.696Z"
   },
   {
    "duration": 11,
    "start_time": "2025-05-09T14:55:44.542Z"
   },
   {
    "duration": 0,
    "start_time": "2025-05-09T14:55:44.554Z"
   },
   {
    "duration": 0,
    "start_time": "2025-05-09T14:55:44.556Z"
   },
   {
    "duration": 3,
    "start_time": "2025-05-09T14:55:47.040Z"
   },
   {
    "duration": 3,
    "start_time": "2025-05-09T14:55:47.414Z"
   },
   {
    "duration": 4,
    "start_time": "2025-05-09T14:55:47.927Z"
   },
   {
    "duration": 23616,
    "start_time": "2025-05-09T14:55:48.651Z"
   },
   {
    "duration": 3,
    "start_time": "2025-05-09T14:57:21.888Z"
   },
   {
    "duration": 17367,
    "start_time": "2025-05-09T14:57:22.111Z"
   },
   {
    "duration": 5,
    "start_time": "2025-05-09T14:57:39.480Z"
   },
   {
    "duration": 729,
    "start_time": "2025-05-09T14:57:39.486Z"
   },
   {
    "duration": 2,
    "start_time": "2025-05-09T14:57:40.217Z"
   },
   {
    "duration": 15,
    "start_time": "2025-05-09T14:57:40.221Z"
   },
   {
    "duration": 88996,
    "start_time": "2025-05-09T14:57:40.237Z"
   },
   {
    "duration": 355,
    "start_time": "2025-05-09T14:59:09.235Z"
   },
   {
    "duration": 179,
    "start_time": "2025-05-09T14:59:17.583Z"
   },
   {
    "duration": 719,
    "start_time": "2025-05-09T14:59:40.072Z"
   },
   {
    "duration": 4,
    "start_time": "2025-05-09T15:03:55.678Z"
   },
   {
    "duration": 3,
    "start_time": "2025-05-09T15:03:56.010Z"
   },
   {
    "duration": 91013,
    "start_time": "2025-05-09T15:03:56.465Z"
   },
   {
    "duration": 713,
    "start_time": "2025-05-09T15:05:27.481Z"
   },
   {
    "duration": 76,
    "start_time": "2025-05-09T15:08:08.878Z"
   },
   {
    "duration": 3,
    "start_time": "2025-05-09T15:08:11.279Z"
   },
   {
    "duration": 73,
    "start_time": "2025-05-09T15:08:13.140Z"
   },
   {
    "duration": 3,
    "start_time": "2025-05-09T15:08:16.424Z"
   },
   {
    "duration": 14,
    "start_time": "2025-05-09T15:09:33.415Z"
   },
   {
    "duration": 4,
    "start_time": "2025-05-09T15:09:33.714Z"
   },
   {
    "duration": 10,
    "start_time": "2025-05-09T15:09:38.886Z"
   },
   {
    "duration": 3,
    "start_time": "2025-05-09T15:09:56.177Z"
   },
   {
    "duration": 3,
    "start_time": "2025-05-09T15:09:57.094Z"
   },
   {
    "duration": 91138,
    "start_time": "2025-05-09T15:09:57.460Z"
   },
   {
    "duration": 813,
    "start_time": "2025-05-09T15:11:28.600Z"
   },
   {
    "duration": 3,
    "start_time": "2025-05-09T15:11:29.414Z"
   },
   {
    "duration": 98,
    "start_time": "2025-05-09T15:11:29.418Z"
   },
   {
    "duration": 463079,
    "start_time": "2025-05-09T15:11:29.518Z"
   },
   {
    "duration": 12,
    "start_time": "2025-05-09T15:19:12.599Z"
   },
   {
    "duration": 0,
    "start_time": "2025-05-09T15:19:12.613Z"
   },
   {
    "duration": 3,
    "start_time": "2025-05-09T15:19:49.339Z"
   },
   {
    "duration": 3,
    "start_time": "2025-05-09T15:20:07.004Z"
   },
   {
    "duration": 7120,
    "start_time": "2025-05-09T15:21:14.721Z"
   },
   {
    "duration": 1358,
    "start_time": "2025-05-09T15:21:21.844Z"
   },
   {
    "duration": 3,
    "start_time": "2025-05-09T15:21:23.204Z"
   },
   {
    "duration": 912,
    "start_time": "2025-05-09T15:21:23.209Z"
   },
   {
    "duration": 606,
    "start_time": "2025-05-09T15:21:24.123Z"
   },
   {
    "duration": 81,
    "start_time": "2025-05-09T15:21:24.733Z"
   },
   {
    "duration": 1064,
    "start_time": "2025-05-09T15:21:24.816Z"
   },
   {
    "duration": 52,
    "start_time": "2025-05-09T15:21:25.882Z"
   },
   {
    "duration": 1012,
    "start_time": "2025-05-09T15:21:25.936Z"
   },
   {
    "duration": 2,
    "start_time": "2025-05-09T15:21:26.951Z"
   },
   {
    "duration": 11,
    "start_time": "2025-05-09T15:21:26.955Z"
   },
   {
    "duration": 74,
    "start_time": "2025-05-09T15:21:26.967Z"
   },
   {
    "duration": 70,
    "start_time": "2025-05-09T15:21:27.043Z"
   },
   {
    "duration": 74,
    "start_time": "2025-05-09T15:21:27.114Z"
   },
   {
    "duration": 158,
    "start_time": "2025-05-09T15:21:27.190Z"
   },
   {
    "duration": 2,
    "start_time": "2025-05-09T15:21:27.350Z"
   },
   {
    "duration": 461,
    "start_time": "2025-05-09T15:21:27.354Z"
   },
   {
    "duration": 65,
    "start_time": "2025-05-09T15:21:27.817Z"
   },
   {
    "duration": 587,
    "start_time": "2025-05-09T15:21:27.884Z"
   },
   {
    "duration": 3276,
    "start_time": "2025-05-09T15:21:28.473Z"
   },
   {
    "duration": 67,
    "start_time": "2025-05-09T15:21:31.752Z"
   },
   {
    "duration": 36,
    "start_time": "2025-05-09T15:21:31.822Z"
   },
   {
    "duration": 7450,
    "start_time": "2025-05-09T15:21:31.860Z"
   },
   {
    "duration": 1078,
    "start_time": "2025-05-09T15:21:39.312Z"
   },
   {
    "duration": 5,
    "start_time": "2025-05-09T15:21:40.392Z"
   },
   {
    "duration": 7,
    "start_time": "2025-05-09T15:21:40.399Z"
   },
   {
    "duration": 18,
    "start_time": "2025-05-09T15:21:40.408Z"
   },
   {
    "duration": 96,
    "start_time": "2025-05-09T15:21:40.430Z"
   },
   {
    "duration": 3,
    "start_time": "2025-05-09T15:21:40.528Z"
   },
   {
    "duration": 4,
    "start_time": "2025-05-09T15:21:40.533Z"
   },
   {
    "duration": 28,
    "start_time": "2025-05-09T15:21:40.539Z"
   },
   {
    "duration": 6,
    "start_time": "2025-05-09T15:21:40.569Z"
   },
   {
    "duration": 7,
    "start_time": "2025-05-09T15:21:40.577Z"
   },
   {
    "duration": 16,
    "start_time": "2025-05-09T15:21:40.586Z"
   },
   {
    "duration": 10384,
    "start_time": "2025-05-09T15:21:40.603Z"
   },
   {
    "duration": 5,
    "start_time": "2025-05-09T15:21:50.989Z"
   },
   {
    "duration": 708,
    "start_time": "2025-05-09T15:21:50.996Z"
   },
   {
    "duration": 3,
    "start_time": "2025-05-09T15:21:51.705Z"
   },
   {
    "duration": 15,
    "start_time": "2025-05-09T15:21:51.710Z"
   },
   {
    "duration": 52607,
    "start_time": "2025-05-09T15:21:51.727Z"
   },
   {
    "duration": 4,
    "start_time": "2025-05-09T15:22:44.336Z"
   },
   {
    "duration": 654,
    "start_time": "2025-05-09T15:22:44.341Z"
   },
   {
    "duration": 3,
    "start_time": "2025-05-09T15:22:44.996Z"
   },
   {
    "duration": 118,
    "start_time": "2025-05-09T15:22:45.001Z"
   },
   {
    "duration": 411313,
    "start_time": "2025-05-09T15:22:45.120Z"
   },
   {
    "duration": 11,
    "start_time": "2025-05-09T15:29:36.435Z"
   },
   {
    "duration": 0,
    "start_time": "2025-05-09T15:29:36.448Z"
   },
   {
    "duration": 0,
    "start_time": "2025-05-09T15:29:36.449Z"
   },
   {
    "duration": 0,
    "start_time": "2025-05-09T15:29:36.450Z"
   },
   {
    "duration": 0,
    "start_time": "2025-05-09T15:29:36.451Z"
   },
   {
    "duration": 0,
    "start_time": "2025-05-09T15:29:36.452Z"
   },
   {
    "duration": 0,
    "start_time": "2025-05-09T15:29:36.453Z"
   },
   {
    "duration": 0,
    "start_time": "2025-05-09T15:29:36.454Z"
   },
   {
    "duration": 0,
    "start_time": "2025-05-09T15:29:36.455Z"
   },
   {
    "duration": 4,
    "start_time": "2025-05-09T15:29:41.469Z"
   },
   {
    "duration": 266402,
    "start_time": "2025-05-09T15:29:42.214Z"
   },
   {
    "duration": 4,
    "start_time": "2025-05-09T15:34:08.617Z"
   },
   {
    "duration": 346,
    "start_time": "2025-05-09T15:34:08.623Z"
   },
   {
    "duration": 0,
    "start_time": "2025-05-09T15:34:08.971Z"
   },
   {
    "duration": 0,
    "start_time": "2025-05-09T15:34:08.972Z"
   },
   {
    "duration": 0,
    "start_time": "2025-05-09T15:34:08.973Z"
   },
   {
    "duration": 0,
    "start_time": "2025-05-09T15:34:08.974Z"
   },
   {
    "duration": 0,
    "start_time": "2025-05-09T15:34:08.976Z"
   },
   {
    "duration": 15,
    "start_time": "2025-05-09T15:34:21.805Z"
   },
   {
    "duration": 3,
    "start_time": "2025-05-09T15:34:28.289Z"
   },
   {
    "duration": 7172,
    "start_time": "2025-05-09T15:36:40.480Z"
   },
   {
    "duration": 1364,
    "start_time": "2025-05-09T15:36:47.655Z"
   },
   {
    "duration": 2,
    "start_time": "2025-05-09T15:36:49.021Z"
   },
   {
    "duration": 874,
    "start_time": "2025-05-09T15:36:49.025Z"
   },
   {
    "duration": 579,
    "start_time": "2025-05-09T15:36:49.902Z"
   },
   {
    "duration": 72,
    "start_time": "2025-05-09T15:36:50.483Z"
   },
   {
    "duration": 1057,
    "start_time": "2025-05-09T15:36:50.557Z"
   },
   {
    "duration": 45,
    "start_time": "2025-05-09T15:36:51.616Z"
   },
   {
    "duration": 1041,
    "start_time": "2025-05-09T15:36:51.662Z"
   },
   {
    "duration": 2,
    "start_time": "2025-05-09T15:36:52.704Z"
   },
   {
    "duration": 17,
    "start_time": "2025-05-09T15:36:52.708Z"
   },
   {
    "duration": 84,
    "start_time": "2025-05-09T15:36:52.727Z"
   },
   {
    "duration": 63,
    "start_time": "2025-05-09T15:36:52.813Z"
   },
   {
    "duration": 115,
    "start_time": "2025-05-09T15:36:52.879Z"
   },
   {
    "duration": 155,
    "start_time": "2025-05-09T15:36:52.995Z"
   },
   {
    "duration": 2,
    "start_time": "2025-05-09T15:36:53.152Z"
   },
   {
    "duration": 446,
    "start_time": "2025-05-09T15:36:53.155Z"
   },
   {
    "duration": 52,
    "start_time": "2025-05-09T15:36:53.603Z"
   },
   {
    "duration": 592,
    "start_time": "2025-05-09T15:36:53.657Z"
   },
   {
    "duration": 3478,
    "start_time": "2025-05-09T15:36:54.251Z"
   },
   {
    "duration": 64,
    "start_time": "2025-05-09T15:36:57.730Z"
   },
   {
    "duration": 6,
    "start_time": "2025-05-09T15:36:57.796Z"
   },
   {
    "duration": 7644,
    "start_time": "2025-05-09T15:36:57.803Z"
   },
   {
    "duration": 1092,
    "start_time": "2025-05-09T15:37:05.448Z"
   },
   {
    "duration": 5,
    "start_time": "2025-05-09T15:37:06.541Z"
   },
   {
    "duration": 11,
    "start_time": "2025-05-09T15:37:06.548Z"
   },
   {
    "duration": 17,
    "start_time": "2025-05-09T15:37:06.560Z"
   },
   {
    "duration": 100,
    "start_time": "2025-05-09T15:37:06.579Z"
   },
   {
    "duration": 4,
    "start_time": "2025-05-09T15:37:06.681Z"
   },
   {
    "duration": 13,
    "start_time": "2025-05-09T15:37:06.686Z"
   },
   {
    "duration": 22,
    "start_time": "2025-05-09T15:37:06.701Z"
   },
   {
    "duration": 20,
    "start_time": "2025-05-09T15:37:06.725Z"
   },
   {
    "duration": 56,
    "start_time": "2025-05-09T15:37:06.746Z"
   },
   {
    "duration": 117,
    "start_time": "2025-05-09T15:37:06.804Z"
   },
   {
    "duration": 6785,
    "start_time": "2025-05-09T15:37:06.923Z"
   },
   {
    "duration": 3,
    "start_time": "2025-05-09T15:37:13.710Z"
   },
   {
    "duration": 661,
    "start_time": "2025-05-09T15:37:13.715Z"
   },
   {
    "duration": 3,
    "start_time": "2025-05-09T15:37:14.378Z"
   },
   {
    "duration": 15,
    "start_time": "2025-05-09T15:37:14.383Z"
   },
   {
    "duration": 34382,
    "start_time": "2025-05-09T15:37:14.400Z"
   },
   {
    "duration": 4,
    "start_time": "2025-05-09T15:37:48.786Z"
   },
   {
    "duration": 698,
    "start_time": "2025-05-09T15:37:48.791Z"
   },
   {
    "duration": 3,
    "start_time": "2025-05-09T15:37:49.491Z"
   },
   {
    "duration": 26,
    "start_time": "2025-05-09T15:37:49.495Z"
   },
   {
    "duration": 250366,
    "start_time": "2025-05-09T15:37:49.523Z"
   },
   {
    "duration": 4,
    "start_time": "2025-05-09T15:41:59.891Z"
   },
   {
    "duration": 1163,
    "start_time": "2025-05-09T15:41:59.897Z"
   },
   {
    "duration": 135,
    "start_time": "2025-05-09T15:42:01.062Z"
   },
   {
    "duration": 0,
    "start_time": "2025-05-09T15:42:01.198Z"
   },
   {
    "duration": 0,
    "start_time": "2025-05-09T15:42:01.199Z"
   },
   {
    "duration": 0,
    "start_time": "2025-05-09T15:42:01.200Z"
   },
   {
    "duration": 0,
    "start_time": "2025-05-09T15:42:01.201Z"
   },
   {
    "duration": 11,
    "start_time": "2025-05-09T15:42:34.099Z"
   },
   {
    "duration": 3,
    "start_time": "2025-05-09T15:43:44.755Z"
   },
   {
    "duration": 3,
    "start_time": "2025-05-09T15:43:45.327Z"
   },
   {
    "duration": 254603,
    "start_time": "2025-05-09T15:43:45.774Z"
   },
   {
    "duration": 10,
    "start_time": "2025-05-09T15:48:00.380Z"
   },
   {
    "duration": 0,
    "start_time": "2025-05-09T15:48:00.392Z"
   },
   {
    "duration": 467,
    "start_time": "2025-05-09T15:48:36.775Z"
   },
   {
    "duration": 3,
    "start_time": "2025-05-09T15:48:47.515Z"
   },
   {
    "duration": 2,
    "start_time": "2025-05-09T15:48:48.034Z"
   },
   {
    "duration": 502,
    "start_time": "2025-05-09T15:48:48.565Z"
   },
   {
    "duration": 3,
    "start_time": "2025-05-09T15:49:18.391Z"
   },
   {
    "duration": 440,
    "start_time": "2025-05-09T15:49:18.862Z"
   },
   {
    "duration": 3,
    "start_time": "2025-05-09T15:51:03.630Z"
   },
   {
    "duration": 4,
    "start_time": "2025-05-09T15:51:04.250Z"
   },
   {
    "duration": 3,
    "start_time": "2025-05-09T15:51:04.576Z"
   },
   {
    "duration": 157,
    "start_time": "2025-05-09T15:51:05.012Z"
   },
   {
    "duration": 5,
    "start_time": "2025-05-09T15:52:05.821Z"
   },
   {
    "duration": 368,
    "start_time": "2025-05-09T15:52:06.934Z"
   },
   {
    "duration": 12,
    "start_time": "2025-05-09T15:52:07.304Z"
   },
   {
    "duration": 13,
    "start_time": "2025-05-09T15:52:08.051Z"
   },
   {
    "duration": 41,
    "start_time": "2025-05-09T15:53:34.459Z"
   },
   {
    "duration": 3,
    "start_time": "2025-05-09T15:53:35.067Z"
   },
   {
    "duration": 3,
    "start_time": "2025-05-09T15:53:35.494Z"
   },
   {
    "duration": 4,
    "start_time": "2025-05-09T15:53:35.898Z"
   },
   {
    "duration": 353,
    "start_time": "2025-05-09T15:53:36.434Z"
   },
   {
    "duration": 21,
    "start_time": "2025-05-09T15:53:58.031Z"
   },
   {
    "duration": 4,
    "start_time": "2025-05-09T15:54:07.998Z"
   },
   {
    "duration": 20,
    "start_time": "2025-05-09T15:54:22.127Z"
   },
   {
    "duration": 5,
    "start_time": "2025-05-09T15:54:27.912Z"
   },
   {
    "duration": 12,
    "start_time": "2025-05-09T15:54:38.078Z"
   },
   {
    "duration": 15,
    "start_time": "2025-05-09T15:54:38.408Z"
   },
   {
    "duration": 4,
    "start_time": "2025-05-09T15:54:38.916Z"
   },
   {
    "duration": 3,
    "start_time": "2025-05-09T15:54:41.720Z"
   },
   {
    "duration": 4,
    "start_time": "2025-05-09T15:54:42.030Z"
   },
   {
    "duration": 3,
    "start_time": "2025-05-09T15:54:42.397Z"
   },
   {
    "duration": 303,
    "start_time": "2025-05-09T15:54:43.036Z"
   },
   {
    "duration": 3,
    "start_time": "2025-05-09T16:01:01.813Z"
   },
   {
    "duration": 28,
    "start_time": "2025-05-09T16:05:01.987Z"
   },
   {
    "duration": 3,
    "start_time": "2025-05-09T16:08:48.433Z"
   },
   {
    "duration": 18,
    "start_time": "2025-05-09T16:08:48.836Z"
   },
   {
    "duration": 10,
    "start_time": "2025-05-09T16:09:31.944Z"
   },
   {
    "duration": 3,
    "start_time": "2025-05-09T16:10:03.108Z"
   },
   {
    "duration": 3,
    "start_time": "2025-05-09T16:10:16.676Z"
   },
   {
    "duration": 76,
    "start_time": "2025-05-09T16:10:19.063Z"
   },
   {
    "duration": 11,
    "start_time": "2025-05-09T16:10:34.951Z"
   },
   {
    "duration": 92,
    "start_time": "2025-05-09T16:11:13.501Z"
   },
   {
    "duration": 4,
    "start_time": "2025-05-09T16:11:14.047Z"
   },
   {
    "duration": 338,
    "start_time": "2025-05-09T16:11:14.540Z"
   },
   {
    "duration": 761,
    "start_time": "2025-05-09T16:11:31.551Z"
   },
   {
    "duration": 3,
    "start_time": "2025-05-09T16:12:11.041Z"
   },
   {
    "duration": 12,
    "start_time": "2025-05-09T16:12:17.770Z"
   },
   {
    "duration": 3,
    "start_time": "2025-05-09T16:12:20.427Z"
   },
   {
    "duration": 3,
    "start_time": "2025-05-09T16:12:20.794Z"
   },
   {
    "duration": 320,
    "start_time": "2025-05-09T16:12:26.182Z"
   },
   {
    "duration": 11,
    "start_time": "2025-05-09T16:16:38.863Z"
   },
   {
    "duration": 10,
    "start_time": "2025-05-09T16:16:47.677Z"
   },
   {
    "duration": 11,
    "start_time": "2025-05-09T16:16:50.590Z"
   },
   {
    "duration": 213828,
    "start_time": "2025-05-09T16:16:57.363Z"
   },
   {
    "duration": 5800,
    "start_time": "2025-05-09T16:20:37.204Z"
   },
   {
    "duration": 13,
    "start_time": "2025-05-09T16:21:00.381Z"
   },
   {
    "duration": 69801,
    "start_time": "2025-05-09T16:21:00.777Z"
   },
   {
    "duration": 1774,
    "start_time": "2025-05-09T16:22:10.580Z"
   },
   {
    "duration": 4,
    "start_time": "2025-05-09T16:22:12.356Z"
   },
   {
    "duration": 7424,
    "start_time": "2025-05-09T16:22:43.711Z"
   },
   {
    "duration": 1435,
    "start_time": "2025-05-09T16:22:51.137Z"
   },
   {
    "duration": 3,
    "start_time": "2025-05-09T16:22:52.575Z"
   },
   {
    "duration": 950,
    "start_time": "2025-05-09T16:22:52.580Z"
   },
   {
    "duration": 629,
    "start_time": "2025-05-09T16:22:53.532Z"
   },
   {
    "duration": 85,
    "start_time": "2025-05-09T16:22:54.163Z"
   },
   {
    "duration": 1135,
    "start_time": "2025-05-09T16:22:54.249Z"
   },
   {
    "duration": 45,
    "start_time": "2025-05-09T16:22:55.386Z"
   },
   {
    "duration": 1126,
    "start_time": "2025-05-09T16:22:55.432Z"
   },
   {
    "duration": 3,
    "start_time": "2025-05-09T16:22:56.561Z"
   },
   {
    "duration": 21,
    "start_time": "2025-05-09T16:22:56.566Z"
   },
   {
    "duration": 70,
    "start_time": "2025-05-09T16:22:56.589Z"
   },
   {
    "duration": 65,
    "start_time": "2025-05-09T16:22:56.661Z"
   },
   {
    "duration": 104,
    "start_time": "2025-05-09T16:22:56.728Z"
   },
   {
    "duration": 162,
    "start_time": "2025-05-09T16:22:56.833Z"
   },
   {
    "duration": 3,
    "start_time": "2025-05-09T16:22:56.996Z"
   },
   {
    "duration": 512,
    "start_time": "2025-05-09T16:22:57.001Z"
   },
   {
    "duration": 66,
    "start_time": "2025-05-09T16:22:57.515Z"
   },
   {
    "duration": 644,
    "start_time": "2025-05-09T16:22:57.583Z"
   },
   {
    "duration": 3460,
    "start_time": "2025-05-09T16:22:58.229Z"
   },
   {
    "duration": 96,
    "start_time": "2025-05-09T16:23:01.692Z"
   },
   {
    "duration": 44,
    "start_time": "2025-05-09T16:23:01.791Z"
   },
   {
    "duration": 8374,
    "start_time": "2025-05-09T16:23:01.837Z"
   },
   {
    "duration": 1075,
    "start_time": "2025-05-09T16:23:10.214Z"
   },
   {
    "duration": 5,
    "start_time": "2025-05-09T16:23:11.291Z"
   },
   {
    "duration": 14,
    "start_time": "2025-05-09T16:23:11.298Z"
   },
   {
    "duration": 15,
    "start_time": "2025-05-09T16:23:11.313Z"
   },
   {
    "duration": 91,
    "start_time": "2025-05-09T16:23:11.331Z"
   },
   {
    "duration": 3,
    "start_time": "2025-05-09T16:23:11.424Z"
   },
   {
    "duration": 7,
    "start_time": "2025-05-09T16:23:11.429Z"
   },
   {
    "duration": 7,
    "start_time": "2025-05-09T16:23:11.437Z"
   },
   {
    "duration": 4,
    "start_time": "2025-05-09T16:23:11.445Z"
   },
   {
    "duration": 13,
    "start_time": "2025-05-09T16:23:11.451Z"
   },
   {
    "duration": 13,
    "start_time": "2025-05-09T16:23:11.465Z"
   },
   {
    "duration": 8027,
    "start_time": "2025-05-09T16:23:11.480Z"
   },
   {
    "duration": 5,
    "start_time": "2025-05-09T16:23:19.509Z"
   },
   {
    "duration": 743,
    "start_time": "2025-05-09T16:23:19.515Z"
   },
   {
    "duration": 16,
    "start_time": "2025-05-09T16:23:20.260Z"
   },
   {
    "duration": 61,
    "start_time": "2025-05-09T16:23:20.278Z"
   },
   {
    "duration": 37659,
    "start_time": "2025-05-09T16:23:20.341Z"
   },
   {
    "duration": 5,
    "start_time": "2025-05-09T16:23:58.001Z"
   },
   {
    "duration": 744,
    "start_time": "2025-05-09T16:23:58.007Z"
   },
   {
    "duration": 2,
    "start_time": "2025-05-09T16:23:58.753Z"
   },
   {
    "duration": 20,
    "start_time": "2025-05-09T16:23:58.757Z"
   },
   {
    "duration": 258826,
    "start_time": "2025-05-09T16:23:58.778Z"
   },
   {
    "duration": 6,
    "start_time": "2025-05-09T16:28:17.605Z"
   },
   {
    "duration": 1164,
    "start_time": "2025-05-09T16:28:17.612Z"
   },
   {
    "duration": 3,
    "start_time": "2025-05-09T16:28:18.778Z"
   },
   {
    "duration": 142,
    "start_time": "2025-05-09T16:28:18.782Z"
   },
   {
    "duration": 0,
    "start_time": "2025-05-09T16:28:18.926Z"
   },
   {
    "duration": 0,
    "start_time": "2025-05-09T16:28:18.927Z"
   },
   {
    "duration": 0,
    "start_time": "2025-05-09T16:28:18.928Z"
   },
   {
    "duration": 0,
    "start_time": "2025-05-09T16:28:18.930Z"
   },
   {
    "duration": 0,
    "start_time": "2025-05-09T16:28:18.931Z"
   },
   {
    "duration": 0,
    "start_time": "2025-05-09T16:28:18.932Z"
   },
   {
    "duration": 0,
    "start_time": "2025-05-09T16:28:18.933Z"
   },
   {
    "duration": 0,
    "start_time": "2025-05-09T16:28:18.934Z"
   },
   {
    "duration": 0,
    "start_time": "2025-05-09T16:28:18.935Z"
   },
   {
    "duration": 95,
    "start_time": "2025-05-09T16:34:32.537Z"
   },
   {
    "duration": 51981,
    "start_time": "2025-05-09T16:34:32.896Z"
   },
   {
    "duration": 2006,
    "start_time": "2025-05-09T16:35:24.879Z"
   },
   {
    "duration": 729,
    "start_time": "2025-05-09T16:38:28.966Z"
   },
   {
    "duration": 31219,
    "start_time": "2025-05-09T16:38:47.772Z"
   },
   {
    "duration": 3,
    "start_time": "2025-05-09T16:39:54.120Z"
   },
   {
    "duration": 31,
    "start_time": "2025-05-09T16:40:03.088Z"
   },
   {
    "duration": 14,
    "start_time": "2025-05-09T16:40:16.224Z"
   },
   {
    "duration": 3,
    "start_time": "2025-05-09T16:40:16.639Z"
   },
   {
    "duration": 28,
    "start_time": "2025-05-09T16:40:17.111Z"
   },
   {
    "duration": 219464,
    "start_time": "2025-05-09T16:40:21.815Z"
   },
   {
    "duration": 5744,
    "start_time": "2025-05-09T16:44:01.282Z"
   },
   {
    "duration": 9,
    "start_time": "2025-05-09T16:57:18.733Z"
   },
   {
    "duration": 5,
    "start_time": "2025-05-09T16:57:21.959Z"
   },
   {
    "duration": 186,
    "start_time": "2025-05-09T16:57:25.309Z"
   },
   {
    "duration": 7,
    "start_time": "2025-05-09T16:57:54.813Z"
   },
   {
    "duration": 14,
    "start_time": "2025-05-09T16:58:26.019Z"
   },
   {
    "duration": 23,
    "start_time": "2025-05-09T17:01:08.589Z"
   },
   {
    "duration": 518,
    "start_time": "2025-05-09T17:01:45.982Z"
   },
   {
    "duration": 500,
    "start_time": "2025-05-09T17:02:39.066Z"
   },
   {
    "duration": 492,
    "start_time": "2025-05-09T17:02:43.320Z"
   },
   {
    "duration": 741,
    "start_time": "2025-05-09T17:03:01.310Z"
   },
   {
    "duration": 477,
    "start_time": "2025-05-09T17:03:28.206Z"
   },
   {
    "duration": 576,
    "start_time": "2025-05-09T17:03:49.222Z"
   },
   {
    "duration": 13,
    "start_time": "2025-05-09T17:04:37.589Z"
   },
   {
    "duration": 475,
    "start_time": "2025-05-09T17:05:52.601Z"
   },
   {
    "duration": 525,
    "start_time": "2025-05-09T17:07:27.339Z"
   },
   {
    "duration": 10,
    "start_time": "2025-05-09T17:09:47.793Z"
   },
   {
    "duration": 8,
    "start_time": "2025-05-09T17:10:32.949Z"
   },
   {
    "duration": 14,
    "start_time": "2025-05-09T17:12:29.849Z"
   },
   {
    "duration": 22,
    "start_time": "2025-05-09T17:12:47.637Z"
   },
   {
    "duration": 23,
    "start_time": "2025-05-09T17:12:55.882Z"
   },
   {
    "duration": 10,
    "start_time": "2025-05-09T17:13:16.618Z"
   },
   {
    "duration": 10,
    "start_time": "2025-05-09T17:13:31.706Z"
   },
   {
    "duration": 11,
    "start_time": "2025-05-09T17:14:19.971Z"
   },
   {
    "duration": 12,
    "start_time": "2025-05-09T17:14:47.397Z"
   },
   {
    "duration": 3,
    "start_time": "2025-05-09T17:15:40.061Z"
   },
   {
    "duration": 84,
    "start_time": "2025-05-09T17:15:40.606Z"
   },
   {
    "duration": 187761,
    "start_time": "2025-05-09T17:15:53.429Z"
   },
   {
    "duration": 5431,
    "start_time": "2025-05-09T17:19:01.192Z"
   },
   {
    "duration": 10,
    "start_time": "2025-05-09T17:19:06.625Z"
   },
   {
    "duration": 5460,
    "start_time": "2025-05-09T17:19:26.807Z"
   },
   {
    "duration": 11,
    "start_time": "2025-05-09T17:19:35.047Z"
   },
   {
    "duration": 16,
    "start_time": "2025-05-09T17:19:52.067Z"
   },
   {
    "duration": 3,
    "start_time": "2025-05-09T17:19:53.364Z"
   },
   {
    "duration": 10,
    "start_time": "2025-05-09T17:19:56.149Z"
   },
   {
    "duration": 10,
    "start_time": "2025-05-09T17:20:03.057Z"
   },
   {
    "duration": 11550,
    "start_time": "2025-05-09T17:20:46.143Z"
   },
   {
    "duration": 70,
    "start_time": "2025-05-09T17:28:52.598Z"
   },
   {
    "duration": 7505,
    "start_time": "2025-05-09T17:42:36.917Z"
   },
   {
    "duration": 1403,
    "start_time": "2025-05-09T17:42:44.425Z"
   },
   {
    "duration": 4,
    "start_time": "2025-05-09T17:42:45.830Z"
   },
   {
    "duration": 957,
    "start_time": "2025-05-09T17:42:45.836Z"
   },
   {
    "duration": 596,
    "start_time": "2025-05-09T17:42:46.794Z"
   },
   {
    "duration": 85,
    "start_time": "2025-05-09T17:42:47.392Z"
   },
   {
    "duration": 1101,
    "start_time": "2025-05-09T17:42:47.479Z"
   },
   {
    "duration": 48,
    "start_time": "2025-05-09T17:42:48.582Z"
   },
   {
    "duration": 1079,
    "start_time": "2025-05-09T17:42:48.632Z"
   },
   {
    "duration": 2,
    "start_time": "2025-05-09T17:42:49.714Z"
   },
   {
    "duration": 21,
    "start_time": "2025-05-09T17:42:49.718Z"
   },
   {
    "duration": 92,
    "start_time": "2025-05-09T17:42:49.741Z"
   },
   {
    "duration": 84,
    "start_time": "2025-05-09T17:42:49.835Z"
   },
   {
    "duration": 70,
    "start_time": "2025-05-09T17:42:49.921Z"
   },
   {
    "duration": 173,
    "start_time": "2025-05-09T17:42:49.993Z"
   },
   {
    "duration": 1,
    "start_time": "2025-05-09T17:42:50.168Z"
   },
   {
    "duration": 488,
    "start_time": "2025-05-09T17:42:50.171Z"
   },
   {
    "duration": 70,
    "start_time": "2025-05-09T17:42:50.662Z"
   },
   {
    "duration": 617,
    "start_time": "2025-05-09T17:42:50.734Z"
   },
   {
    "duration": 3428,
    "start_time": "2025-05-09T17:42:51.353Z"
   },
   {
    "duration": 65,
    "start_time": "2025-05-09T17:42:54.783Z"
   },
   {
    "duration": 6,
    "start_time": "2025-05-09T17:42:54.849Z"
   },
   {
    "duration": 7832,
    "start_time": "2025-05-09T17:42:54.857Z"
   },
   {
    "duration": 1153,
    "start_time": "2025-05-09T17:43:02.691Z"
   },
   {
    "duration": 5,
    "start_time": "2025-05-09T17:43:03.846Z"
   },
   {
    "duration": 35,
    "start_time": "2025-05-09T17:43:03.853Z"
   },
   {
    "duration": 5,
    "start_time": "2025-05-09T17:43:03.890Z"
   },
   {
    "duration": 21,
    "start_time": "2025-05-09T17:43:03.899Z"
   },
   {
    "duration": 137,
    "start_time": "2025-05-09T17:43:03.922Z"
   },
   {
    "duration": 3,
    "start_time": "2025-05-09T17:43:04.061Z"
   },
   {
    "duration": 51,
    "start_time": "2025-05-09T17:43:04.065Z"
   },
   {
    "duration": 16,
    "start_time": "2025-05-09T17:43:04.118Z"
   },
   {
    "duration": 84,
    "start_time": "2025-05-09T17:43:04.135Z"
   },
   {
    "duration": 9,
    "start_time": "2025-05-09T17:43:04.222Z"
   },
   {
    "duration": 43,
    "start_time": "2025-05-09T17:43:04.233Z"
   },
   {
    "duration": 7705,
    "start_time": "2025-05-09T17:43:04.278Z"
   },
   {
    "duration": 4,
    "start_time": "2025-05-09T17:43:11.985Z"
   },
   {
    "duration": 703,
    "start_time": "2025-05-09T17:43:11.990Z"
   },
   {
    "duration": 511,
    "start_time": "2025-05-09T17:43:12.694Z"
   },
   {
    "duration": 10,
    "start_time": "2025-05-09T17:43:13.207Z"
   },
   {
    "duration": 34,
    "start_time": "2025-05-09T17:43:13.218Z"
   },
   {
    "duration": 18,
    "start_time": "2025-05-09T17:43:13.254Z"
   },
   {
    "duration": 37372,
    "start_time": "2025-05-09T17:43:13.274Z"
   },
   {
    "duration": 5,
    "start_time": "2025-05-09T17:43:50.648Z"
   },
   {
    "duration": 686,
    "start_time": "2025-05-09T17:43:50.654Z"
   },
   {
    "duration": 502,
    "start_time": "2025-05-09T17:43:51.342Z"
   },
   {
    "duration": 11,
    "start_time": "2025-05-09T17:43:51.846Z"
   },
   {
    "duration": 18,
    "start_time": "2025-05-09T17:43:51.859Z"
   },
   {
    "duration": 6,
    "start_time": "2025-05-09T17:43:51.879Z"
   },
   {
    "duration": 258583,
    "start_time": "2025-05-09T17:43:51.886Z"
   },
   {
    "duration": 6,
    "start_time": "2025-05-09T17:48:10.471Z"
   },
   {
    "duration": 1206,
    "start_time": "2025-05-09T17:48:10.479Z"
   },
   {
    "duration": 545,
    "start_time": "2025-05-09T17:48:11.687Z"
   },
   {
    "duration": 10,
    "start_time": "2025-05-09T17:48:12.234Z"
   },
   {
    "duration": 110,
    "start_time": "2025-05-09T17:48:12.245Z"
   },
   {
    "duration": 4,
    "start_time": "2025-05-09T17:48:12.357Z"
   },
   {
    "duration": 11,
    "start_time": "2025-05-09T17:48:12.362Z"
   },
   {
    "duration": 221608,
    "start_time": "2025-05-09T17:48:12.377Z"
   },
   {
    "duration": 4998,
    "start_time": "2025-05-09T17:51:53.987Z"
   },
   {
    "duration": 134,
    "start_time": "2025-05-09T17:51:58.986Z"
   },
   {
    "duration": 0,
    "start_time": "2025-05-09T17:51:59.122Z"
   },
   {
    "duration": 14,
    "start_time": "2025-05-09T17:57:04.755Z"
   },
   {
    "duration": 24,
    "start_time": "2025-05-09T17:57:08.538Z"
   },
   {
    "duration": 11,
    "start_time": "2025-05-09T17:57:21.891Z"
   },
   {
    "duration": 200,
    "start_time": "2025-05-09T17:58:42.653Z"
   },
   {
    "duration": 10460,
    "start_time": "2025-05-09T17:58:58.766Z"
   }
  ],
  "kernelspec": {
   "display_name": "Python 3 (ipykernel)",
   "language": "python",
   "name": "python3"
  },
  "language_info": {
   "codemirror_mode": {
    "name": "ipython",
    "version": 3
   },
   "file_extension": ".py",
   "mimetype": "text/x-python",
   "name": "python",
   "nbconvert_exporter": "python",
   "pygments_lexer": "ipython3",
   "version": "3.9.5"
  },
  "toc": {
   "base_numbering": 1,
   "nav_menu": {},
   "number_sections": true,
   "sideBar": true,
   "skip_h1_title": true,
   "title_cell": "Table of Contents",
   "title_sidebar": "Contents",
   "toc_cell": false,
   "toc_position": {},
   "toc_section_display": true,
   "toc_window_display": false
  }
 },
 "nbformat": 4,
 "nbformat_minor": 2
}
